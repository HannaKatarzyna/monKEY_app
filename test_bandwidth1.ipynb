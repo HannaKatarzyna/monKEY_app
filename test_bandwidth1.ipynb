{
 "cells": [
  {
   "cell_type": "code",
   "execution_count": 10,
   "metadata": {},
   "outputs": [
    {
     "name": "stdout",
     "output_type": "stream",
     "text": [
      "952\n",
      "{0.05, 1.95, 0.85, 1.45, 1.0, 1.75}\n",
      "98\n"
     ]
    }
   ],
   "source": [
    "lis = []\n",
    "with open(\"bandwidth_05_10.txt\", \"r\") as file1:\n",
    "    for line in file1.readlines():\n",
    "        a = [float(i) for i in line.split(\",\") if i.strip()]\n",
    "        lis.append(a[0])\n",
    "\n",
    "print(len(lis))\n",
    "print(set(lis))\n",
    "print(lis.count(1.0))"
   ]
  }
 ],
 "metadata": {
  "kernelspec": {
   "display_name": "project_venv",
   "language": "python",
   "name": "python3"
  },
  "language_info": {
   "codemirror_mode": {
    "name": "ipython",
    "version": 3
   },
   "file_extension": ".py",
   "mimetype": "text/x-python",
   "name": "python",
   "nbconvert_exporter": "python",
   "pygments_lexer": "ipython3",
   "version": "3.8.15"
  }
 },
 "nbformat": 4,
 "nbformat_minor": 2
}
