{
 "cells": [
  {
   "cell_type": "code",
   "execution_count": 1,
   "metadata": {},
   "outputs": [],
   "source": [
    "import pandas as pd\n",
    "import os\n",
    "import re\n",
    "import numpy as np\n",
    "import matplotlib.pyplot as plt\n",
    "from scipy.interpolate import interp1d\n",
    "from sklearn.model_selection import train_test_split\n",
    "from datetime import datetime\n",
    "from keystroke_module import *"
   ]
  },
  {
   "cell_type": "code",
   "execution_count": null,
   "metadata": {},
   "outputs": [],
   "source": [
    "# TO DO: kontrola bledow np. w konstruktorze klasy -?\n",
    "# zalozenie minimalnej dlugosci: 100 czy 150? (bo wynika ze w ciagu 6min z 1.datasetu najmniej to 107 i 117, reszta co najmniej 150 kikniec, srednio na osobe wychodzi 600)"
   ]
  },
  {
   "cell_type": "code",
   "execution_count": 6,
   "metadata": {},
   "outputs": [
    {
     "name": "stdout",
     "output_type": "stream",
     "text": [
      "Patients with PD:  42\n",
      "Patients without PD:  43\n"
     ]
    },
    {
     "data": {
      "image/png": "[encoded data removed]",
      "text/plain": [
       "<Figure size 400x300 with 1 Axes>"
      ]
     },
     "metadata": {},
     "output_type": "display_data"
    }
   ],
   "source": [
    "filename1 = 'D:/studia_mgrEIM/master_diploma/data/neuroqwerty/MIT-CS1PD/GT_DataPD_MIT-CS1PD.csv'\n",
    "filename2 = 'D:/studia_mgrEIM/master_diploma/data/neuroqwerty/MIT-CS2PD/GT_DataPD_MIT-CS2PD.csv'\n",
    "path = 'D:/studia_mgrEIM/master_diploma/data/neuroqwerty/all/'\n",
    "\n",
    "data1 = nqDataset(filename1, filename2)\n",
    "data1.show_stats()"
   ]
  },
  {
   "cell_type": "code",
   "execution_count": 7,
   "metadata": {},
   "outputs": [
    {
     "name": "stdout",
     "output_type": "stream",
     "text": [
      "0\n",
      "1\n",
      "2\n",
      "Not enough samples ( 4 ) in this window - it has to be omitted\n",
      "Not enough samples ( 4 ) in this window - it has to be omitted\n",
      "Special case - number of keys:  372\n",
      "3\n",
      "Special case - number of keys:  478\n",
      "4\n",
      "Special case - number of keys:  417\n",
      "5\n",
      "Not enough samples ( 1 ) in this window - it has to be omitted\n",
      "Not enough samples ( 1 ) in this window - it has to be omitted\n",
      "Special case - number of keys:  345\n",
      "6\n",
      "Not enough samples ( 4 ) in this window - it has to be omitted\n",
      "Not enough samples ( 4 ) in this window - it has to be omitted\n",
      "Special case - number of keys:  174\n",
      "7\n",
      "8\n",
      "9\n",
      "10\n",
      "11\n",
      "12\n",
      "Special case - number of keys:  345\n",
      "13\n",
      "Special case - number of keys:  460\n",
      "14\n",
      "Special case - number of keys:  301\n",
      "15\n",
      "16\n",
      "Special case - number of keys:  439\n",
      "17\n",
      "Special case - number of keys:  409\n",
      "18\n",
      "19\n",
      "Special case - number of keys:  428\n",
      "20\n",
      "21\n",
      "22\n",
      "23\n",
      "24\n",
      "Not enough samples ( 1 ) in this window - it has to be omitted\n",
      "Not enough samples ( 4 ) in this window - it has to be omitted\n",
      "Not enough samples ( 4 ) in this window - it has to be omitted\n",
      "Not enough samples ( 5 ) in this window - it has to be omitted\n",
      "Not enough samples ( 3 ) in this window - it has to be omitted\n",
      "Not enough samples ( 5 ) in this window - it has to be omitted\n",
      "Not enough samples ( 1 ) in this window - it has to be omitted\n",
      "Not enough samples ( 4 ) in this window - it has to be omitted\n",
      "Not enough samples ( 4 ) in this window - it has to be omitted\n",
      "Not enough samples ( 5 ) in this window - it has to be omitted\n",
      "Not enough samples ( 3 ) in this window - it has to be omitted\n",
      "Not enough samples ( 5 ) in this window - it has to be omitted\n",
      "Special case - number of keys:  117\n",
      "25\n",
      "Special case - number of keys:  468\n",
      "26\n",
      "Not enough samples ( 4 ) in this window - it has to be omitted\n",
      "Not enough samples ( 4 ) in this window - it has to be omitted\n",
      "27\n",
      "Not enough samples ( 5 ) in this window - it has to be omitted\n",
      "Not enough samples ( 5 ) in this window - it has to be omitted\n",
      "Not enough samples ( 0 ) in this window - it has to be omitted\n",
      "Not enough samples ( 3 ) in this window - it has to be omitted\n",
      "Not enough samples ( 1 ) in this window - it has to be omitted\n",
      "Not enough samples ( 5 ) in this window - it has to be omitted\n",
      "Not enough samples ( 5 ) in this window - it has to be omitted\n",
      "Not enough samples ( 5 ) in this window - it has to be omitted\n",
      "Not enough samples ( 0 ) in this window - it has to be omitted\n",
      "Not enough samples ( 3 ) in this window - it has to be omitted\n",
      "Not enough samples ( 1 ) in this window - it has to be omitted\n",
      "Not enough samples ( 5 ) in this window - it has to be omitted\n",
      "Special case - number of keys:  173\n",
      "28\n",
      "Not enough samples ( 5 ) in this window - it has to be omitted\n",
      "Not enough samples ( 5 ) in this window - it has to be omitted\n",
      "Special case - number of keys:  333\n",
      "29\n",
      "Special case - number of keys:  353\n",
      "30\n",
      "31\n",
      "32\n",
      "33\n",
      "34\n",
      "Not enough samples ( 3 ) in this window - it has to be omitted\n",
      "Not enough samples ( 0 ) in this window - it has to be omitted\n",
      "Not enough samples ( 4 ) in this window - it has to be omitted\n",
      "Not enough samples ( 1 ) in this window - it has to be omitted\n",
      "Not enough samples ( 3 ) in this window - it has to be omitted\n",
      "Not enough samples ( 0 ) in this window - it has to be omitted\n",
      "Not enough samples ( 4 ) in this window - it has to be omitted\n",
      "Not enough samples ( 1 ) in this window - it has to be omitted\n",
      "Special case - number of keys:  350\n",
      "35\n",
      "36\n",
      "37\n",
      "38\n",
      "39\n",
      "40\n",
      "41\n",
      "Not enough samples ( 0 ) in this window - it has to be omitted\n",
      "Not enough samples ( 1 ) in this window - it has to be omitted\n",
      "Not enough samples ( 0 ) in this window - it has to be omitted\n",
      "Not enough samples ( 1 ) in this window - it has to be omitted\n",
      "42\n",
      "Not enough samples ( 1 ) in this window - it has to be omitted\n",
      "Not enough samples ( 1 ) in this window - it has to be omitted\n",
      "43\n",
      "44\n",
      "Not enough samples ( 4 ) in this window - it has to be omitted\n",
      "Not enough samples ( 1 ) in this window - it has to be omitted\n",
      "Not enough samples ( 4 ) in this window - it has to be omitted\n",
      "Not enough samples ( 1 ) in this window - it has to be omitted\n",
      "Special case - number of keys:  299\n",
      "45\n",
      "Not enough samples ( 2 ) in this window - it has to be omitted\n",
      "Not enough samples ( 2 ) in this window - it has to be omitted\n",
      "46\n",
      "Not enough samples ( 2 ) in this window - it has to be omitted\n",
      "Not enough samples ( 2 ) in this window - it has to be omitted\n",
      "Special case - number of keys:  337\n",
      "47\n",
      "Special case - number of keys:  377\n",
      "48\n",
      "49\n",
      "50\n",
      "Special case - number of keys:  352\n",
      "51\n",
      "52\n",
      "53\n",
      "Not enough samples ( 5 ) in this window - it has to be omitted\n",
      "Not enough samples ( 4 ) in this window - it has to be omitted\n",
      "Not enough samples ( 4 ) in this window - it has to be omitted\n",
      "Not enough samples ( 0 ) in this window - it has to be omitted\n",
      "Not enough samples ( 1 ) in this window - it has to be omitted\n",
      "Not enough samples ( 3 ) in this window - it has to be omitted\n",
      "Not enough samples ( 5 ) in this window - it has to be omitted\n",
      "Not enough samples ( 5 ) in this window - it has to be omitted\n",
      "Not enough samples ( 4 ) in this window - it has to be omitted\n",
      "Not enough samples ( 4 ) in this window - it has to be omitted\n",
      "Not enough samples ( 0 ) in this window - it has to be omitted\n",
      "Not enough samples ( 1 ) in this window - it has to be omitted\n",
      "Not enough samples ( 3 ) in this window - it has to be omitted\n",
      "Not enough samples ( 5 ) in this window - it has to be omitted\n",
      "Special case - number of keys:  107\n",
      "54\n",
      "55\n",
      "56\n",
      "Not enough samples ( 1 ) in this window - it has to be omitted\n",
      "Not enough samples ( 5 ) in this window - it has to be omitted\n",
      "Not enough samples ( 1 ) in this window - it has to be omitted\n",
      "Not enough samples ( 5 ) in this window - it has to be omitted\n",
      "Not enough samples ( 1 ) in this window - it has to be omitted\n",
      "Not enough samples ( 5 ) in this window - it has to be omitted\n",
      "Not enough samples ( 1 ) in this window - it has to be omitted\n",
      "Not enough samples ( 5 ) in this window - it has to be omitted\n",
      "Special case - number of keys:  150\n",
      "57\n",
      "Special case - number of keys:  386\n",
      "58\n",
      "(59, 22)\n"
     ]
    }
   ],
   "source": [
    "data1.prepare_dataset(path, feature_extract=2)\n",
    "print(data1.trainset.shape)"
   ]
  },
  {
   "cell_type": "code",
   "execution_count": 8,
   "metadata": {},
   "outputs": [
    {
     "data": {
      "text/plain": [
       "array([1., 0., 1., 1., 0., 0., 1., 0., 1., 0., 0., 0., 0., 1., 1., 0., 0.,\n",
       "       0., 0., 1., 1., 0., 1., 1., 0., 1., 0., 1., 1., 0., 0., 0., 0., 0.,\n",
       "       1., 1., 1., 1., 0., 0., 1., 0., 0., 0., 0., 1., 1., 0., 1., 0., 1.,\n",
       "       0., 0., 0., 1., 1., 0., 1., 1.])"
      ]
     },
     "execution_count": 8,
     "metadata": {},
     "output_type": "execute_result"
    }
   ],
   "source": [
    "data1.train_ground_truth"
   ]
  },
  {
   "cell_type": "code",
   "execution_count": 5,
   "metadata": {},
   "outputs": [],
   "source": [
    "class tappyDataset:\n",
    "    def __init__(self, path1, path2):\n",
    "\n",
    "        # load data\n",
    "        self.files_list1 = os.listdir(path1)\n",
    "        self.files_list2 = os.listdir(path2)\n",
    "        users = [el.split(\"_\")[1].split(\".\")[0] for el in self.files_list1]\n",
    "        df = pd.DataFrame(data=users, columns=['pID'])\n",
    "\n",
    "        for i, el in enumerate(df['pID']):\n",
    "            temp = [x for x in self.files_list2 if x.startswith(el)]\n",
    "            if len(temp):\n",
    "                df.loc[[i], 'files'] = pd.Series([temp], index=df.index[[i]])\n",
    "                with open(path1 + self.files_list1[i], 'r') as f:\n",
    "                    for line in f:\n",
    "                        if 'Parkinsons' in line:\n",
    "                            read_info = line.strip().split(\": \")\n",
    "                            df.loc[[i], 'Parkinsons'] = read_info[1]\n",
    "\n",
    "        df.dropna(inplace=True)\n",
    "        df['Parkinsons'] = df['Parkinsons'].map({'True': 1.0, 'False': 0.0})\n",
    "\n",
    "        self.user_info = df\n",
    "\n",
    "        # split for train and test\n",
    "        self.train_df, self.test_df = train_test_split(\n",
    "            self.user_info, test_size=0.3, random_state=42)\n",
    "\n",
    "        self.train_ground_truth = self.train_df['Parkinsons'].to_numpy()\n",
    "        self.test_ground_truth = self.test_df['Parkinsons'].to_numpy()\n",
    "        self.trainset = None\n",
    "        self.testset = None\n",
    "\n",
    "    def show_stats(self):\n",
    "        print('Patients with PD: ', len(\n",
    "            self.user_info[self.user_info['Parkinsons'] == 1.0]))\n",
    "        print('Patients without PD: ', len(\n",
    "            self.user_info[self.user_info['Parkinsons'] == 0.0]))\n",
    "        plt.figure(figsize=[4, 3])\n",
    "        sns.countplot(x='Parkinsons', data=self.user_info)\n",
    "        plt.xlabel('Parkinson\\'s disease')\n",
    "\n",
    "    @staticmethod\n",
    "    def load_record(filename):\n",
    "        df = pd.read_csv(filename, delimiter=\"\\t\", index_col=False, header=None, names=[\n",
    "                         'User', 'Date', 'Timestamp', 'Hand', 'holdTime', 'Direction', 'flightTime', 'latencyTime'])\n",
    "\n",
    "        df.drop(columns=['User'], inplace=True)\n",
    "        df.drop(columns=['Direction'], inplace=True)\n",
    "\n",
    "        df.iloc[:, -3:] = df.iloc[:, -\n",
    "                                  3:].apply(lambda x: x.lstrip('0') if type(x) == str else x)\n",
    "        df.iloc[:, -3:] = pd.to_numeric(df.iloc[:, -3:].stack(),\n",
    "                                        errors='coerce').unstack()\n",
    "        df.iloc[:, -3:] = df.iloc[:, -3:].apply(lambda x: x/1000)\n",
    "\n",
    "        grouped_data = df.groupby('Date').agg(list)\n",
    "        grouped_data['Length'] = grouped_data['Timestamp'].apply(len)\n",
    "\n",
    "        idx = grouped_data['Length'].idxmax()\n",
    "        ex_rec1 = df[df['Date'] == idx].copy()\n",
    "\n",
    "        try:\n",
    "            ex_rec1['Hour'] = ex_rec1['Timestamp'].apply(\n",
    "                lambda x: datetime.strptime(x, '%H:%M:%S.%f').hour)\n",
    "        except ValueError as ve:\n",
    "            # TO DO: check procedure of format in column, remove wrong values\n",
    "            print('Procedure')\n",
    "            # ex_rec1['if_correct_form'] = ex_rec1['Timestamp'].apply(lambda x: is_date_parsing(x))\n",
    "            temp = ex_rec1['Timestamp'].apply(lambda x: is_date_parsing(x))\n",
    "            ex_rec1.drop(ex_rec1[temp == False].index, inplace = True)\n",
    "            ex_rec1['Hour'] = ex_rec1['Timestamp'].apply(\n",
    "                lambda x: datetime.strptime(x, '%H:%M:%S.%f').hour)\n",
    "\n",
    "        grouped_data = ex_rec1.groupby('Hour').agg(list)\n",
    "        grouped_data['Length'] = grouped_data['Date'].apply(len)\n",
    "\n",
    "        # jeśli jest odpowiednia liczba znakow\n",
    "        if grouped_data['Length'].max() > 100:\n",
    "            idx = grouped_data['Length'].idxmax()\n",
    "            ex_rec2 = ex_rec1[ex_rec1['Hour'] == idx].copy()\n",
    "            ex_rec2.drop('Hour', axis=1, inplace=True)\n",
    "            ex_rec2.reset_index(inplace=True)\n",
    "\n",
    "            ex_rec2['Timestamp'] = ex_rec2['Timestamp'].apply(\n",
    "                lambda x: datetime.strptime(x, '%H:%M:%S.%f'))\n",
    "            ex_rec2['timeLapse'] = count_time_from_0(ex_rec2)\n",
    "        else:\n",
    "            print('Not enough keystroke events!  ', grouped_data['Length'].max())\n",
    "            ex_rec2 = []\n",
    "            \n",
    "        return ex_rec2\n",
    "\n",
    "    def prepare_dataset(self, path, feature_extract=2):\n",
    "\n",
    "        flag_fatal = [0,0]\n",
    "        if feature_extract == 2:\n",
    "            self.trainset = np.zeros([len(self.train_df), 22])\n",
    "\n",
    "        for i, row in self.train_df.reset_index(inplace=False).iterrows():\n",
    "            # .iloc[45:]\n",
    "            # DO NOT iterate: https://stackoverflow.com/questions/16476924/how-to-iterate-over-rows-in-a-dataframe-in-pandas\n",
    "            # use .apply() instead\n",
    "\n",
    "            print(i)\n",
    "            # take first file not all, but if not enough ...\n",
    "            df_ID = self.load_record(path + row['files'][0])\n",
    "            if len(df_ID) == 0:\n",
    "                if len(row['files']) > 1:\n",
    "                    print('Another file was found!')\n",
    "                    df_ID = self.load_record(path + row['files'][1])\n",
    "                    if len(df_ID) == 0:\n",
    "                        print('Fatal - record not useful, with gt: ', self.train_ground_truth[i])\n",
    "                        flag_fatal[0] += 1\n",
    "                        flag_fatal[1] += self.train_ground_truth[i]\n",
    "                        continue\n",
    "                    else:\n",
    "                        print('Success')\n",
    "                else:\n",
    "                    print('Only 1 file is available!')\n",
    "                    continue\n",
    "\n",
    "            df_ID = filter_record(df_ID, key_filter=False)\n",
    "\n",
    "            if feature_extract == 2:\n",
    "                va_HT, rate = feature_extract_method_2(\n",
    "                    df_ID, dynamic_feature='holdTime', time_feature='timeLapse', assumed_length=360, window_time=20)\n",
    "                if rate>=0.5: \n",
    "                    flag_fatal[0] += 1\n",
    "                    flag_fatal[1] += self.train_ground_truth[i]\n",
    "                # va_NFT, _ = feature_extract_method_2(\n",
    "                #     df_ID, dynamic_feature='flightTime',  time_feature='timeLapse', assumed_length=360, window_time=20, normalize_option=True)\n",
    "                # self.trainset[i, :] = np.concatenate([va_HT, va_NFT], axis=0)\n",
    "\n",
    "        print('flag_fatal: ', flag_fatal)"
   ]
  },
  {
   "cell_type": "code",
   "execution_count": 6,
   "metadata": {},
   "outputs": [
    {
     "name": "stdout",
     "output_type": "stream",
     "text": [
      "Patients with PD:  162\n",
      "Patients without PD:  55\n"
     ]
    },
    {
     "data": {
      "image/png": "[encoded data removed]",
      "text/plain": [
       "<Figure size 400x300 with 1 Axes>"
      ]
     },
     "metadata": {},
     "output_type": "display_data"
    }
   ],
   "source": [
    "directory_path1 = 'D:/studia_mgrEIM/master_diploma/data/tappy-keystroke-data-1.0.0/Archived_users/'\n",
    "directory_path2 = 'D:/studia_mgrEIM/master_diploma/data/tappy-keystroke-data-1.0.0/Tappy_Data/'\n",
    "\n",
    "data2 = tappyDataset(directory_path1, directory_path2)\n",
    "data2.show_stats()"
   ]
  },
  {
   "cell_type": "code",
   "execution_count": 7,
   "metadata": {},
   "outputs": [
    {
     "name": "stdout",
     "output_type": "stream",
     "text": [
      "0\n",
      "Flag / [% of all]:  9    0.5\n",
      "Flag / [% of all]:  9    0.5\n",
      "1\n",
      "Not enough keystroke events!   65\n",
      "Another file was found!\n",
      "Not enough keystroke events!   36\n",
      "Fatal - record not useful, with gt:  1.0\n",
      "2\n"
     ]
    },
    {
     "name": "stderr",
     "output_type": "stream",
     "text": [
      "C:\\Users\\Hanna\\AppData\\Local\\Temp\\ipykernel_11064\\55228070.py:53: FutureWarning: In a future version, `df.iloc[:, i] = newvals` will attempt to set the values inplace instead of always setting a new array. To retain the old behavior, use either `df[df.columns[i]] = newvals` or, if columns are non-unique, `df.isetitem(i, newvals)`\n",
      "  df.iloc[:, -3:] = pd.to_numeric(df.iloc[:, -3:].stack(),\n"
     ]
    },
    {
     "name": "stdout",
     "output_type": "stream",
     "text": [
      "Flag / [% of all]:  10    0.5555555555555556\n",
      "Flag / [% of all]:  10    0.5555555555555556\n",
      "3\n",
      "Flag / [% of all]:  18    1.0\n",
      "Flag / [% of all]:  18    1.0\n",
      "4\n",
      "Flag / [% of all]:  11    0.6111111111111112\n",
      "Flag / [% of all]:  11    0.6111111111111112\n",
      "5\n",
      "Not enough keystroke events!   74\n",
      "Only 1 file is available!\n",
      "6\n",
      "Not enough keystroke events!   9\n",
      "Only 1 file is available!\n",
      "7\n",
      "Not enough keystroke events!   92\n",
      "Another file was found!\n",
      "Not enough keystroke events!   58\n",
      "Fatal - record not useful, with gt:  1.0\n",
      "8\n"
     ]
    },
    {
     "name": "stderr",
     "output_type": "stream",
     "text": [
      "C:\\Users\\Hanna\\AppData\\Local\\Temp\\ipykernel_11064\\55228070.py:53: FutureWarning: In a future version, `df.iloc[:, i] = newvals` will attempt to set the values inplace instead of always setting a new array. To retain the old behavior, use either `df[df.columns[i]] = newvals` or, if columns are non-unique, `df.isetitem(i, newvals)`\n",
      "  df.iloc[:, -3:] = pd.to_numeric(df.iloc[:, -3:].stack(),\n"
     ]
    },
    {
     "name": "stdout",
     "output_type": "stream",
     "text": [
      "Not enough keystroke events!   92\n",
      "Only 1 file is available!\n",
      "9\n",
      "Flag / [% of all]:  12    0.6666666666666666\n",
      "Flag / [% of all]:  12    0.6666666666666666\n",
      "10\n"
     ]
    },
    {
     "name": "stderr",
     "output_type": "stream",
     "text": [
      "C:\\Users\\Hanna\\AppData\\Local\\Temp\\ipykernel_11064\\55228070.py:53: FutureWarning: In a future version, `df.iloc[:, i] = newvals` will attempt to set the values inplace instead of always setting a new array. To retain the old behavior, use either `df[df.columns[i]] = newvals` or, if columns are non-unique, `df.isetitem(i, newvals)`\n",
      "  df.iloc[:, -3:] = pd.to_numeric(df.iloc[:, -3:].stack(),\n"
     ]
    },
    {
     "name": "stdout",
     "output_type": "stream",
     "text": [
      "Flag / [% of all]:  3    0.16666666666666666\n",
      "Flag / [% of all]:  3    0.16666666666666666\n",
      "11\n",
      "Flag / [% of all]:  18    1.0\n",
      "Flag / [% of all]:  18    1.0\n",
      "12\n",
      "Flag / [% of all]:  9    0.5\n",
      "Flag / [% of all]:  9    0.5\n",
      "13\n"
     ]
    },
    {
     "name": "stderr",
     "output_type": "stream",
     "text": [
      "C:\\Users\\Hanna\\AppData\\Local\\Temp\\ipykernel_11064\\55228070.py:53: FutureWarning: In a future version, `df.iloc[:, i] = newvals` will attempt to set the values inplace instead of always setting a new array. To retain the old behavior, use either `df[df.columns[i]] = newvals` or, if columns are non-unique, `df.isetitem(i, newvals)`\n",
      "  df.iloc[:, -3:] = pd.to_numeric(df.iloc[:, -3:].stack(),\n"
     ]
    },
    {
     "name": "stdout",
     "output_type": "stream",
     "text": [
      "Flag / [% of all]:  4    0.2222222222222222\n",
      "Flag / [% of all]:  4    0.2222222222222222\n",
      "14\n",
      "Not enough keystroke events!   77\n",
      "Another file was found!\n",
      "Success\n",
      "Flag / [% of all]:  15    0.8333333333333334\n",
      "Flag / [% of all]:  15    0.8333333333333334\n",
      "15\n",
      "Not enough keystroke events!   88\n",
      "Another file was found!\n",
      "Success\n",
      "Flag / [% of all]:  18    1.0\n",
      "Flag / [% of all]:  18    1.0\n",
      "16\n",
      "Flag / [% of all]:  16    0.8888888888888888\n",
      "Flag / [% of all]:  16    0.8888888888888888\n",
      "17\n",
      "Flag / [% of all]:  11    0.6111111111111112\n",
      "Flag / [% of all]:  11    0.6111111111111112\n",
      "18\n",
      "Not enough keystroke events!   95\n",
      "Only 1 file is available!\n",
      "19\n",
      "Flag / [% of all]:  15    0.8333333333333334\n",
      "Flag / [% of all]:  15    0.8333333333333334\n",
      "20\n",
      "Flag / [% of all]:  17    0.9444444444444444\n",
      "Flag / [% of all]:  17    0.9444444444444444\n",
      "21\n",
      "Flag / [% of all]:  17    0.9444444444444444\n",
      "Flag / [% of all]:  17    0.9444444444444444\n",
      "22\n",
      "Flag / [% of all]:  1    0.05555555555555555\n",
      "Flag / [% of all]:  1    0.05555555555555555\n",
      "23\n",
      "Flag / [% of all]:  16    0.8888888888888888\n",
      "Flag / [% of all]:  16    0.8888888888888888\n",
      "24\n",
      "Not enough keystroke events!   42\n",
      "Only 1 file is available!\n",
      "25\n",
      "Flag / [% of all]:  13    0.7222222222222222\n",
      "Flag / [% of all]:  13    0.7222222222222222\n",
      "26\n",
      "Flag / [% of all]:  2    0.1111111111111111\n",
      "Flag / [% of all]:  2    0.1111111111111111\n",
      "27\n",
      "Flag / [% of all]:  18    1.0\n",
      "Flag / [% of all]:  18    1.0\n",
      "28\n",
      "Flag / [% of all]:  9    0.5\n",
      "Flag / [% of all]:  9    0.5\n",
      "29\n",
      "Flag / [% of all]:  8    0.4444444444444444\n",
      "Flag / [% of all]:  8    0.4444444444444444\n",
      "30\n",
      "Flag / [% of all]:  17    0.9444444444444444\n",
      "Flag / [% of all]:  17    0.9444444444444444\n",
      "31\n",
      "Flag / [% of all]:  15    0.8333333333333334\n",
      "Flag / [% of all]:  15    0.8333333333333334\n",
      "32\n",
      "Flag / [% of all]:  17    0.9444444444444444\n",
      "Flag / [% of all]:  17    0.9444444444444444\n",
      "33\n",
      "Flag / [% of all]:  17    0.9444444444444444\n",
      "Flag / [% of all]:  17    0.9444444444444444\n",
      "34\n",
      "Not enough keystroke events!   9\n",
      "Only 1 file is available!\n",
      "35\n",
      "Not enough keystroke events!   100\n",
      "Only 1 file is available!\n",
      "36\n",
      "Not enough keystroke events!   54\n",
      "Only 1 file is available!\n",
      "37\n",
      "Flag / [% of all]:  13    0.7222222222222222\n",
      "Flag / [% of all]:  13    0.7222222222222222\n",
      "38\n",
      "Flag / [% of all]:  15    0.8333333333333334\n",
      "Flag / [% of all]:  15    0.8333333333333334\n",
      "39\n",
      "Flag / [% of all]:  11    0.6111111111111112\n",
      "Flag / [% of all]:  11    0.6111111111111112\n",
      "40\n",
      "Flag / [% of all]:  8    0.4444444444444444\n",
      "Flag / [% of all]:  8    0.4444444444444444\n",
      "41\n",
      "Flag / [% of all]:  7    0.3888888888888889\n",
      "Flag / [% of all]:  7    0.3888888888888889\n",
      "42\n"
     ]
    },
    {
     "name": "stderr",
     "output_type": "stream",
     "text": [
      "C:\\Users\\Hanna\\AppData\\Local\\Temp\\ipykernel_11064\\55228070.py:53: FutureWarning: In a future version, `df.iloc[:, i] = newvals` will attempt to set the values inplace instead of always setting a new array. To retain the old behavior, use either `df[df.columns[i]] = newvals` or, if columns are non-unique, `df.isetitem(i, newvals)`\n",
      "  df.iloc[:, -3:] = pd.to_numeric(df.iloc[:, -3:].stack(),\n"
     ]
    },
    {
     "name": "stdout",
     "output_type": "stream",
     "text": [
      "Flag / [% of all]:  6    0.3333333333333333\n",
      "Flag / [% of all]:  6    0.3333333333333333\n",
      "43\n",
      "Flag / [% of all]:  2    0.1111111111111111\n",
      "Flag / [% of all]:  2    0.1111111111111111\n",
      "44\n",
      "Not enough keystroke events!   39\n",
      "Another file was found!\n",
      "Not enough keystroke events!   65\n",
      "Fatal - record not useful, with gt:  1.0\n",
      "45\n",
      "Flag / [% of all]:  3    0.16666666666666666\n",
      "Flag / [% of all]:  3    0.16666666666666666\n",
      "46\n",
      "Not enough keystroke events!   42\n",
      "Only 1 file is available!\n",
      "47\n"
     ]
    },
    {
     "name": "stderr",
     "output_type": "stream",
     "text": [
      "C:\\Users\\Hanna\\AppData\\Local\\Temp\\ipykernel_11064\\55228070.py:53: FutureWarning: In a future version, `df.iloc[:, i] = newvals` will attempt to set the values inplace instead of always setting a new array. To retain the old behavior, use either `df[df.columns[i]] = newvals` or, if columns are non-unique, `df.isetitem(i, newvals)`\n",
      "  df.iloc[:, -3:] = pd.to_numeric(df.iloc[:, -3:].stack(),\n"
     ]
    },
    {
     "name": "stdout",
     "output_type": "stream",
     "text": [
      "Flag / [% of all]:  0    0.0\n",
      "Flag / [% of all]:  0    0.0\n",
      "48\n"
     ]
    },
    {
     "name": "stderr",
     "output_type": "stream",
     "text": [
      "C:\\Users\\Hanna\\AppData\\Local\\Temp\\ipykernel_11064\\55228070.py:53: FutureWarning: In a future version, `df.iloc[:, i] = newvals` will attempt to set the values inplace instead of always setting a new array. To retain the old behavior, use either `df[df.columns[i]] = newvals` or, if columns are non-unique, `df.isetitem(i, newvals)`\n",
      "  df.iloc[:, -3:] = pd.to_numeric(df.iloc[:, -3:].stack(),\n"
     ]
    },
    {
     "name": "stdout",
     "output_type": "stream",
     "text": [
      "Flag / [% of all]:  6    0.3333333333333333\n",
      "Flag / [% of all]:  6    0.3333333333333333\n",
      "49\n",
      "Procedure\n"
     ]
    },
    {
     "name": "stderr",
     "output_type": "stream",
     "text": [
      "C:\\Users\\Hanna\\AppData\\Local\\Temp\\ipykernel_11064\\55228070.py:53: FutureWarning: In a future version, `df.iloc[:, i] = newvals` will attempt to set the values inplace instead of always setting a new array. To retain the old behavior, use either `df[df.columns[i]] = newvals` or, if columns are non-unique, `df.isetitem(i, newvals)`\n",
      "  df.iloc[:, -3:] = pd.to_numeric(df.iloc[:, -3:].stack(),\n"
     ]
    },
    {
     "name": "stdout",
     "output_type": "stream",
     "text": [
      "Flag / [% of all]:  13    0.7222222222222222\n",
      "Flag / [% of all]:  13    0.7222222222222222\n",
      "50\n",
      "Flag / [% of all]:  15    0.8333333333333334\n",
      "Flag / [% of all]:  15    0.8333333333333334\n",
      "51\n",
      "Not enough keystroke events!   62\n",
      "Another file was found!\n"
     ]
    },
    {
     "name": "stderr",
     "output_type": "stream",
     "text": [
      "C:\\Users\\Hanna\\AppData\\Local\\Temp\\ipykernel_11064\\55228070.py:53: FutureWarning: In a future version, `df.iloc[:, i] = newvals` will attempt to set the values inplace instead of always setting a new array. To retain the old behavior, use either `df[df.columns[i]] = newvals` or, if columns are non-unique, `df.isetitem(i, newvals)`\n",
      "  df.iloc[:, -3:] = pd.to_numeric(df.iloc[:, -3:].stack(),\n"
     ]
    },
    {
     "name": "stdout",
     "output_type": "stream",
     "text": [
      "Success\n",
      "Flag / [% of all]:  12    0.6666666666666666\n",
      "Flag / [% of all]:  12    0.6666666666666666\n",
      "52\n",
      "Not enough keystroke events!   21\n",
      "Another file was found!\n",
      "Not enough keystroke events!   27\n",
      "Fatal - record not useful, with gt:  1.0\n",
      "53\n",
      "Flag / [% of all]:  5    0.2777777777777778\n",
      "Flag / [% of all]:  5    0.2777777777777778\n",
      "54\n",
      "Flag / [% of all]:  9    0.5\n",
      "Flag / [% of all]:  9    0.5\n",
      "55\n",
      "Flag / [% of all]:  11    0.6111111111111112\n",
      "Flag / [% of all]:  11    0.6111111111111112\n",
      "56\n",
      "Not enough keystroke events!   92\n",
      "Only 1 file is available!\n",
      "57\n",
      "Flag / [% of all]:  7    0.3888888888888889\n",
      "Flag / [% of all]:  7    0.3888888888888889\n",
      "58\n"
     ]
    },
    {
     "name": "stderr",
     "output_type": "stream",
     "text": [
      "C:\\Users\\Hanna\\AppData\\Local\\Temp\\ipykernel_11064\\55228070.py:53: FutureWarning: In a future version, `df.iloc[:, i] = newvals` will attempt to set the values inplace instead of always setting a new array. To retain the old behavior, use either `df[df.columns[i]] = newvals` or, if columns are non-unique, `df.isetitem(i, newvals)`\n",
      "  df.iloc[:, -3:] = pd.to_numeric(df.iloc[:, -3:].stack(),\n"
     ]
    },
    {
     "name": "stdout",
     "output_type": "stream",
     "text": [
      "Flag / [% of all]:  16    0.8888888888888888\n",
      "Flag / [% of all]:  16    0.8888888888888888\n",
      "59\n"
     ]
    },
    {
     "name": "stderr",
     "output_type": "stream",
     "text": [
      "C:\\Users\\Hanna\\AppData\\Local\\Temp\\ipykernel_11064\\55228070.py:45: DtypeWarning: Columns (4,6) have mixed types. Specify dtype option on import or set low_memory=False.\n",
      "  df = pd.read_csv(filename, delimiter=\"\\t\", index_col=False, header=None, names=[\n",
      "C:\\Users\\Hanna\\AppData\\Local\\Temp\\ipykernel_11064\\55228070.py:53: FutureWarning: In a future version, `df.iloc[:, i] = newvals` will attempt to set the values inplace instead of always setting a new array. To retain the old behavior, use either `df[df.columns[i]] = newvals` or, if columns are non-unique, `df.isetitem(i, newvals)`\n",
      "  df.iloc[:, -3:] = pd.to_numeric(df.iloc[:, -3:].stack(),\n"
     ]
    },
    {
     "name": "stdout",
     "output_type": "stream",
     "text": [
      "Flag / [% of all]:  11    0.6111111111111112\n",
      "Flag / [% of all]:  11    0.6111111111111112\n",
      "60\n",
      "Flag / [% of all]:  14    0.7777777777777778\n",
      "Flag / [% of all]:  14    0.7777777777777778\n",
      "61\n",
      "Flag / [% of all]:  2    0.1111111111111111\n",
      "Flag / [% of all]:  2    0.1111111111111111\n",
      "62\n",
      "Flag / [% of all]:  12    0.6666666666666666\n",
      "Flag / [% of all]:  12    0.6666666666666666\n",
      "63\n"
     ]
    },
    {
     "name": "stderr",
     "output_type": "stream",
     "text": [
      "C:\\Users\\Hanna\\AppData\\Local\\Temp\\ipykernel_11064\\55228070.py:53: FutureWarning: In a future version, `df.iloc[:, i] = newvals` will attempt to set the values inplace instead of always setting a new array. To retain the old behavior, use either `df[df.columns[i]] = newvals` or, if columns are non-unique, `df.isetitem(i, newvals)`\n",
      "  df.iloc[:, -3:] = pd.to_numeric(df.iloc[:, -3:].stack(),\n"
     ]
    },
    {
     "name": "stdout",
     "output_type": "stream",
     "text": [
      "Flag / [% of all]:  10    0.5555555555555556\n",
      "Flag / [% of all]:  10    0.5555555555555556\n",
      "64\n",
      "Flag / [% of all]:  18    1.0\n",
      "Flag / [% of all]:  18    1.0\n",
      "65\n",
      "Flag / [% of all]:  16    0.8888888888888888\n",
      "Flag / [% of all]:  16    0.8888888888888888\n",
      "66\n"
     ]
    },
    {
     "name": "stderr",
     "output_type": "stream",
     "text": [
      "C:\\Users\\Hanna\\AppData\\Local\\Temp\\ipykernel_11064\\55228070.py:53: FutureWarning: In a future version, `df.iloc[:, i] = newvals` will attempt to set the values inplace instead of always setting a new array. To retain the old behavior, use either `df[df.columns[i]] = newvals` or, if columns are non-unique, `df.isetitem(i, newvals)`\n",
      "  df.iloc[:, -3:] = pd.to_numeric(df.iloc[:, -3:].stack(),\n"
     ]
    },
    {
     "name": "stdout",
     "output_type": "stream",
     "text": [
      "Flag / [% of all]:  5    0.2777777777777778\n",
      "Flag / [% of all]:  5    0.2777777777777778\n",
      "67\n",
      "Flag / [% of all]:  17    0.9444444444444444\n",
      "Flag / [% of all]:  17    0.9444444444444444\n",
      "68\n",
      "Flag / [% of all]:  15    0.8333333333333334\n",
      "Flag / [% of all]:  15    0.8333333333333334\n",
      "69\n",
      "Flag / [% of all]:  11    0.6111111111111112\n",
      "Flag / [% of all]:  11    0.6111111111111112\n",
      "70\n",
      "Flag / [% of all]:  1    0.05555555555555555\n",
      "Flag / [% of all]:  1    0.05555555555555555\n",
      "71\n",
      "Flag / [% of all]:  18    1.0\n",
      "Flag / [% of all]:  18    1.0\n",
      "72\n"
     ]
    },
    {
     "name": "stderr",
     "output_type": "stream",
     "text": [
      "C:\\Users\\Hanna\\AppData\\Local\\Temp\\ipykernel_11064\\55228070.py:53: FutureWarning: In a future version, `df.iloc[:, i] = newvals` will attempt to set the values inplace instead of always setting a new array. To retain the old behavior, use either `df[df.columns[i]] = newvals` or, if columns are non-unique, `df.isetitem(i, newvals)`\n",
      "  df.iloc[:, -3:] = pd.to_numeric(df.iloc[:, -3:].stack(),\n"
     ]
    },
    {
     "name": "stdout",
     "output_type": "stream",
     "text": [
      "Flag / [% of all]:  5    0.2777777777777778\n",
      "Flag / [% of all]:  5    0.2777777777777778\n",
      "73\n",
      "Not enough keystroke events!   53\n",
      "Another file was found!\n",
      "Not enough keystroke events!   20\n",
      "Fatal - record not useful, with gt:  1.0\n",
      "74\n",
      "Flag / [% of all]:  9    0.5\n",
      "Flag / [% of all]:  9    0.5\n",
      "75\n",
      "Flag / [% of all]:  16    0.8888888888888888\n",
      "Flag / [% of all]:  16    0.8888888888888888\n",
      "76\n"
     ]
    },
    {
     "name": "stderr",
     "output_type": "stream",
     "text": [
      "C:\\Users\\Hanna\\AppData\\Local\\Temp\\ipykernel_11064\\55228070.py:53: FutureWarning: In a future version, `df.iloc[:, i] = newvals` will attempt to set the values inplace instead of always setting a new array. To retain the old behavior, use either `df[df.columns[i]] = newvals` or, if columns are non-unique, `df.isetitem(i, newvals)`\n",
      "  df.iloc[:, -3:] = pd.to_numeric(df.iloc[:, -3:].stack(),\n"
     ]
    },
    {
     "name": "stdout",
     "output_type": "stream",
     "text": [
      "Flag / [% of all]:  7    0.3888888888888889\n",
      "Flag / [% of all]:  7    0.3888888888888889\n",
      "77\n",
      "Flag / [% of all]:  17    0.9444444444444444\n",
      "Flag / [% of all]:  17    0.9444444444444444\n",
      "78\n",
      "Flag / [% of all]:  5    0.2777777777777778\n",
      "Flag / [% of all]:  5    0.2777777777777778\n",
      "79\n",
      "Flag / [% of all]:  15    0.8333333333333334\n",
      "Flag / [% of all]:  15    0.8333333333333334\n",
      "80\n",
      "Flag / [% of all]:  9    0.5\n",
      "Flag / [% of all]:  9    0.5\n",
      "81\n",
      "Flag / [% of all]:  10    0.5555555555555556\n",
      "Flag / [% of all]:  10    0.5555555555555556\n",
      "82\n",
      "Not enough keystroke events!   49\n",
      "Only 1 file is available!\n",
      "83\n",
      "Flag / [% of all]:  9    0.5\n",
      "Flag / [% of all]:  9    0.5\n",
      "84\n"
     ]
    },
    {
     "name": "stderr",
     "output_type": "stream",
     "text": [
      "C:\\Users\\Hanna\\AppData\\Local\\Temp\\ipykernel_11064\\55228070.py:53: FutureWarning: In a future version, `df.iloc[:, i] = newvals` will attempt to set the values inplace instead of always setting a new array. To retain the old behavior, use either `df[df.columns[i]] = newvals` or, if columns are non-unique, `df.isetitem(i, newvals)`\n",
      "  df.iloc[:, -3:] = pd.to_numeric(df.iloc[:, -3:].stack(),\n"
     ]
    },
    {
     "name": "stdout",
     "output_type": "stream",
     "text": [
      "Flag / [% of all]:  16    0.8888888888888888\n",
      "Flag / [% of all]:  16    0.8888888888888888\n",
      "85\n",
      "Not enough keystroke events!   1\n",
      "Only 1 file is available!\n",
      "86\n",
      "Flag / [% of all]:  18    1.0\n"
     ]
    },
    {
     "name": "stderr",
     "output_type": "stream",
     "text": [
      "C:\\Users\\Hanna\\AppData\\Local\\Temp\\ipykernel_11064\\55228070.py:53: FutureWarning: In a future version, `df.iloc[:, i] = newvals` will attempt to set the values inplace instead of always setting a new array. To retain the old behavior, use either `df[df.columns[i]] = newvals` or, if columns are non-unique, `df.isetitem(i, newvals)`\n",
      "  df.iloc[:, -3:] = pd.to_numeric(df.iloc[:, -3:].stack(),\n"
     ]
    },
    {
     "name": "stdout",
     "output_type": "stream",
     "text": [
      "Flag / [% of all]:  18    1.0\n",
      "87\n",
      "Flag / [% of all]:  16    0.8888888888888888\n",
      "Flag / [% of all]:  16    0.8888888888888888\n",
      "88\n",
      "Not enough keystroke events!   90\n",
      "Another file was found!\n",
      "Not enough keystroke events!   6\n",
      "Fatal - record not useful, with gt:  1.0\n",
      "89\n",
      "Flag / [% of all]:  17    0.9444444444444444\n",
      "Flag / [% of all]:  17    0.9444444444444444\n",
      "90\n",
      "Not enough keystroke events!   58\n",
      "Only 1 file is available!\n",
      "91\n"
     ]
    },
    {
     "name": "stderr",
     "output_type": "stream",
     "text": [
      "C:\\Users\\Hanna\\AppData\\Local\\Temp\\ipykernel_11064\\55228070.py:53: FutureWarning: In a future version, `df.iloc[:, i] = newvals` will attempt to set the values inplace instead of always setting a new array. To retain the old behavior, use either `df[df.columns[i]] = newvals` or, if columns are non-unique, `df.isetitem(i, newvals)`\n",
      "  df.iloc[:, -3:] = pd.to_numeric(df.iloc[:, -3:].stack(),\n"
     ]
    },
    {
     "name": "stdout",
     "output_type": "stream",
     "text": [
      "Flag / [% of all]:  1    0.05555555555555555\n",
      "Flag / [% of all]:  1    0.05555555555555555\n",
      "92\n",
      "Flag / [% of all]:  16    0.8888888888888888\n",
      "Flag / [% of all]:  16    0.8888888888888888\n",
      "93\n",
      "Flag / [% of all]:  17    0.9444444444444444\n",
      "Flag / [% of all]:  17    0.9444444444444444\n",
      "94\n",
      "Flag / [% of all]:  7    0.3888888888888889\n",
      "Flag / [% of all]:  7    0.3888888888888889\n",
      "95\n",
      "Flag / [% of all]:  6    0.3333333333333333\n",
      "Flag / [% of all]:  6    0.3333333333333333\n",
      "96\n",
      "Flag / [% of all]:  4    0.2222222222222222\n",
      "Flag / [% of all]:  4    0.2222222222222222\n",
      "97\n",
      "Not enough keystroke events!   5\n",
      "Only 1 file is available!\n",
      "98\n",
      "Not enough keystroke events!   84\n",
      "Another file was found!\n",
      "Not enough keystroke events!   63\n",
      "Fatal - record not useful, with gt:  0.0\n",
      "99\n"
     ]
    },
    {
     "name": "stderr",
     "output_type": "stream",
     "text": [
      "C:\\Users\\Hanna\\AppData\\Local\\Temp\\ipykernel_11064\\55228070.py:53: FutureWarning: In a future version, `df.iloc[:, i] = newvals` will attempt to set the values inplace instead of always setting a new array. To retain the old behavior, use either `df[df.columns[i]] = newvals` or, if columns are non-unique, `df.isetitem(i, newvals)`\n",
      "  df.iloc[:, -3:] = pd.to_numeric(df.iloc[:, -3:].stack(),\n"
     ]
    },
    {
     "name": "stdout",
     "output_type": "stream",
     "text": [
      "Flag / [% of all]:  3    0.16666666666666666\n",
      "Flag / [% of all]:  3    0.16666666666666666\n",
      "100\n",
      "Not enough keystroke events!   22\n",
      "Only 1 file is available!\n",
      "101\n",
      "Flag / [% of all]:  18    1.0\n",
      "Flag / [% of all]:  18    1.0\n",
      "102\n"
     ]
    },
    {
     "name": "stderr",
     "output_type": "stream",
     "text": [
      "C:\\Users\\Hanna\\AppData\\Local\\Temp\\ipykernel_11064\\55228070.py:53: FutureWarning: In a future version, `df.iloc[:, i] = newvals` will attempt to set the values inplace instead of always setting a new array. To retain the old behavior, use either `df[df.columns[i]] = newvals` or, if columns are non-unique, `df.isetitem(i, newvals)`\n",
      "  df.iloc[:, -3:] = pd.to_numeric(df.iloc[:, -3:].stack(),\n"
     ]
    },
    {
     "name": "stdout",
     "output_type": "stream",
     "text": [
      "Flag / [% of all]:  9    0.5\n",
      "Flag / [% of all]:  9    0.5\n",
      "103\n",
      "Flag / [% of all]:  1    0.05555555555555555\n",
      "Flag / [% of all]:  1    0.05555555555555555\n",
      "104\n",
      "Not enough keystroke events!   28\n",
      "Only 1 file is available!\n",
      "105\n",
      "Not enough keystroke events!   46\n",
      "Another file was found!\n"
     ]
    },
    {
     "name": "stderr",
     "output_type": "stream",
     "text": [
      "C:\\Users\\Hanna\\AppData\\Local\\Temp\\ipykernel_11064\\55228070.py:53: FutureWarning: In a future version, `df.iloc[:, i] = newvals` will attempt to set the values inplace instead of always setting a new array. To retain the old behavior, use either `df[df.columns[i]] = newvals` or, if columns are non-unique, `df.isetitem(i, newvals)`\n",
      "  df.iloc[:, -3:] = pd.to_numeric(df.iloc[:, -3:].stack(),\n"
     ]
    },
    {
     "name": "stdout",
     "output_type": "stream",
     "text": [
      "Success\n",
      "Flag / [% of all]:  7    0.3888888888888889\n",
      "Flag / [% of all]:  7    0.3888888888888889\n",
      "106\n"
     ]
    },
    {
     "name": "stderr",
     "output_type": "stream",
     "text": [
      "C:\\Users\\Hanna\\AppData\\Local\\Temp\\ipykernel_11064\\55228070.py:53: FutureWarning: In a future version, `df.iloc[:, i] = newvals` will attempt to set the values inplace instead of always setting a new array. To retain the old behavior, use either `df[df.columns[i]] = newvals` or, if columns are non-unique, `df.isetitem(i, newvals)`\n",
      "  df.iloc[:, -3:] = pd.to_numeric(df.iloc[:, -3:].stack(),\n"
     ]
    },
    {
     "name": "stdout",
     "output_type": "stream",
     "text": [
      "Flag / [% of all]:  17    0.9444444444444444\n",
      "Flag / [% of all]:  17    0.9444444444444444\n",
      "107\n",
      "Not enough keystroke events!   76\n",
      "Another file was found!\n",
      "Success\n",
      "Flag / [% of all]:  11    0.6111111111111112\n",
      "Flag / [% of all]:  11    0.6111111111111112\n",
      "108\n",
      "Flag / [% of all]:  7    0.3888888888888889\n",
      "Flag / [% of all]:  7    0.3888888888888889\n",
      "109\n",
      "Flag / [% of all]:  5    0.2777777777777778\n",
      "Flag / [% of all]:  5    0.2777777777777778\n",
      "110\n",
      "Flag / [% of all]:  11    0.6111111111111112\n",
      "Flag / [% of all]:  11    0.6111111111111112\n",
      "111\n",
      "Flag / [% of all]:  15    0.8333333333333334\n",
      "Flag / [% of all]:  15    0.8333333333333334\n",
      "112\n",
      "Flag / [% of all]:  17    0.9444444444444444\n",
      "Flag / [% of all]:  17    0.9444444444444444\n",
      "113\n",
      "Flag / [% of all]:  8    0.4444444444444444\n",
      "Flag / [% of all]:  8    0.4444444444444444\n",
      "114\n",
      "Not enough keystroke events!   93\n",
      "Another file was found!\n",
      "Not enough keystroke events!   40\n",
      "Fatal - record not useful, with gt:  1.0\n",
      "115\n",
      "Not enough keystroke events!   17\n",
      "Another file was found!\n",
      "Not enough keystroke events!   75\n",
      "Fatal - record not useful, with gt:  1.0\n",
      "116\n",
      "Not enough keystroke events!   7\n",
      "Only 1 file is available!\n",
      "117\n",
      "Not enough keystroke events!   15\n",
      "Only 1 file is available!\n",
      "118\n"
     ]
    },
    {
     "name": "stderr",
     "output_type": "stream",
     "text": [
      "C:\\Users\\Hanna\\AppData\\Local\\Temp\\ipykernel_11064\\55228070.py:53: FutureWarning: In a future version, `df.iloc[:, i] = newvals` will attempt to set the values inplace instead of always setting a new array. To retain the old behavior, use either `df[df.columns[i]] = newvals` or, if columns are non-unique, `df.isetitem(i, newvals)`\n",
      "  df.iloc[:, -3:] = pd.to_numeric(df.iloc[:, -3:].stack(),\n",
      "C:\\Users\\Hanna\\AppData\\Local\\Temp\\ipykernel_11064\\55228070.py:53: FutureWarning: In a future version, `df.iloc[:, i] = newvals` will attempt to set the values inplace instead of always setting a new array. To retain the old behavior, use either `df[df.columns[i]] = newvals` or, if columns are non-unique, `df.isetitem(i, newvals)`\n",
      "  df.iloc[:, -3:] = pd.to_numeric(df.iloc[:, -3:].stack(),\n"
     ]
    },
    {
     "name": "stdout",
     "output_type": "stream",
     "text": [
      "Flag / [% of all]:  7    0.3888888888888889\n",
      "Flag / [% of all]:  7    0.3888888888888889\n",
      "119\n",
      "Not enough keystroke events!   43\n",
      "Only 1 file is available!\n",
      "120\n",
      "Not enough keystroke events!   12\n",
      "Only 1 file is available!\n",
      "121\n",
      "Not enough keystroke events!   33\n",
      "Another file was found!\n",
      "Not enough keystroke events!   34\n",
      "Fatal - record not useful, with gt:  1.0\n",
      "122\n",
      "Flag / [% of all]:  17    0.9444444444444444\n",
      "Flag / [% of all]:  17    0.9444444444444444\n",
      "123\n",
      "Flag / [% of all]:  17    0.9444444444444444\n",
      "Flag / [% of all]:  17    0.9444444444444444\n",
      "124\n"
     ]
    },
    {
     "name": "stderr",
     "output_type": "stream",
     "text": [
      "C:\\Users\\Hanna\\AppData\\Local\\Temp\\ipykernel_11064\\55228070.py:53: FutureWarning: In a future version, `df.iloc[:, i] = newvals` will attempt to set the values inplace instead of always setting a new array. To retain the old behavior, use either `df[df.columns[i]] = newvals` or, if columns are non-unique, `df.isetitem(i, newvals)`\n",
      "  df.iloc[:, -3:] = pd.to_numeric(df.iloc[:, -3:].stack(),\n"
     ]
    },
    {
     "name": "stdout",
     "output_type": "stream",
     "text": [
      "Flag / [% of all]:  1    0.05555555555555555\n",
      "Flag / [% of all]:  1    0.05555555555555555\n",
      "125\n",
      "Flag / [% of all]:  15    0.8333333333333334\n",
      "Flag / [% of all]:  15    0.8333333333333334\n",
      "126\n",
      "Flag / [% of all]:  14    0.7777777777777778\n",
      "Flag / [% of all]:  14    0.7777777777777778\n",
      "127\n",
      "Procedure\n",
      "Flag / [% of all]:  11    0.6111111111111112\n",
      "Flag / [% of all]:  11    0.6111111111111112\n",
      "128\n"
     ]
    },
    {
     "name": "stderr",
     "output_type": "stream",
     "text": [
      "C:\\Users\\Hanna\\AppData\\Local\\Temp\\ipykernel_11064\\55228070.py:53: FutureWarning: In a future version, `df.iloc[:, i] = newvals` will attempt to set the values inplace instead of always setting a new array. To retain the old behavior, use either `df[df.columns[i]] = newvals` or, if columns are non-unique, `df.isetitem(i, newvals)`\n",
      "  df.iloc[:, -3:] = pd.to_numeric(df.iloc[:, -3:].stack(),\n"
     ]
    },
    {
     "name": "stdout",
     "output_type": "stream",
     "text": [
      "Flag / [% of all]:  11    0.6111111111111112\n",
      "Flag / [% of all]:  11    0.6111111111111112\n",
      "129\n",
      "Flag / [% of all]:  3    0.16666666666666666\n",
      "Flag / [% of all]:  3    0.16666666666666666\n",
      "130\n",
      "Flag / [% of all]:  2    0.1111111111111111\n",
      "Flag / [% of all]:  2    0.1111111111111111\n",
      "131\n"
     ]
    },
    {
     "name": "stderr",
     "output_type": "stream",
     "text": [
      "C:\\Users\\Hanna\\AppData\\Local\\Temp\\ipykernel_11064\\55228070.py:53: FutureWarning: In a future version, `df.iloc[:, i] = newvals` will attempt to set the values inplace instead of always setting a new array. To retain the old behavior, use either `df[df.columns[i]] = newvals` or, if columns are non-unique, `df.isetitem(i, newvals)`\n",
      "  df.iloc[:, -3:] = pd.to_numeric(df.iloc[:, -3:].stack(),\n"
     ]
    },
    {
     "name": "stdout",
     "output_type": "stream",
     "text": [
      "Flag / [% of all]:  12    0.6666666666666666\n",
      "Flag / [% of all]:  12    0.6666666666666666\n",
      "132\n",
      "Flag / [% of all]:  15    0.8333333333333334\n",
      "Flag / [% of all]:  15    0.8333333333333334\n",
      "133\n"
     ]
    },
    {
     "name": "stderr",
     "output_type": "stream",
     "text": [
      "C:\\Users\\Hanna\\AppData\\Local\\Temp\\ipykernel_11064\\55228070.py:53: FutureWarning: In a future version, `df.iloc[:, i] = newvals` will attempt to set the values inplace instead of always setting a new array. To retain the old behavior, use either `df[df.columns[i]] = newvals` or, if columns are non-unique, `df.isetitem(i, newvals)`\n",
      "  df.iloc[:, -3:] = pd.to_numeric(df.iloc[:, -3:].stack(),\n"
     ]
    },
    {
     "name": "stdout",
     "output_type": "stream",
     "text": [
      "Flag / [% of all]:  16    0.8888888888888888\n",
      "Flag / [% of all]:  16    0.8888888888888888\n",
      "134\n",
      "Flag / [% of all]:  14    0.7777777777777778\n",
      "Flag / [% of all]:  14    0.7777777777777778\n",
      "135\n",
      "Flag / [% of all]:  14    0.7777777777777778\n",
      "Flag / [% of all]:  14    0.7777777777777778\n",
      "136\n",
      "Flag / [% of all]:  8    0.4444444444444444\n",
      "Flag / [% of all]:  8    0.4444444444444444\n",
      "137\n",
      "Not enough keystroke events!   72\n",
      "Another file was found!\n",
      "Success\n"
     ]
    },
    {
     "name": "stderr",
     "output_type": "stream",
     "text": [
      "C:\\Users\\Hanna\\AppData\\Local\\Temp\\ipykernel_11064\\55228070.py:53: FutureWarning: In a future version, `df.iloc[:, i] = newvals` will attempt to set the values inplace instead of always setting a new array. To retain the old behavior, use either `df[df.columns[i]] = newvals` or, if columns are non-unique, `df.isetitem(i, newvals)`\n",
      "  df.iloc[:, -3:] = pd.to_numeric(df.iloc[:, -3:].stack(),\n",
      "C:\\Users\\Hanna\\AppData\\Local\\Temp\\ipykernel_11064\\55228070.py:53: FutureWarning: In a future version, `df.iloc[:, i] = newvals` will attempt to set the values inplace instead of always setting a new array. To retain the old behavior, use either `df[df.columns[i]] = newvals` or, if columns are non-unique, `df.isetitem(i, newvals)`\n",
      "  df.iloc[:, -3:] = pd.to_numeric(df.iloc[:, -3:].stack(),\n"
     ]
    },
    {
     "name": "stdout",
     "output_type": "stream",
     "text": [
      "Flag / [% of all]:  14    0.7777777777777778\n",
      "Flag / [% of all]:  14    0.7777777777777778\n",
      "138\n",
      "Not enough keystroke events!   66\n",
      "Only 1 file is available!\n",
      "139\n"
     ]
    },
    {
     "name": "stderr",
     "output_type": "stream",
     "text": [
      "C:\\Users\\Hanna\\AppData\\Local\\Temp\\ipykernel_11064\\55228070.py:53: FutureWarning: In a future version, `df.iloc[:, i] = newvals` will attempt to set the values inplace instead of always setting a new array. To retain the old behavior, use either `df[df.columns[i]] = newvals` or, if columns are non-unique, `df.isetitem(i, newvals)`\n",
      "  df.iloc[:, -3:] = pd.to_numeric(df.iloc[:, -3:].stack(),\n",
      "C:\\Users\\Hanna\\AppData\\Local\\Temp\\ipykernel_11064\\55228070.py:53: FutureWarning: In a future version, `df.iloc[:, i] = newvals` will attempt to set the values inplace instead of always setting a new array. To retain the old behavior, use either `df[df.columns[i]] = newvals` or, if columns are non-unique, `df.isetitem(i, newvals)`\n",
      "  df.iloc[:, -3:] = pd.to_numeric(df.iloc[:, -3:].stack(),\n"
     ]
    },
    {
     "name": "stdout",
     "output_type": "stream",
     "text": [
      "Flag / [% of all]:  0    0.0\n",
      "Flag / [% of all]:  0    0.0\n",
      "140\n",
      "Flag / [% of all]:  6    0.3333333333333333\n",
      "Flag / [% of all]:  6    0.3333333333333333\n",
      "141\n",
      "Not enough keystroke events!   2\n",
      "Only 1 file is available!\n",
      "142\n"
     ]
    },
    {
     "name": "stderr",
     "output_type": "stream",
     "text": [
      "C:\\Users\\Hanna\\AppData\\Local\\Temp\\ipykernel_11064\\55228070.py:53: FutureWarning: In a future version, `df.iloc[:, i] = newvals` will attempt to set the values inplace instead of always setting a new array. To retain the old behavior, use either `df[df.columns[i]] = newvals` or, if columns are non-unique, `df.isetitem(i, newvals)`\n",
      "  df.iloc[:, -3:] = pd.to_numeric(df.iloc[:, -3:].stack(),\n"
     ]
    },
    {
     "name": "stdout",
     "output_type": "stream",
     "text": [
      "Flag / [% of all]:  4    0.2222222222222222\n",
      "Flag / [% of all]:  4    0.2222222222222222\n",
      "143\n",
      "Not enough keystroke events!   6\n",
      "Only 1 file is available!\n",
      "144\n",
      "Not enough keystroke events!   2\n",
      "Only 1 file is available!\n",
      "145\n",
      "Not enough keystroke events!   75\n",
      "Another file was found!\n",
      "Not enough keystroke events!   42\n",
      "Fatal - record not useful, with gt:  1.0\n",
      "146\n",
      "Not enough keystroke events!   53\n",
      "Only 1 file is available!\n",
      "147\n"
     ]
    },
    {
     "name": "stderr",
     "output_type": "stream",
     "text": [
      "C:\\Users\\Hanna\\AppData\\Local\\Temp\\ipykernel_11064\\55228070.py:53: FutureWarning: In a future version, `df.iloc[:, i] = newvals` will attempt to set the values inplace instead of always setting a new array. To retain the old behavior, use either `df[df.columns[i]] = newvals` or, if columns are non-unique, `df.isetitem(i, newvals)`\n",
      "  df.iloc[:, -3:] = pd.to_numeric(df.iloc[:, -3:].stack(),\n",
      "C:\\Users\\Hanna\\AppData\\Local\\Temp\\ipykernel_11064\\55228070.py:53: FutureWarning: In a future version, `df.iloc[:, i] = newvals` will attempt to set the values inplace instead of always setting a new array. To retain the old behavior, use either `df[df.columns[i]] = newvals` or, if columns are non-unique, `df.isetitem(i, newvals)`\n",
      "  df.iloc[:, -3:] = pd.to_numeric(df.iloc[:, -3:].stack(),\n"
     ]
    },
    {
     "name": "stdout",
     "output_type": "stream",
     "text": [
      "Flag / [% of all]:  4    0.2222222222222222\n",
      "Flag / [% of all]:  4    0.2222222222222222\n",
      "148\n",
      "Flag / [% of all]:  16    0.8888888888888888\n",
      "Flag / [% of all]:  16    0.8888888888888888\n",
      "149\n",
      "Flag / [% of all]:  1    0.05555555555555555\n",
      "Flag / [% of all]:  1    0.05555555555555555\n",
      "150\n",
      "Flag / [% of all]:  9    0.5\n",
      "Flag / [% of all]:  9    0.5\n",
      "flag_fatal:  [11, 10.0]\n",
      "(151, 22)\n"
     ]
    }
   ],
   "source": [
    "data2.prepare_dataset(directory_path2, feature_extract=2)\n",
    "print(data2.trainset.shape)"
   ]
  },
  {
   "cell_type": "code",
   "execution_count": 58,
   "metadata": {},
   "outputs": [
    {
     "data": {
      "text/plain": [
       "array([1., 1., 0., 1., 1., 0., 1., 1., 1., 1., 1., 1., 1., 1., 1., 0., 1.,\n",
       "       1., 1., 0., 1., 1., 1., 0., 0., 1., 1., 1., 1., 1., 1., 1., 1., 0.,\n",
       "       1., 1., 1., 1., 0., 1., 1., 1., 1., 0., 1., 1., 0., 1., 1., 1., 1.,\n",
       "       1., 1., 1., 1., 1., 1., 1., 1., 1., 1., 1., 0., 1., 0., 0., 1., 1.,\n",
       "       1., 1., 1., 0., 1., 1., 1., 0., 1., 0., 0., 0., 0., 0., 1., 1., 1.,\n",
       "       0., 1., 1., 1., 0., 1., 1., 1., 1., 1., 0., 1., 0., 0., 1., 1., 0.,\n",
       "       1., 0., 1., 1., 1., 1., 1., 1., 1., 0., 0., 1., 1., 1., 1., 0., 0.,\n",
       "       1., 1., 1., 1., 1., 1., 1., 1., 1., 1., 0., 0., 1., 0., 1., 1., 0.,\n",
       "       1., 1., 1., 0., 1., 1., 1., 1., 1., 1., 0., 1., 0., 1., 1.])"
      ]
     },
     "execution_count": 58,
     "metadata": {},
     "output_type": "execute_result"
    }
   ],
   "source": [
    "data2.train_ground_truth"
   ]
  },
  {
   "attachments": {},
   "cell_type": "markdown",
   "metadata": {},
   "source": [
    "## Read data - (1. dataset)"
   ]
  },
  {
   "cell_type": "code",
   "execution_count": 81,
   "metadata": {},
   "outputs": [
    {
     "data": {
      "text/html": [
       "<div>\n",
       "<style scoped>\n",
       "    .dataframe tbody tr th:only-of-type {\n",
       "        vertical-align: middle;\n",
       "    }\n",
       "\n",
       "    .dataframe tbody tr th {\n",
       "        vertical-align: top;\n",
       "    }\n",
       "\n",
       "    .dataframe thead th {\n",
       "        text-align: right;\n",
       "    }\n",
       "</style>\n",
       "<table border=\"1\" class=\"dataframe\">\n",
       "  <thead>\n",
       "    <tr style=\"text-align: right;\">\n",
       "      <th></th>\n",
       "      <th>pID</th>\n",
       "      <th>gt</th>\n",
       "      <th>updrs</th>\n",
       "      <th>afTap</th>\n",
       "      <th>sTap</th>\n",
       "      <th>typingSpeed</th>\n",
       "      <th>file_1</th>\n",
       "      <th>file_2</th>\n",
       "    </tr>\n",
       "  </thead>\n",
       "  <tbody>\n",
       "    <tr>\n",
       "      <th>0</th>\n",
       "      <td>11</td>\n",
       "      <td>True</td>\n",
       "      <td>14.25</td>\n",
       "      <td>NaN</td>\n",
       "      <td>162.25</td>\n",
       "      <td>189.372549</td>\n",
       "      <td>1402930351.011_001_014.csv</td>\n",
       "      <td>1403706430.011_003_014.csv</td>\n",
       "    </tr>\n",
       "    <tr>\n",
       "      <th>1</th>\n",
       "      <td>60</td>\n",
       "      <td>False</td>\n",
       "      <td>2.00</td>\n",
       "      <td>NaN</td>\n",
       "      <td>162.25</td>\n",
       "      <td>60.533333</td>\n",
       "      <td>1402932300.060_001_014.csv</td>\n",
       "      <td>1403708258.060_003_014.csv</td>\n",
       "    </tr>\n",
       "    <tr>\n",
       "      <th>2</th>\n",
       "      <td>67</td>\n",
       "      <td>True</td>\n",
       "      <td>25.25</td>\n",
       "      <td>NaN</td>\n",
       "      <td>133.75</td>\n",
       "      <td>54.333333</td>\n",
       "      <td>1401117235.067_001_014.csv</td>\n",
       "      <td>1401978395.067_003_014.csv</td>\n",
       "    </tr>\n",
       "    <tr>\n",
       "      <th>3</th>\n",
       "      <td>68</td>\n",
       "      <td>False</td>\n",
       "      <td>6.00</td>\n",
       "      <td>NaN</td>\n",
       "      <td>159.00</td>\n",
       "      <td>71.800000</td>\n",
       "      <td>1401114972.068_001_014.csv</td>\n",
       "      <td>1401980765.068_003_014.csv</td>\n",
       "    </tr>\n",
       "    <tr>\n",
       "      <th>4</th>\n",
       "      <td>70</td>\n",
       "      <td>True</td>\n",
       "      <td>26.25</td>\n",
       "      <td>NaN</td>\n",
       "      <td>113.50</td>\n",
       "      <td>39.614035</td>\n",
       "      <td>1404311419.070_001_014.csv</td>\n",
       "      <td>1404743687.070_003_014.csv</td>\n",
       "    </tr>\n",
       "  </tbody>\n",
       "</table>\n",
       "</div>"
      ],
      "text/plain": [
       "   pID     gt  updrs  afTap    sTap  typingSpeed                      file_1  \\\n",
       "0   11   True  14.25    NaN  162.25   189.372549  1402930351.011_001_014.csv   \n",
       "1   60  False   2.00    NaN  162.25    60.533333  1402932300.060_001_014.csv   \n",
       "2   67   True  25.25    NaN  133.75    54.333333  1401117235.067_001_014.csv   \n",
       "3   68  False   6.00    NaN  159.00    71.800000  1401114972.068_001_014.csv   \n",
       "4   70   True  26.25    NaN  113.50    39.614035  1404311419.070_001_014.csv   \n",
       "\n",
       "                       file_2  \n",
       "0  1403706430.011_003_014.csv  \n",
       "1  1403708258.060_003_014.csv  \n",
       "2  1401978395.067_003_014.csv  \n",
       "3  1401980765.068_003_014.csv  \n",
       "4  1404743687.070_003_014.csv  "
      ]
     },
     "execution_count": 81,
     "metadata": {},
     "output_type": "execute_result"
    }
   ],
   "source": [
    "# load Ground Truth\n",
    "df1 = pd.read_csv('D:/studia_mgrEIM/master_diploma/data/neuroqwerty/MIT-CS1PD/GT_DataPD_MIT-CS1PD.csv')\n",
    "df1.rename(columns={\"updrs108\": \"updrs\"}, inplace=True)\n",
    "df1.drop('nqScore', axis=1, inplace=True)\n",
    "df1.head()"
   ]
  },
  {
   "cell_type": "code",
   "execution_count": null,
   "metadata": {},
   "outputs": [
    {
     "data": {
      "text/plain": [
       "(31, 8)"
      ]
     },
     "execution_count": 4,
     "metadata": {},
     "output_type": "execute_result"
    }
   ],
   "source": [
    "df1.shape"
   ]
  },
  {
   "cell_type": "code",
   "execution_count": null,
   "metadata": {},
   "outputs": [
    {
     "name": "stdout",
     "output_type": "stream",
     "text": [
      "Patients with PD:  13\n",
      "Patients without PD:  18\n"
     ]
    }
   ],
   "source": [
    "print('Patients with PD: ', len(df1[df1['gt']==False]))\n",
    "print('Patients without PD: ', len(df1[df1['gt']==True]))"
   ]
  },
  {
   "cell_type": "code",
   "execution_count": 82,
   "metadata": {},
   "outputs": [
    {
     "data": {
      "text/html": [
       "<div>\n",
       "<style scoped>\n",
       "    .dataframe tbody tr th:only-of-type {\n",
       "        vertical-align: middle;\n",
       "    }\n",
       "\n",
       "    .dataframe tbody tr th {\n",
       "        vertical-align: top;\n",
       "    }\n",
       "\n",
       "    .dataframe thead th {\n",
       "        text-align: right;\n",
       "    }\n",
       "</style>\n",
       "<table border=\"1\" class=\"dataframe\">\n",
       "  <thead>\n",
       "    <tr style=\"text-align: right;\">\n",
       "      <th></th>\n",
       "      <th>pID</th>\n",
       "      <th>gt</th>\n",
       "      <th>updrs</th>\n",
       "      <th>afTap</th>\n",
       "      <th>sTap</th>\n",
       "      <th>typingSpeed</th>\n",
       "      <th>file_1</th>\n",
       "    </tr>\n",
       "  </thead>\n",
       "  <tbody>\n",
       "    <tr>\n",
       "      <th>0</th>\n",
       "      <td>1000</td>\n",
       "      <td>True</td>\n",
       "      <td>27</td>\n",
       "      <td>79.0</td>\n",
       "      <td>184.5</td>\n",
       "      <td>56.866667</td>\n",
       "      <td>1424946827.1000_001_014.csv</td>\n",
       "    </tr>\n",
       "    <tr>\n",
       "      <th>1</th>\n",
       "      <td>1001</td>\n",
       "      <td>True</td>\n",
       "      <td>16</td>\n",
       "      <td>96.5</td>\n",
       "      <td>189.0</td>\n",
       "      <td>118.000000</td>\n",
       "      <td>1427279751.1001_001_014.csv</td>\n",
       "    </tr>\n",
       "    <tr>\n",
       "      <th>2</th>\n",
       "      <td>1002</td>\n",
       "      <td>False</td>\n",
       "      <td>5</td>\n",
       "      <td>140.0</td>\n",
       "      <td>158.0</td>\n",
       "      <td>119.037037</td>\n",
       "      <td>1426676689.1002_001_014.csv</td>\n",
       "    </tr>\n",
       "    <tr>\n",
       "      <th>3</th>\n",
       "      <td>1004</td>\n",
       "      <td>True</td>\n",
       "      <td>22</td>\n",
       "      <td>83.5</td>\n",
       "      <td>191.5</td>\n",
       "      <td>74.266667</td>\n",
       "      <td>1429866367.1004_001_014.csv</td>\n",
       "    </tr>\n",
       "    <tr>\n",
       "      <th>4</th>\n",
       "      <td>1005</td>\n",
       "      <td>True</td>\n",
       "      <td>17</td>\n",
       "      <td>68.0</td>\n",
       "      <td>150.0</td>\n",
       "      <td>74.969697</td>\n",
       "      <td>1430134526.1005_001_014.csv</td>\n",
       "    </tr>\n",
       "  </tbody>\n",
       "</table>\n",
       "</div>"
      ],
      "text/plain": [
       "    pID     gt  updrs  afTap   sTap  typingSpeed                       file_1\n",
       "0  1000   True     27   79.0  184.5    56.866667  1424946827.1000_001_014.csv\n",
       "1  1001   True     16   96.5  189.0   118.000000  1427279751.1001_001_014.csv\n",
       "2  1002  False      5  140.0  158.0   119.037037  1426676689.1002_001_014.csv\n",
       "3  1004   True     22   83.5  191.5    74.266667  1429866367.1004_001_014.csv\n",
       "4  1005   True     17   68.0  150.0    74.969697  1430134526.1005_001_014.csv"
      ]
     },
     "execution_count": 82,
     "metadata": {},
     "output_type": "execute_result"
    }
   ],
   "source": [
    "# load Ground Truth\n",
    "df2 = pd.read_csv('D:/studia_mgrEIM/master_diploma/data/neuroqwerty/MIT-CS2PD/GT_DataPD_MIT-CS2PD.csv')\n",
    "df2.rename(columns={\"updrs108\": \"updrs\"}, inplace=True)\n",
    "df2.drop('nqScore', axis=1, inplace=True)\n",
    "df2.head()"
   ]
  },
  {
   "cell_type": "code",
   "execution_count": null,
   "metadata": {},
   "outputs": [
    {
     "name": "stdout",
     "output_type": "stream",
     "text": [
      "Patients with PD:  30\n",
      "Patients without PD:  24\n"
     ]
    }
   ],
   "source": [
    "print('Patients with PD: ', len(df2[df2['gt']==False]))\n",
    "print('Patients without PD: ', len(df2[df2['gt']==True]))"
   ]
  },
  {
   "cell_type": "code",
   "execution_count": 83,
   "metadata": {},
   "outputs": [
    {
     "data": {
      "text/html": [
       "<div>\n",
       "<style scoped>\n",
       "    .dataframe tbody tr th:only-of-type {\n",
       "        vertical-align: middle;\n",
       "    }\n",
       "\n",
       "    .dataframe tbody tr th {\n",
       "        vertical-align: top;\n",
       "    }\n",
       "\n",
       "    .dataframe thead th {\n",
       "        text-align: right;\n",
       "    }\n",
       "</style>\n",
       "<table border=\"1\" class=\"dataframe\">\n",
       "  <thead>\n",
       "    <tr style=\"text-align: right;\">\n",
       "      <th></th>\n",
       "      <th>pID</th>\n",
       "      <th>gt</th>\n",
       "      <th>updrs</th>\n",
       "      <th>afTap</th>\n",
       "      <th>sTap</th>\n",
       "      <th>typingSpeed</th>\n",
       "      <th>file_1</th>\n",
       "      <th>file_2</th>\n",
       "    </tr>\n",
       "  </thead>\n",
       "  <tbody>\n",
       "    <tr>\n",
       "      <th>80</th>\n",
       "      <td>1063</td>\n",
       "      <td>False</td>\n",
       "      <td>0.0</td>\n",
       "      <td>110.0</td>\n",
       "      <td>170.0</td>\n",
       "      <td>109.800000</td>\n",
       "      <td>1463511198.1063_001_014.csv</td>\n",
       "      <td>NaN</td>\n",
       "    </tr>\n",
       "    <tr>\n",
       "      <th>81</th>\n",
       "      <td>1064</td>\n",
       "      <td>True</td>\n",
       "      <td>28.0</td>\n",
       "      <td>75.5</td>\n",
       "      <td>140.0</td>\n",
       "      <td>105.333333</td>\n",
       "      <td>1458723488.1064_001_014.csv</td>\n",
       "      <td>NaN</td>\n",
       "    </tr>\n",
       "    <tr>\n",
       "      <th>82</th>\n",
       "      <td>1066</td>\n",
       "      <td>True</td>\n",
       "      <td>12.0</td>\n",
       "      <td>118.0</td>\n",
       "      <td>170.5</td>\n",
       "      <td>140.250000</td>\n",
       "      <td>1460104760.1066_001_014.csv</td>\n",
       "      <td>NaN</td>\n",
       "    </tr>\n",
       "    <tr>\n",
       "      <th>83</th>\n",
       "      <td>1068</td>\n",
       "      <td>True</td>\n",
       "      <td>26.0</td>\n",
       "      <td>65.5</td>\n",
       "      <td>98.0</td>\n",
       "      <td>48.800000</td>\n",
       "      <td>1460559248.1068_001_014.csv</td>\n",
       "      <td>NaN</td>\n",
       "    </tr>\n",
       "    <tr>\n",
       "      <th>84</th>\n",
       "      <td>1070</td>\n",
       "      <td>False</td>\n",
       "      <td>2.0</td>\n",
       "      <td>126.0</td>\n",
       "      <td>154.5</td>\n",
       "      <td>54.933333</td>\n",
       "      <td>1463130212.1070_001_014.csv</td>\n",
       "      <td>NaN</td>\n",
       "    </tr>\n",
       "  </tbody>\n",
       "</table>\n",
       "</div>"
      ],
      "text/plain": [
       "     pID     gt  updrs  afTap   sTap  typingSpeed  \\\n",
       "80  1063  False    0.0  110.0  170.0   109.800000   \n",
       "81  1064   True   28.0   75.5  140.0   105.333333   \n",
       "82  1066   True   12.0  118.0  170.5   140.250000   \n",
       "83  1068   True   26.0   65.5   98.0    48.800000   \n",
       "84  1070  False    2.0  126.0  154.5    54.933333   \n",
       "\n",
       "                         file_1 file_2  \n",
       "80  1463511198.1063_001_014.csv    NaN  \n",
       "81  1458723488.1064_001_014.csv    NaN  \n",
       "82  1460104760.1066_001_014.csv    NaN  \n",
       "83  1460559248.1068_001_014.csv    NaN  \n",
       "84  1463130212.1070_001_014.csv    NaN  "
      ]
     },
     "execution_count": 83,
     "metadata": {},
     "output_type": "execute_result"
    }
   ],
   "source": [
    "df_conc = pd.concat([df1, df2], ignore_index=True)\n",
    "df_conc.tail()"
   ]
  },
  {
   "cell_type": "code",
   "execution_count": null,
   "metadata": {},
   "outputs": [
    {
     "data": {
      "text/plain": [
       "Text(0.5, 0, 'Parkinson disease')"
      ]
     },
     "execution_count": 7,
     "metadata": {},
     "output_type": "execute_result"
    },
    {
     "data": {
      "image/png": "[encoded data removed]",
      "text/plain": [
       "<Figure size 400x300 with 1 Axes>"
      ]
     },
     "metadata": {},
     "output_type": "display_data"
    }
   ],
   "source": [
    "plt.figure(figsize=[4,3])\n",
    "sns.countplot(x = 'gt', data = df_conc)\n",
    "plt.xlabel('Parkinson disease')"
   ]
  },
  {
   "cell_type": "code",
   "execution_count": 84,
   "metadata": {},
   "outputs": [
    {
     "data": {
      "text/html": [
       "<div>\n",
       "<style scoped>\n",
       "    .dataframe tbody tr th:only-of-type {\n",
       "        vertical-align: middle;\n",
       "    }\n",
       "\n",
       "    .dataframe tbody tr th {\n",
       "        vertical-align: top;\n",
       "    }\n",
       "\n",
       "    .dataframe thead th {\n",
       "        text-align: right;\n",
       "    }\n",
       "</style>\n",
       "<table border=\"1\" class=\"dataframe\">\n",
       "  <thead>\n",
       "    <tr style=\"text-align: right;\">\n",
       "      <th></th>\n",
       "      <th>pressedKey</th>\n",
       "      <th>holdTime</th>\n",
       "      <th>releaseTime</th>\n",
       "      <th>pressTime</th>\n",
       "    </tr>\n",
       "  </thead>\n",
       "  <tbody>\n",
       "    <tr>\n",
       "      <th>0</th>\n",
       "      <td>2</td>\n",
       "      <td>0.1135</td>\n",
       "      <td>1.4512</td>\n",
       "      <td>1.3377</td>\n",
       "    </tr>\n",
       "    <tr>\n",
       "      <th>1</th>\n",
       "      <td>parenright</td>\n",
       "      <td>0.1269</td>\n",
       "      <td>2.3214</td>\n",
       "      <td>2.1945</td>\n",
       "    </tr>\n",
       "    <tr>\n",
       "      <th>2</th>\n",
       "      <td>Shift_L</td>\n",
       "      <td>0.2064</td>\n",
       "      <td>2.3555</td>\n",
       "      <td>2.1491</td>\n",
       "    </tr>\n",
       "    <tr>\n",
       "      <th>3</th>\n",
       "      <td>space</td>\n",
       "      <td>0.1317</td>\n",
       "      <td>3.2163</td>\n",
       "      <td>3.0847</td>\n",
       "    </tr>\n",
       "    <tr>\n",
       "      <th>4</th>\n",
       "      <td>mouse_left</td>\n",
       "      <td>0.1001</td>\n",
       "      <td>6.7385</td>\n",
       "      <td>6.6384</td>\n",
       "    </tr>\n",
       "  </tbody>\n",
       "</table>\n",
       "</div>"
      ],
      "text/plain": [
       "   pressedKey  holdTime  releaseTime  pressTime\n",
       "0           2    0.1135       1.4512     1.3377\n",
       "1  parenright    0.1269       2.3214     2.1945\n",
       "2     Shift_L    0.2064       2.3555     2.1491\n",
       "3       space    0.1317       3.2163     3.0847\n",
       "4  mouse_left    0.1001       6.7385     6.6384"
      ]
     },
     "execution_count": 84,
     "metadata": {},
     "output_type": "execute_result"
    }
   ],
   "source": [
    "# read example file\n",
    "df_ID = pd.read_csv('D:/studia_mgrEIM/master_diploma/data/neuroqwerty/MIT-CS2PD/data_MIT-CS2PD/'+ df2['file_1'][1], header = None, names=['pressedKey','holdTime', 'releaseTime', 'pressTime'])\n",
    "df_ID.head()"
   ]
  },
  {
   "cell_type": "code",
   "execution_count": 89,
   "metadata": {},
   "outputs": [
    {
     "data": {
      "text/plain": [
       "1749"
      ]
     },
     "execution_count": 89,
     "metadata": {},
     "output_type": "execute_result"
    }
   ],
   "source": [
    "len(df_ID['flightTime'])"
   ]
  },
  {
   "cell_type": "code",
   "execution_count": 88,
   "metadata": {},
   "outputs": [
    {
     "data": {
      "text/html": [
       "<div>\n",
       "<style scoped>\n",
       "    .dataframe tbody tr th:only-of-type {\n",
       "        vertical-align: middle;\n",
       "    }\n",
       "\n",
       "    .dataframe tbody tr th {\n",
       "        vertical-align: top;\n",
       "    }\n",
       "\n",
       "    .dataframe thead th {\n",
       "        text-align: right;\n",
       "    }\n",
       "</style>\n",
       "<table border=\"1\" class=\"dataframe\">\n",
       "  <thead>\n",
       "    <tr style=\"text-align: right;\">\n",
       "      <th></th>\n",
       "      <th>pressedKey</th>\n",
       "      <th>holdTime</th>\n",
       "      <th>releaseTime</th>\n",
       "      <th>pressTime</th>\n",
       "      <th>flightTime</th>\n",
       "    </tr>\n",
       "  </thead>\n",
       "  <tbody>\n",
       "    <tr>\n",
       "      <th>1744</th>\n",
       "      <td>Shift_L</td>\n",
       "      <td>0.3029</td>\n",
       "      <td>771.9147</td>\n",
       "      <td>771.6118</td>\n",
       "      <td>-0.2687</td>\n",
       "    </tr>\n",
       "    <tr>\n",
       "      <th>1745</th>\n",
       "      <td>Return</td>\n",
       "      <td>0.0978</td>\n",
       "      <td>774.1936</td>\n",
       "      <td>774.0958</td>\n",
       "      <td>2.1811</td>\n",
       "    </tr>\n",
       "    <tr>\n",
       "      <th>1746</th>\n",
       "      <td>minus</td>\n",
       "      <td>0.0979</td>\n",
       "      <td>774.5318</td>\n",
       "      <td>774.4340</td>\n",
       "      <td>0.2404</td>\n",
       "    </tr>\n",
       "    <tr>\n",
       "      <th>1747</th>\n",
       "      <td>space</td>\n",
       "      <td>0.1241</td>\n",
       "      <td>775.0568</td>\n",
       "      <td>774.9327</td>\n",
       "      <td>0.4009</td>\n",
       "    </tr>\n",
       "    <tr>\n",
       "      <th>1748</th>\n",
       "      <td>Shift_L</td>\n",
       "      <td>0.6236</td>\n",
       "      <td>778.9472</td>\n",
       "      <td>778.3236</td>\n",
       "      <td>3.2668</td>\n",
       "    </tr>\n",
       "  </tbody>\n",
       "</table>\n",
       "</div>"
      ],
      "text/plain": [
       "     pressedKey  holdTime  releaseTime  pressTime  flightTime\n",
       "1744    Shift_L    0.3029     771.9147   771.6118     -0.2687\n",
       "1745     Return    0.0978     774.1936   774.0958      2.1811\n",
       "1746      minus    0.0979     774.5318   774.4340      0.2404\n",
       "1747      space    0.1241     775.0568   774.9327      0.4009\n",
       "1748    Shift_L    0.6236     778.9472   778.3236      3.2668"
      ]
     },
     "execution_count": 88,
     "metadata": {},
     "output_type": "execute_result"
    }
   ],
   "source": [
    "df_ID['flightTime'] = df_ID['pressTime'] - \\\n",
    "    pd.concat([pd.Series(0), df_ID['releaseTime']], ignore_index=True)\n",
    "df_ID.tail()"
   ]
  },
  {
   "cell_type": "code",
   "execution_count": 92,
   "metadata": {},
   "outputs": [
    {
     "data": {
      "text/html": [
       "<div>\n",
       "<style scoped>\n",
       "    .dataframe tbody tr th:only-of-type {\n",
       "        vertical-align: middle;\n",
       "    }\n",
       "\n",
       "    .dataframe tbody tr th {\n",
       "        vertical-align: top;\n",
       "    }\n",
       "\n",
       "    .dataframe thead th {\n",
       "        text-align: right;\n",
       "    }\n",
       "</style>\n",
       "<table border=\"1\" class=\"dataframe\">\n",
       "  <thead>\n",
       "    <tr style=\"text-align: right;\">\n",
       "      <th></th>\n",
       "      <th>pressedKey</th>\n",
       "      <th>holdTime</th>\n",
       "      <th>releaseTime</th>\n",
       "      <th>pressTime</th>\n",
       "      <th>flightTime</th>\n",
       "      <th>latencyTime</th>\n",
       "    </tr>\n",
       "  </thead>\n",
       "  <tbody>\n",
       "    <tr>\n",
       "      <th>1744</th>\n",
       "      <td>Shift_L</td>\n",
       "      <td>0.3029</td>\n",
       "      <td>771.9147</td>\n",
       "      <td>771.6118</td>\n",
       "      <td>-0.2687</td>\n",
       "      <td>-0.1766</td>\n",
       "    </tr>\n",
       "    <tr>\n",
       "      <th>1745</th>\n",
       "      <td>Return</td>\n",
       "      <td>0.0978</td>\n",
       "      <td>774.1936</td>\n",
       "      <td>774.0958</td>\n",
       "      <td>2.1811</td>\n",
       "      <td>2.4840</td>\n",
       "    </tr>\n",
       "    <tr>\n",
       "      <th>1746</th>\n",
       "      <td>minus</td>\n",
       "      <td>0.0979</td>\n",
       "      <td>774.5318</td>\n",
       "      <td>774.4340</td>\n",
       "      <td>0.2404</td>\n",
       "      <td>0.3382</td>\n",
       "    </tr>\n",
       "    <tr>\n",
       "      <th>1747</th>\n",
       "      <td>space</td>\n",
       "      <td>0.1241</td>\n",
       "      <td>775.0568</td>\n",
       "      <td>774.9327</td>\n",
       "      <td>0.4009</td>\n",
       "      <td>0.4988</td>\n",
       "    </tr>\n",
       "    <tr>\n",
       "      <th>1748</th>\n",
       "      <td>Shift_L</td>\n",
       "      <td>0.6236</td>\n",
       "      <td>778.9472</td>\n",
       "      <td>778.3236</td>\n",
       "      <td>3.2668</td>\n",
       "      <td>3.3909</td>\n",
       "    </tr>\n",
       "  </tbody>\n",
       "</table>\n",
       "</div>"
      ],
      "text/plain": [
       "     pressedKey  holdTime  releaseTime  pressTime  flightTime  latencyTime\n",
       "1744    Shift_L    0.3029     771.9147   771.6118     -0.2687      -0.1766\n",
       "1745     Return    0.0978     774.1936   774.0958      2.1811       2.4840\n",
       "1746      minus    0.0979     774.5318   774.4340      0.2404       0.3382\n",
       "1747      space    0.1241     775.0568   774.9327      0.4009       0.4988\n",
       "1748    Shift_L    0.6236     778.9472   778.3236      3.2668       3.3909"
      ]
     },
     "execution_count": 92,
     "metadata": {},
     "output_type": "execute_result"
    }
   ],
   "source": [
    "df_ID['latencyTime']=df_ID['flightTime']+pd.concat([pd.Series(0),df_ID['holdTime']],ignore_index=True)\n",
    "df_ID.tail()"
   ]
  },
  {
   "cell_type": "code",
   "execution_count": null,
   "metadata": {},
   "outputs": [
    {
     "data": {
      "text/plain": [
       "33"
      ]
     },
     "execution_count": 25,
     "metadata": {},
     "output_type": "execute_result"
    }
   ],
   "source": [
    "# len(df_ID[df_ID['holdTime']>1])/len(df_ID)\n",
    "len(df_ID[df_ID['holdTime']>5])"
   ]
  },
  {
   "attachments": {},
   "cell_type": "markdown",
   "metadata": {},
   "source": [
    "### Filtering  (1. dataset)"
   ]
  },
  {
   "cell_type": "code",
   "execution_count": null,
   "metadata": {},
   "outputs": [
    {
     "name": "stdout",
     "output_type": "stream",
     "text": [
      "(1749, 6)\n",
      "(1716, 6)\n",
      "(1716, 6)\n",
      "(1716, 6)\n"
     ]
    }
   ],
   "source": [
    "# basic filters\n",
    "print(df_ID.shape)\n",
    "df_ID_new = df_ID.drop(df_ID[df_ID['holdTime']>5].index)\n",
    "print(df_ID_new.shape)\n",
    "df_ID_new.drop(df_ID_new[df_ID_new['holdTime']<0].index, inplace=True)\n",
    "print(df_ID_new.shape)\n",
    "df_ID_new.drop(df_ID_new[df_ID_new['releaseTime']<0].index, inplace=True)\n",
    "print(df_ID_new.shape)"
   ]
  },
  {
   "cell_type": "code",
   "execution_count": null,
   "metadata": {},
   "outputs": [
    {
     "name": "stdout",
     "output_type": "stream",
     "text": [
      "(1573, 6)\n"
     ]
    }
   ],
   "source": [
    "# filters for 1. dataset\n",
    "\n",
    "pattern = 'mouse|BackSpace|Shift|Alt|Control|Num_Lock|Return|P_Enter|Caps_Lock|Left|Right|Up|Down'\n",
    "pattern += '|more|less|exclamdown|\\[65027\\]|\\[65105\\]|ntilde|minus|equal|bracket|semicolon|slash|apostrophe|grave|question|right|left'\n",
    "\n",
    "# re.compile()\n",
    "# spację zostawiamy, comma i period takze\n",
    "len(df_ID_new[df_ID_new['pressedKey'].str.contains(pattern, regex=True)])/1750\n",
    "# jak dużo danych tracimy w wyniku filtracji? ~10%\n",
    "\n",
    "df_ID_new = df_ID_new[~df_ID_new['pressedKey'].str.contains(pattern, regex=True)]\n",
    "print(df_ID_new.shape)"
   ]
  },
  {
   "cell_type": "code",
   "execution_count": null,
   "metadata": {},
   "outputs": [],
   "source": [
    "# import nqDataLoader as nq\n",
    "# pressedKey, holdTime, pressTime, releaseTime= nq.getDataFiltHelper(fileIn)"
   ]
  },
  {
   "attachments": {},
   "cell_type": "markdown",
   "metadata": {},
   "source": [
    "### Feature extraction - 1. approach  (1. dataset)"
   ]
  },
  {
   "cell_type": "code",
   "execution_count": null,
   "metadata": {},
   "outputs": [],
   "source": [
    "# https://www.nature.com/articles/srep34468\n",
    "\n",
    "# to będzie potem w zapętleniu x razy, x - liczba blokow Bi\n",
    "df_newtemp = df_ID[df_ID['releaseTime'] < 90]  # zakładana długość\n",
    "Q1 = df_newtemp['holdTime'].quantile(q=0.25)\n",
    "Q3 = df_newtemp['holdTime'].quantile(q=0.75)\n",
    "IQR = Q3 - Q1\n",
    "upper_lim = Q3 + 1.5*IQR\n",
    "lower_lim = Q1 - 1.5*IQR\n",
    "vout = len(df_newtemp[(df_newtemp['holdTime'] < lower_lim)\n",
    "           | (df_newtemp['holdTime'] > upper_lim)])\n",
    "viqr = (df_newtemp['holdTime'].quantile(q=0.5 - Q1))/(Q3 - Q1)\n",
    "hist, bin_edges = np.histogram(df_newtemp['holdTime'], bins=4, density=True)\n",
    "vhist1, vhist2, vhist3, vhist4 = hist * np.diff(bin_edges)\n",
    "# vde - dla wszystkich i potem dodac czy inaczej?"
   ]
  },
  {
   "attachments": {},
   "cell_type": "markdown",
   "metadata": {},
   "source": [
    "### Feature extraction - 2. approach  (1. dataset)"
   ]
  },
  {
   "cell_type": "code",
   "execution_count": null,
   "metadata": {},
   "outputs": [
    {
     "name": "stdout",
     "output_type": "stream",
     "text": [
      "7\n",
      "0.11932857142857144\n",
      "19\n",
      "0.11850526315789472\n",
      "24\n",
      "0.11509166666666666\n",
      "43\n",
      "0.11420000000000001\n",
      "44\n",
      "0.1181181818181818\n",
      "47\n",
      "0.1245851063829787\n",
      "54\n",
      "0.1181314814814815\n",
      "46\n",
      "0.1117717391304348\n",
      "41\n",
      "0.10615121951219512\n",
      "43\n",
      "0.11436511627906977\n",
      "55\n",
      "0.1078509090909091\n",
      "52\n",
      "0.11059230769230771\n",
      "55\n",
      "0.11260181818181822\n",
      "49\n",
      "0.16230816326530612\n",
      "56\n",
      "0.2390196428571429\n",
      "37\n",
      "0.15952702702702704\n",
      "36\n",
      "0.2908055555555555\n",
      "47\n",
      "0.11350425531914891\n",
      "(18, 18)\n"
     ]
    },
    {
     "data": {
      "image/png": "[encoded data removed]",
      "text/plain": [
       "<Figure size 400x300 with 1 Axes>"
      ]
     },
     "metadata": {},
     "output_type": "display_data"
    }
   ],
   "source": [
    "# https://www.nature.com/articles/s41598-018-25999-0\n",
    "\n",
    "# 15-seconds non-overlapping time windows\n",
    "assumed_length = 360  # first condition\n",
    "# window_time = 15  # time width of window\n",
    "window_time = 20  # time width of window\n",
    "\n",
    "va = feature_extract_method_2(df_ID_new , dynamic_feature='holdTime', assumed_length=assumed_length, window_time=window_time)"
   ]
  },
  {
   "cell_type": "code",
   "execution_count": null,
   "metadata": {},
   "outputs": [
    {
     "data": {
      "text/plain": [
       "array([1.36469890e-01, 5.00133506e-02, 1.39509793e-01, 2.33804120e-01,\n",
       "       8.57285655e+00, 1.50883781e+01, 1.85257573e+00, 2.31663868e+00,\n",
       "       2.78770593e+00, 1.54881843e+00, 4.76697714e+02])"
      ]
     },
     "execution_count": 23,
     "metadata": {},
     "output_type": "execute_result"
    }
   ],
   "source": [
    "va"
   ]
  },
  {
   "attachments": {},
   "cell_type": "markdown",
   "metadata": {},
   "source": [
    "## Read data - (2. dataset TAPPY)"
   ]
  },
  {
   "cell_type": "code",
   "execution_count": 5,
   "metadata": {},
   "outputs": [
    {
     "data": {
      "text/html": [
       "<div>\n",
       "<style scoped>\n",
       "    .dataframe tbody tr th:only-of-type {\n",
       "        vertical-align: middle;\n",
       "    }\n",
       "\n",
       "    .dataframe tbody tr th {\n",
       "        vertical-align: top;\n",
       "    }\n",
       "\n",
       "    .dataframe thead th {\n",
       "        text-align: right;\n",
       "    }\n",
       "</style>\n",
       "<table border=\"1\" class=\"dataframe\">\n",
       "  <thead>\n",
       "    <tr style=\"text-align: right;\">\n",
       "      <th></th>\n",
       "      <th>pID</th>\n",
       "      <th>files</th>\n",
       "      <th>Parkinsons</th>\n",
       "    </tr>\n",
       "  </thead>\n",
       "  <tbody>\n",
       "    <tr>\n",
       "      <th>0</th>\n",
       "      <td>0EA27ICBLF</td>\n",
       "      <td>[0EA27ICBLF_1607.txt, 0EA27ICBLF_1608.txt]</td>\n",
       "      <td>True</td>\n",
       "    </tr>\n",
       "    <tr>\n",
       "      <th>1</th>\n",
       "      <td>0QAZFRHQHW</td>\n",
       "      <td>[0QAZFRHQHW_1609.txt, 0QAZFRHQHW_1610.txt]</td>\n",
       "      <td>False</td>\n",
       "    </tr>\n",
       "    <tr>\n",
       "      <th>3</th>\n",
       "      <td>1HOEBIGASW</td>\n",
       "      <td>[1HOEBIGASW_1702.txt]</td>\n",
       "      <td>False</td>\n",
       "    </tr>\n",
       "    <tr>\n",
       "      <th>5</th>\n",
       "      <td>1XNJCXS3EY</td>\n",
       "      <td>[1XNJCXS3EY_1608.txt]</td>\n",
       "      <td>False</td>\n",
       "    </tr>\n",
       "    <tr>\n",
       "      <th>6</th>\n",
       "      <td>2JTCBKUP8T</td>\n",
       "      <td>[2JTCBKUP8T_1702.txt, 2JTCBKUP8T_1703.txt]</td>\n",
       "      <td>True</td>\n",
       "    </tr>\n",
       "    <tr>\n",
       "      <th>...</th>\n",
       "      <td>...</td>\n",
       "      <td>...</td>\n",
       "      <td>...</td>\n",
       "    </tr>\n",
       "    <tr>\n",
       "      <th>222</th>\n",
       "      <td>ZT9ASWFCFS</td>\n",
       "      <td>[ZT9ASWFCFS_1606.txt]</td>\n",
       "      <td>True</td>\n",
       "    </tr>\n",
       "    <tr>\n",
       "      <th>223</th>\n",
       "      <td>ZWBPPNQCUX</td>\n",
       "      <td>[ZWBPPNQCUX_1608.txt, ZWBPPNQCUX_1612.txt]</td>\n",
       "      <td>True</td>\n",
       "    </tr>\n",
       "    <tr>\n",
       "      <th>224</th>\n",
       "      <td>ZWHGXDUDLG</td>\n",
       "      <td>[ZWHGXDUDLG_1703.txt]</td>\n",
       "      <td>True</td>\n",
       "    </tr>\n",
       "    <tr>\n",
       "      <th>225</th>\n",
       "      <td>ZY9CCHSPF2</td>\n",
       "      <td>[ZY9CCHSPF2_1607.txt, ZY9CCHSPF2_1608.txt, ZY9...</td>\n",
       "      <td>True</td>\n",
       "    </tr>\n",
       "    <tr>\n",
       "      <th>226</th>\n",
       "      <td>ZYWLN4JVLA</td>\n",
       "      <td>[ZYWLN4JVLA_1701.txt]</td>\n",
       "      <td>True</td>\n",
       "    </tr>\n",
       "  </tbody>\n",
       "</table>\n",
       "<p>217 rows × 3 columns</p>\n",
       "</div>"
      ],
      "text/plain": [
       "            pID                                              files Parkinsons\n",
       "0    0EA27ICBLF         [0EA27ICBLF_1607.txt, 0EA27ICBLF_1608.txt]       True\n",
       "1    0QAZFRHQHW         [0QAZFRHQHW_1609.txt, 0QAZFRHQHW_1610.txt]      False\n",
       "3    1HOEBIGASW                              [1HOEBIGASW_1702.txt]      False\n",
       "5    1XNJCXS3EY                              [1XNJCXS3EY_1608.txt]      False\n",
       "6    2JTCBKUP8T         [2JTCBKUP8T_1702.txt, 2JTCBKUP8T_1703.txt]       True\n",
       "..          ...                                                ...        ...\n",
       "222  ZT9ASWFCFS                              [ZT9ASWFCFS_1606.txt]       True\n",
       "223  ZWBPPNQCUX         [ZWBPPNQCUX_1608.txt, ZWBPPNQCUX_1612.txt]       True\n",
       "224  ZWHGXDUDLG                              [ZWHGXDUDLG_1703.txt]       True\n",
       "225  ZY9CCHSPF2  [ZY9CCHSPF2_1607.txt, ZY9CCHSPF2_1608.txt, ZY9...       True\n",
       "226  ZYWLN4JVLA                              [ZYWLN4JVLA_1701.txt]       True\n",
       "\n",
       "[217 rows x 3 columns]"
      ]
     },
     "execution_count": 5,
     "metadata": {},
     "output_type": "execute_result"
    }
   ],
   "source": [
    "directory_path1 = 'D:/studia_mgrEIM/master_diploma/data/tappy-keystroke-data-1.0.0/Archived_users/'\n",
    "files_list1 = os.listdir(directory_path1)\n",
    "\n",
    "users = [el.split(\"_\")[1].split(\".\")[0] for el in files_list1]\n",
    "df_ID2 = pd.DataFrame(data=users, columns=['pID'])\n",
    "\n",
    "directory_path2 = 'D:/studia_mgrEIM/master_diploma/data/tappy-keystroke-data-1.0.0/Tappy_Data/'\n",
    "files_list2 = os.listdir(directory_path2)\n",
    "\n",
    "for i, el in enumerate(df_ID2['pID']):\n",
    "    temp = [x for x in files_list2 if x.startswith(el)]\n",
    "    if len(temp):\n",
    "        df_ID2.loc[[i], 'files'] = pd.Series([temp], index=df_ID2.index[[i]])\n",
    "        with open(directory_path1 + files_list1[i], 'r') as f:\n",
    "            for line in f:\n",
    "                if 'Parkinsons' in line:       \n",
    "                    read_info = line.strip().split(\": \")\n",
    "                    df_ID2.loc[[i], 'Parkinsons'] = read_info[1]\n",
    "                                      \n",
    "df_ID2.dropna(inplace=True)\n",
    "df_ID2"
   ]
  },
  {
   "cell_type": "code",
   "execution_count": 30,
   "metadata": {},
   "outputs": [
    {
     "data": {
      "text/plain": [
       "Text(0.5, 0, 'Parkinson disease')"
      ]
     },
     "execution_count": 30,
     "metadata": {},
     "output_type": "execute_result"
    },
    {
     "data": {
      "image/png": "[encoded data removed]",
      "text/plain": [
       "<Figure size 400x300 with 1 Axes>"
      ]
     },
     "metadata": {},
     "output_type": "display_data"
    }
   ],
   "source": [
    "plt.figure(figsize=[4,3])\n",
    "sns.countplot(x = 'Parkinsons', data = df_ID2)\n",
    "plt.xlabel('Parkinson disease')"
   ]
  },
  {
   "cell_type": "code",
   "execution_count": 14,
   "metadata": {},
   "outputs": [
    {
     "data": {
      "text/plain": [
       "'0EA27ICBLF_1607.txt'"
      ]
     },
     "execution_count": 14,
     "metadata": {},
     "output_type": "execute_result"
    }
   ],
   "source": [
    "df_ID2.loc[[0], 'files'][0][0]"
   ]
  },
  {
   "cell_type": "code",
   "execution_count": 36,
   "metadata": {},
   "outputs": [
    {
     "data": {
      "text/html": [
       "<div>\n",
       "<style scoped>\n",
       "    .dataframe tbody tr th:only-of-type {\n",
       "        vertical-align: middle;\n",
       "    }\n",
       "\n",
       "    .dataframe tbody tr th {\n",
       "        vertical-align: top;\n",
       "    }\n",
       "\n",
       "    .dataframe thead th {\n",
       "        text-align: right;\n",
       "    }\n",
       "</style>\n",
       "<table border=\"1\" class=\"dataframe\">\n",
       "  <thead>\n",
       "    <tr style=\"text-align: right;\">\n",
       "      <th></th>\n",
       "      <th>Date</th>\n",
       "      <th>Timestamp</th>\n",
       "      <th>Hand</th>\n",
       "      <th>holdTime</th>\n",
       "      <th>flightTime</th>\n",
       "      <th>latencyTime</th>\n",
       "    </tr>\n",
       "  </thead>\n",
       "  <tbody>\n",
       "    <tr>\n",
       "      <th>0</th>\n",
       "      <td>160916</td>\n",
       "      <td>19:20:43.891</td>\n",
       "      <td>L</td>\n",
       "      <td>0.0781</td>\n",
       "      <td>0.3125</td>\n",
       "      <td>0.2578</td>\n",
       "    </tr>\n",
       "    <tr>\n",
       "      <th>1</th>\n",
       "      <td>160916</td>\n",
       "      <td>19:20:44.344</td>\n",
       "      <td>L</td>\n",
       "      <td>0.0781</td>\n",
       "      <td>0.4531</td>\n",
       "      <td>0.3750</td>\n",
       "    </tr>\n",
       "    <tr>\n",
       "      <th>2</th>\n",
       "      <td>160916</td>\n",
       "      <td>19:20:44.742</td>\n",
       "      <td>L</td>\n",
       "      <td>0.0625</td>\n",
       "      <td>0.4141</td>\n",
       "      <td>0.3359</td>\n",
       "    </tr>\n",
       "    <tr>\n",
       "      <th>3</th>\n",
       "      <td>160916</td>\n",
       "      <td>19:20:45.516</td>\n",
       "      <td>L</td>\n",
       "      <td>0.0938</td>\n",
       "      <td>0.7422</td>\n",
       "      <td>0.6797</td>\n",
       "    </tr>\n",
       "    <tr>\n",
       "      <th>4</th>\n",
       "      <td>160916</td>\n",
       "      <td>19:20:46.047</td>\n",
       "      <td>R</td>\n",
       "      <td>0.1016</td>\n",
       "      <td>0.5234</td>\n",
       "      <td>0.4297</td>\n",
       "    </tr>\n",
       "  </tbody>\n",
       "</table>\n",
       "</div>"
      ],
      "text/plain": [
       "     Date     Timestamp Hand  holdTime  flightTime  latencyTime\n",
       "0  160916  19:20:43.891    L    0.0781      0.3125       0.2578\n",
       "1  160916  19:20:44.344    L    0.0781      0.4531       0.3750\n",
       "2  160916  19:20:44.742    L    0.0625      0.4141       0.3359\n",
       "3  160916  19:20:45.516    L    0.0938      0.7422       0.6797\n",
       "4  160916  19:20:46.047    R    0.1016      0.5234       0.4297"
      ]
     },
     "execution_count": 36,
     "metadata": {},
     "output_type": "execute_result"
    }
   ],
   "source": [
    "data2 = pd.read_csv(directory_path2 + df_ID2['files'].iloc[1][0], delimiter=\"\\t\", index_col=False, header=None, names=[\n",
    "                    'User', 'Date', 'Timestamp', 'Hand', 'holdTime', 'Direction', 'flightTime', 'latencyTime'])\n",
    "\n",
    "data2.drop(columns=['User'], inplace=True)\n",
    "data2.drop(columns=['Direction'], inplace=True)\n",
    "\n",
    "data2.iloc[:, -3:] = data2.iloc[:, -\n",
    "                                3:].apply(lambda x: x.lstrip('0') if type(x) == str else x)\n",
    "data2.iloc[:, -3:] = pd.to_numeric(data2.iloc[:, -3:].stack(),\n",
    "                                   errors='coerce').unstack()\n",
    "data2.iloc[:, -3:] = data2.iloc[:, -3:].apply(lambda x: x/1000)\n",
    "data2.head()"
   ]
  },
  {
   "cell_type": "code",
   "execution_count": 37,
   "metadata": {},
   "outputs": [
    {
     "data": {
      "text/html": [
       "<div>\n",
       "<style scoped>\n",
       "    .dataframe tbody tr th:only-of-type {\n",
       "        vertical-align: middle;\n",
       "    }\n",
       "\n",
       "    .dataframe tbody tr th {\n",
       "        vertical-align: top;\n",
       "    }\n",
       "\n",
       "    .dataframe thead th {\n",
       "        text-align: right;\n",
       "    }\n",
       "</style>\n",
       "<table border=\"1\" class=\"dataframe\">\n",
       "  <thead>\n",
       "    <tr style=\"text-align: right;\">\n",
       "      <th></th>\n",
       "      <th>Timestamp</th>\n",
       "      <th>Hand</th>\n",
       "      <th>holdTime</th>\n",
       "      <th>flightTime</th>\n",
       "      <th>latencyTime</th>\n",
       "      <th>Length</th>\n",
       "    </tr>\n",
       "    <tr>\n",
       "      <th>Date</th>\n",
       "      <th></th>\n",
       "      <th></th>\n",
       "      <th></th>\n",
       "      <th></th>\n",
       "      <th></th>\n",
       "      <th></th>\n",
       "    </tr>\n",
       "  </thead>\n",
       "  <tbody>\n",
       "    <tr>\n",
       "      <th>160916</th>\n",
       "      <td>[19:20:43.891, 19:20:44.344, 19:20:44.742, 19:...</td>\n",
       "      <td>[L, L, L, L, R, R]</td>\n",
       "      <td>[0.07809999999999999, 0.07809999999999999, 0.0...</td>\n",
       "      <td>[0.3125, 0.4531, 0.4141, 0.7422000000000001, 0...</td>\n",
       "      <td>[0.25780000000000003, 0.375, 0.3359, 0.6797000...</td>\n",
       "      <td>6</td>\n",
       "    </tr>\n",
       "    <tr>\n",
       "      <th>160918</th>\n",
       "      <td>[10:35:01.508, 10:35:01.930, 10:35:02.164, 10:...</td>\n",
       "      <td>[L, R, R, L, R, R, R, R, L, L, L, R, R, L, R, ...</td>\n",
       "      <td>[0.10940000000000001, 0.21480000000000002, 0.0...</td>\n",
       "      <td>[0.2891, 0.31639999999999996, 0.38280000000000...</td>\n",
       "      <td>[0.1758, 0.207, 0.168, 0.3906, 0.2813, 0.07809...</td>\n",
       "      <td>80</td>\n",
       "    </tr>\n",
       "    <tr>\n",
       "      <th>160919</th>\n",
       "      <td>[18:39:21.977, 18:39:22.477, 18:39:22.922, 21:...</td>\n",
       "      <td>[L, L, L, R, L, L, R, L, R, L, R, L, L, R]</td>\n",
       "      <td>[0.07809999999999999, 0.0703, 0.07809999999999...</td>\n",
       "      <td>[0.4219, 0.5078, 0.4375, 0.4063, 0.30469999999...</td>\n",
       "      <td>[0.3438, 0.42969999999999997, 0.36719999999999...</td>\n",
       "      <td>14</td>\n",
       "    </tr>\n",
       "    <tr>\n",
       "      <th>160921</th>\n",
       "      <td>[16:34:25.703, 16:34:27.164, 16:45:29.914, 16:...</td>\n",
       "      <td>[L, L, L, L, R, L, L, L]</td>\n",
       "      <td>[0.0938, 0.10940000000000001, 0.125, 0.1406, 0...</td>\n",
       "      <td>[0.4531, 0.5117, 0.3359, 0.3555, 0.49610000000...</td>\n",
       "      <td>[0.3438, 0.418, 0.2266, 0.21480000000000002, 0...</td>\n",
       "      <td>8</td>\n",
       "    </tr>\n",
       "    <tr>\n",
       "      <th>160922</th>\n",
       "      <td>[08:40:36.512, 08:40:37.027, 08:40:37.402, 08:...</td>\n",
       "      <td>[L, L, L, R, L, L, L, R, R, R, L, L, L, R, R, ...</td>\n",
       "      <td>[0.07809999999999999, 0.07809999999999999, 0.0...</td>\n",
       "      <td>[0.3594, 0.5156000000000001, 0.3906, 0.2031, 0...</td>\n",
       "      <td>[0.2813, 0.4375, 0.3125, 0.125, 0.2344, 0.1211...</td>\n",
       "      <td>559</td>\n",
       "    </tr>\n",
       "    <tr>\n",
       "      <th>160923</th>\n",
       "      <td>[15:54:36.141, 15:54:36.688, 15:54:36.938, 15:...</td>\n",
       "      <td>[L, L, L, L, R, R, L, R, L, S, R, R, L, R, L, ...</td>\n",
       "      <td>[0.0938, 0.0938, 0.0938, 0.10940000000000001, ...</td>\n",
       "      <td>[0.1875, 0.5468999999999999, 0.25, 0.7813, 0.5...</td>\n",
       "      <td>[0.0938, 0.4531, 0.15630000000000002, 0.6875, ...</td>\n",
       "      <td>51</td>\n",
       "    </tr>\n",
       "    <tr>\n",
       "      <th>160925</th>\n",
       "      <td>[09:04:27.662, 09:04:29.318]</td>\n",
       "      <td>[L, L]</td>\n",
       "      <td>[0.1211, 0.1465]</td>\n",
       "      <td>[0.4043, 0.6347999999999999]</td>\n",
       "      <td>[0.3477, 0.5078]</td>\n",
       "      <td>2</td>\n",
       "    </tr>\n",
       "    <tr>\n",
       "      <th>160926</th>\n",
       "      <td>[14:19:25.395, 14:19:26.031, 14:19:26.680, 14:...</td>\n",
       "      <td>[L, R, L, R, L, L, L, R, R, L, L, R, R]</td>\n",
       "      <td>[0.1055, 0.15230000000000002, 0.082, 0.1367, 0...</td>\n",
       "      <td>[0.5468999999999999, 0.5898, 0.7188, 0.7109, 0...</td>\n",
       "      <td>[0.4141, 0.4844, 0.5664, 0.6289, 0.1875, 0.574...</td>\n",
       "      <td>13</td>\n",
       "    </tr>\n",
       "    <tr>\n",
       "      <th>160927</th>\n",
       "      <td>[13:47:29.781, 13:47:31.344, 19:24:13.188, 19:...</td>\n",
       "      <td>[L, L, L, R, R, R, L, R, R, R, L, R, R, L, R, ...</td>\n",
       "      <td>[0.0938, 0.15630000000000002, 0.1641, 0.1172, ...</td>\n",
       "      <td>[0.44139999999999996, 0.44139999999999996, 0.2...</td>\n",
       "      <td>[0.3281, 0.3281, 0.10940000000000001, 0.2734, ...</td>\n",
       "      <td>30</td>\n",
       "    </tr>\n",
       "    <tr>\n",
       "      <th>160928</th>\n",
       "      <td>[10:12:07.434, 10:12:12.957, 10:12:13.711, 10:...</td>\n",
       "      <td>[L, L, R, R, R, R, R, L, L, R, L, L, L, S, L, ...</td>\n",
       "      <td>[0.09770000000000001, 0.1055, 0.07809999999999...</td>\n",
       "      <td>[0.36719999999999997, 0.5273, 0.7813, 0.679700...</td>\n",
       "      <td>[0.2813, 0.4063, 0.6758, 0.6016, 0.1055, 0.515...</td>\n",
       "      <td>39</td>\n",
       "    </tr>\n",
       "    <tr>\n",
       "      <th>160929</th>\n",
       "      <td>[08:30:50.529, 08:30:53.139, 08:30:53.764, 08:...</td>\n",
       "      <td>[L, L, R, R, R, R, L, L, R, L, L, R, R, L, R]</td>\n",
       "      <td>[0.0625, 0.10940000000000001, 0.10940000000000...</td>\n",
       "      <td>[0.4375, 0.7813, 0.625, 0.2031, 0.5313, 0.4688...</td>\n",
       "      <td>[0.3125, 0.6718999999999999, 0.515600000000000...</td>\n",
       "      <td>15</td>\n",
       "    </tr>\n",
       "    <tr>\n",
       "      <th>160930</th>\n",
       "      <td>[09:32:09.762, 09:32:11.055, 09:32:11.242, 09:...</td>\n",
       "      <td>[L, R, R, R, L, L, L]</td>\n",
       "      <td>[0.082, 0.125, 0.07809999999999999, 0.15630000...</td>\n",
       "      <td>[0.4844, 0.4375, 0.2344, 0.5586, 0.4766, 0.453...</td>\n",
       "      <td>[0.3594, 0.293, 0.10940000000000001, 0.4844, 0...</td>\n",
       "      <td>7</td>\n",
       "    </tr>\n",
       "  </tbody>\n",
       "</table>\n",
       "</div>"
      ],
      "text/plain": [
       "                                                Timestamp  \\\n",
       "Date                                                        \n",
       "160916  [19:20:43.891, 19:20:44.344, 19:20:44.742, 19:...   \n",
       "160918  [10:35:01.508, 10:35:01.930, 10:35:02.164, 10:...   \n",
       "160919  [18:39:21.977, 18:39:22.477, 18:39:22.922, 21:...   \n",
       "160921  [16:34:25.703, 16:34:27.164, 16:45:29.914, 16:...   \n",
       "160922  [08:40:36.512, 08:40:37.027, 08:40:37.402, 08:...   \n",
       "160923  [15:54:36.141, 15:54:36.688, 15:54:36.938, 15:...   \n",
       "160925                       [09:04:27.662, 09:04:29.318]   \n",
       "160926  [14:19:25.395, 14:19:26.031, 14:19:26.680, 14:...   \n",
       "160927  [13:47:29.781, 13:47:31.344, 19:24:13.188, 19:...   \n",
       "160928  [10:12:07.434, 10:12:12.957, 10:12:13.711, 10:...   \n",
       "160929  [08:30:50.529, 08:30:53.139, 08:30:53.764, 08:...   \n",
       "160930  [09:32:09.762, 09:32:11.055, 09:32:11.242, 09:...   \n",
       "\n",
       "                                                     Hand  \\\n",
       "Date                                                        \n",
       "160916                                 [L, L, L, L, R, R]   \n",
       "160918  [L, R, R, L, R, R, R, R, L, L, L, R, R, L, R, ...   \n",
       "160919         [L, L, L, R, L, L, R, L, R, L, R, L, L, R]   \n",
       "160921                           [L, L, L, L, R, L, L, L]   \n",
       "160922  [L, L, L, R, L, L, L, R, R, R, L, L, L, R, R, ...   \n",
       "160923  [L, L, L, L, R, R, L, R, L, S, R, R, L, R, L, ...   \n",
       "160925                                             [L, L]   \n",
       "160926            [L, R, L, R, L, L, L, R, R, L, L, R, R]   \n",
       "160927  [L, L, L, R, R, R, L, R, R, R, L, R, R, L, R, ...   \n",
       "160928  [L, L, R, R, R, R, R, L, L, R, L, L, L, S, L, ...   \n",
       "160929      [L, L, R, R, R, R, L, L, R, L, L, R, R, L, R]   \n",
       "160930                              [L, R, R, R, L, L, L]   \n",
       "\n",
       "                                                 holdTime  \\\n",
       "Date                                                        \n",
       "160916  [0.07809999999999999, 0.07809999999999999, 0.0...   \n",
       "160918  [0.10940000000000001, 0.21480000000000002, 0.0...   \n",
       "160919  [0.07809999999999999, 0.0703, 0.07809999999999...   \n",
       "160921  [0.0938, 0.10940000000000001, 0.125, 0.1406, 0...   \n",
       "160922  [0.07809999999999999, 0.07809999999999999, 0.0...   \n",
       "160923  [0.0938, 0.0938, 0.0938, 0.10940000000000001, ...   \n",
       "160925                                   [0.1211, 0.1465]   \n",
       "160926  [0.1055, 0.15230000000000002, 0.082, 0.1367, 0...   \n",
       "160927  [0.0938, 0.15630000000000002, 0.1641, 0.1172, ...   \n",
       "160928  [0.09770000000000001, 0.1055, 0.07809999999999...   \n",
       "160929  [0.0625, 0.10940000000000001, 0.10940000000000...   \n",
       "160930  [0.082, 0.125, 0.07809999999999999, 0.15630000...   \n",
       "\n",
       "                                               flightTime  \\\n",
       "Date                                                        \n",
       "160916  [0.3125, 0.4531, 0.4141, 0.7422000000000001, 0...   \n",
       "160918  [0.2891, 0.31639999999999996, 0.38280000000000...   \n",
       "160919  [0.4219, 0.5078, 0.4375, 0.4063, 0.30469999999...   \n",
       "160921  [0.4531, 0.5117, 0.3359, 0.3555, 0.49610000000...   \n",
       "160922  [0.3594, 0.5156000000000001, 0.3906, 0.2031, 0...   \n",
       "160923  [0.1875, 0.5468999999999999, 0.25, 0.7813, 0.5...   \n",
       "160925                       [0.4043, 0.6347999999999999]   \n",
       "160926  [0.5468999999999999, 0.5898, 0.7188, 0.7109, 0...   \n",
       "160927  [0.44139999999999996, 0.44139999999999996, 0.2...   \n",
       "160928  [0.36719999999999997, 0.5273, 0.7813, 0.679700...   \n",
       "160929  [0.4375, 0.7813, 0.625, 0.2031, 0.5313, 0.4688...   \n",
       "160930  [0.4844, 0.4375, 0.2344, 0.5586, 0.4766, 0.453...   \n",
       "\n",
       "                                              latencyTime  Length  \n",
       "Date                                                               \n",
       "160916  [0.25780000000000003, 0.375, 0.3359, 0.6797000...       6  \n",
       "160918  [0.1758, 0.207, 0.168, 0.3906, 0.2813, 0.07809...      80  \n",
       "160919  [0.3438, 0.42969999999999997, 0.36719999999999...      14  \n",
       "160921  [0.3438, 0.418, 0.2266, 0.21480000000000002, 0...       8  \n",
       "160922  [0.2813, 0.4375, 0.3125, 0.125, 0.2344, 0.1211...     559  \n",
       "160923  [0.0938, 0.4531, 0.15630000000000002, 0.6875, ...      51  \n",
       "160925                                   [0.3477, 0.5078]       2  \n",
       "160926  [0.4141, 0.4844, 0.5664, 0.6289, 0.1875, 0.574...      13  \n",
       "160927  [0.3281, 0.3281, 0.10940000000000001, 0.2734, ...      30  \n",
       "160928  [0.2813, 0.4063, 0.6758, 0.6016, 0.1055, 0.515...      39  \n",
       "160929  [0.3125, 0.6718999999999999, 0.515600000000000...      15  \n",
       "160930  [0.3594, 0.293, 0.10940000000000001, 0.4844, 0...       7  "
      ]
     },
     "execution_count": 37,
     "metadata": {},
     "output_type": "execute_result"
    }
   ],
   "source": [
    "grouped_data = data2.groupby('Date').agg(list)\n",
    "grouped_data['Length'] = grouped_data['Timestamp'].apply(len) \n",
    "grouped_data"
   ]
  },
  {
   "cell_type": "code",
   "execution_count": 38,
   "metadata": {},
   "outputs": [
    {
     "name": "stdout",
     "output_type": "stream",
     "text": [
      "       Date     Timestamp Hand  holdTime  flightTime  latencyTime\n",
      "108  160922  08:40:36.512    L    0.0781      0.3594       0.2813\n",
      "109  160922  08:40:37.027    L    0.0781      0.5156       0.4375\n",
      "110  160922  08:40:37.402    L    0.0625      0.3906       0.3125\n",
      "111  160922  08:40:57.775    R    0.1055      0.2031       0.1250\n",
      "112  160922  14:15:30.012    L    0.0938      0.3828       0.2344\n",
      "..      ...           ...  ...       ...         ...          ...\n",
      "662  160922  22:36:15.094    R    0.1094      0.2188       0.0625\n",
      "663  160922  22:36:16.766    R    0.0781      0.1875       0.1250\n",
      "664  160922  22:36:19.953    L    0.1406      0.6094       0.5156\n",
      "665  160922  22:36:20.312    R    0.0938      0.4063       0.2656\n",
      "666  160922  22:36:20.820    R    0.0781      0.5234       0.4297\n",
      "\n",
      "[559 rows x 6 columns]\n"
     ]
    }
   ],
   "source": [
    "idx=grouped_data['Length'].idxmax() # jeśli jest odpowiednia liczba znakow\n",
    "new_rec=data2[data2['Date']==idx].copy()\n",
    "print(new_rec)"
   ]
  },
  {
   "cell_type": "code",
   "execution_count": 39,
   "metadata": {},
   "outputs": [
    {
     "data": {
      "text/html": [
       "<div>\n",
       "<style scoped>\n",
       "    .dataframe tbody tr th:only-of-type {\n",
       "        vertical-align: middle;\n",
       "    }\n",
       "\n",
       "    .dataframe tbody tr th {\n",
       "        vertical-align: top;\n",
       "    }\n",
       "\n",
       "    .dataframe thead th {\n",
       "        text-align: right;\n",
       "    }\n",
       "</style>\n",
       "<table border=\"1\" class=\"dataframe\">\n",
       "  <thead>\n",
       "    <tr style=\"text-align: right;\">\n",
       "      <th></th>\n",
       "      <th>Date</th>\n",
       "      <th>Timestamp</th>\n",
       "      <th>Hand</th>\n",
       "      <th>holdTime</th>\n",
       "      <th>flightTime</th>\n",
       "      <th>latencyTime</th>\n",
       "      <th>Length</th>\n",
       "    </tr>\n",
       "    <tr>\n",
       "      <th>Hour</th>\n",
       "      <th></th>\n",
       "      <th></th>\n",
       "      <th></th>\n",
       "      <th></th>\n",
       "      <th></th>\n",
       "      <th></th>\n",
       "      <th></th>\n",
       "    </tr>\n",
       "  </thead>\n",
       "  <tbody>\n",
       "    <tr>\n",
       "      <th>8</th>\n",
       "      <td>[160922, 160922, 160922, 160922]</td>\n",
       "      <td>[08:40:36.512, 08:40:37.027, 08:40:37.402, 08:...</td>\n",
       "      <td>[L, L, L, R]</td>\n",
       "      <td>[0.07809999999999999, 0.07809999999999999, 0.0...</td>\n",
       "      <td>[0.3594, 0.5156000000000001, 0.3906, 0.2031]</td>\n",
       "      <td>[0.2813, 0.4375, 0.3125, 0.125]</td>\n",
       "      <td>4</td>\n",
       "    </tr>\n",
       "    <tr>\n",
       "      <th>14</th>\n",
       "      <td>[160922, 160922, 160922, 160922, 160922, 16092...</td>\n",
       "      <td>[14:15:30.012, 14:15:30.230, 14:15:31.391, 14:...</td>\n",
       "      <td>[L, L, L, R, R, R, L, L, L, R, R, L, S, L, R, ...</td>\n",
       "      <td>[0.0938, 0.09770000000000001, 0.1016, 0.1016, ...</td>\n",
       "      <td>[0.38280000000000003, 0.21480000000000002, 0.2...</td>\n",
       "      <td>[0.2344, 0.1211, 0.10940000000000001, 0.4219, ...</td>\n",
       "      <td>547</td>\n",
       "    </tr>\n",
       "    <tr>\n",
       "      <th>19</th>\n",
       "      <td>[160922, 160922]</td>\n",
       "      <td>[19:50:28.297, 19:50:29.625]</td>\n",
       "      <td>[L, L]</td>\n",
       "      <td>[0.0938, 0.125]</td>\n",
       "      <td>[0.4688, 0.4531]</td>\n",
       "      <td>[0.3281, 0.3438]</td>\n",
       "      <td>2</td>\n",
       "    </tr>\n",
       "    <tr>\n",
       "      <th>22</th>\n",
       "      <td>[160922, 160922, 160922, 160922, 160922, 160922]</td>\n",
       "      <td>[22:36:14.922, 22:36:15.094, 22:36:16.766, 22:...</td>\n",
       "      <td>[L, R, R, L, R, R]</td>\n",
       "      <td>[0.15630000000000002, 0.10940000000000001, 0.0...</td>\n",
       "      <td>[0.2031, 0.21880000000000002, 0.1875, 0.609399...</td>\n",
       "      <td>[0.0625, 0.0625, 0.125, 0.5156000000000001, 0....</td>\n",
       "      <td>6</td>\n",
       "    </tr>\n",
       "  </tbody>\n",
       "</table>\n",
       "</div>"
      ],
      "text/plain": [
       "                                                   Date  \\\n",
       "Hour                                                      \n",
       "8                      [160922, 160922, 160922, 160922]   \n",
       "14    [160922, 160922, 160922, 160922, 160922, 16092...   \n",
       "19                                     [160922, 160922]   \n",
       "22     [160922, 160922, 160922, 160922, 160922, 160922]   \n",
       "\n",
       "                                              Timestamp  \\\n",
       "Hour                                                      \n",
       "8     [08:40:36.512, 08:40:37.027, 08:40:37.402, 08:...   \n",
       "14    [14:15:30.012, 14:15:30.230, 14:15:31.391, 14:...   \n",
       "19                         [19:50:28.297, 19:50:29.625]   \n",
       "22    [22:36:14.922, 22:36:15.094, 22:36:16.766, 22:...   \n",
       "\n",
       "                                                   Hand  \\\n",
       "Hour                                                      \n",
       "8                                          [L, L, L, R]   \n",
       "14    [L, L, L, R, R, R, L, L, L, R, R, L, S, L, R, ...   \n",
       "19                                               [L, L]   \n",
       "22                                   [L, R, R, L, R, R]   \n",
       "\n",
       "                                               holdTime  \\\n",
       "Hour                                                      \n",
       "8     [0.07809999999999999, 0.07809999999999999, 0.0...   \n",
       "14    [0.0938, 0.09770000000000001, 0.1016, 0.1016, ...   \n",
       "19                                      [0.0938, 0.125]   \n",
       "22    [0.15630000000000002, 0.10940000000000001, 0.0...   \n",
       "\n",
       "                                             flightTime  \\\n",
       "Hour                                                      \n",
       "8          [0.3594, 0.5156000000000001, 0.3906, 0.2031]   \n",
       "14    [0.38280000000000003, 0.21480000000000002, 0.2...   \n",
       "19                                     [0.4688, 0.4531]   \n",
       "22    [0.2031, 0.21880000000000002, 0.1875, 0.609399...   \n",
       "\n",
       "                                            latencyTime  Length  \n",
       "Hour                                                             \n",
       "8                       [0.2813, 0.4375, 0.3125, 0.125]       4  \n",
       "14    [0.2344, 0.1211, 0.10940000000000001, 0.4219, ...     547  \n",
       "19                                     [0.3281, 0.3438]       2  \n",
       "22    [0.0625, 0.0625, 0.125, 0.5156000000000001, 0....       6  "
      ]
     },
     "execution_count": 39,
     "metadata": {},
     "output_type": "execute_result"
    }
   ],
   "source": [
    "new_rec['Hour'] = new_rec['Timestamp'].apply(lambda x: datetime.strptime(x,'%H:%M:%S.%f').hour)\n",
    "grouped_data = new_rec.groupby('Hour').agg(list)\n",
    "grouped_data['Length'] = grouped_data['Date'].apply(len) \n",
    "grouped_data"
   ]
  },
  {
   "cell_type": "code",
   "execution_count": 40,
   "metadata": {},
   "outputs": [
    {
     "data": {
      "text/html": [
       "<div>\n",
       "<style scoped>\n",
       "    .dataframe tbody tr th:only-of-type {\n",
       "        vertical-align: middle;\n",
       "    }\n",
       "\n",
       "    .dataframe tbody tr th {\n",
       "        vertical-align: top;\n",
       "    }\n",
       "\n",
       "    .dataframe thead th {\n",
       "        text-align: right;\n",
       "    }\n",
       "</style>\n",
       "<table border=\"1\" class=\"dataframe\">\n",
       "  <thead>\n",
       "    <tr style=\"text-align: right;\">\n",
       "      <th></th>\n",
       "      <th>index</th>\n",
       "      <th>Date</th>\n",
       "      <th>Timestamp</th>\n",
       "      <th>Hand</th>\n",
       "      <th>holdTime</th>\n",
       "      <th>flightTime</th>\n",
       "      <th>latencyTime</th>\n",
       "      <th>timeLapse</th>\n",
       "    </tr>\n",
       "  </thead>\n",
       "  <tbody>\n",
       "    <tr>\n",
       "      <th>542</th>\n",
       "      <td>654</td>\n",
       "      <td>160922</td>\n",
       "      <td>1900-01-01 14:27:19.980</td>\n",
       "      <td>R</td>\n",
       "      <td>0.0781</td>\n",
       "      <td>0.6094</td>\n",
       "      <td>0.4688</td>\n",
       "      <td>709.968</td>\n",
       "    </tr>\n",
       "    <tr>\n",
       "      <th>543</th>\n",
       "      <td>655</td>\n",
       "      <td>160922</td>\n",
       "      <td>1900-01-01 14:27:20.246</td>\n",
       "      <td>L</td>\n",
       "      <td>0.0938</td>\n",
       "      <td>0.2500</td>\n",
       "      <td>0.1719</td>\n",
       "      <td>710.234</td>\n",
       "    </tr>\n",
       "    <tr>\n",
       "      <th>544</th>\n",
       "      <td>656</td>\n",
       "      <td>160922</td>\n",
       "      <td>1900-01-01 14:27:20.652</td>\n",
       "      <td>L</td>\n",
       "      <td>0.0938</td>\n",
       "      <td>0.4063</td>\n",
       "      <td>0.3125</td>\n",
       "      <td>710.640</td>\n",
       "    </tr>\n",
       "    <tr>\n",
       "      <th>545</th>\n",
       "      <td>657</td>\n",
       "      <td>160922</td>\n",
       "      <td>1900-01-01 14:27:26.520</td>\n",
       "      <td>L</td>\n",
       "      <td>0.1250</td>\n",
       "      <td>0.2500</td>\n",
       "      <td>0.1406</td>\n",
       "      <td>716.508</td>\n",
       "    </tr>\n",
       "    <tr>\n",
       "      <th>546</th>\n",
       "      <td>658</td>\n",
       "      <td>160922</td>\n",
       "      <td>1900-01-01 14:27:26.926</td>\n",
       "      <td>R</td>\n",
       "      <td>0.1094</td>\n",
       "      <td>0.4219</td>\n",
       "      <td>0.2969</td>\n",
       "      <td>716.914</td>\n",
       "    </tr>\n",
       "  </tbody>\n",
       "</table>\n",
       "</div>"
      ],
      "text/plain": [
       "     index    Date               Timestamp Hand  holdTime  flightTime  \\\n",
       "542    654  160922 1900-01-01 14:27:19.980    R    0.0781      0.6094   \n",
       "543    655  160922 1900-01-01 14:27:20.246    L    0.0938      0.2500   \n",
       "544    656  160922 1900-01-01 14:27:20.652    L    0.0938      0.4063   \n",
       "545    657  160922 1900-01-01 14:27:26.520    L    0.1250      0.2500   \n",
       "546    658  160922 1900-01-01 14:27:26.926    R    0.1094      0.4219   \n",
       "\n",
       "     latencyTime  timeLapse  \n",
       "542       0.4688    709.968  \n",
       "543       0.1719    710.234  \n",
       "544       0.3125    710.640  \n",
       "545       0.1406    716.508  \n",
       "546       0.2969    716.914  "
      ]
     },
     "execution_count": 40,
     "metadata": {},
     "output_type": "execute_result"
    }
   ],
   "source": [
    "idx = grouped_data['Length'].idxmax()\n",
    "new_rec2 = new_rec[new_rec['Hour'] == idx].copy()\n",
    "new_rec2.drop('Hour', axis=1, inplace=True)\n",
    "new_rec2.reset_index(inplace=True)\n",
    "\n",
    "new_rec2['Timestamp'] = new_rec2['Timestamp'].apply(\n",
    "    lambda x: datetime.strptime(x, '%H:%M:%S.%f'))\n",
    "new_rec2['timeLapse'] = count_time_from_0(new_rec2)\n",
    "new_rec2.tail()"
   ]
  },
  {
   "cell_type": "code",
   "execution_count": 41,
   "metadata": {},
   "outputs": [
    {
     "name": "stdout",
     "output_type": "stream",
     "text": [
      "Not enough samples ( 0 ) in this window - it has to be omitted\n",
      "Not enough samples ( 0 ) in this window - it has to be omitted\n"
     ]
    }
   ],
   "source": [
    "# 15-seconds non-overlapping time windows\n",
    "assumed_length = 360  # first condition\n",
    "# window_time = 15  # time width of window\n",
    "window_time = 20  # time width of window\n",
    "\n",
    "va = feature_extract_method_2(new_rec2, dynamic_feature='holdTime', time_feature='timeLapse',\n",
    "                              assumed_length=assumed_length, window_time=window_time)"
   ]
  },
  {
   "cell_type": "code",
   "execution_count": 45,
   "metadata": {},
   "outputs": [
    {
     "data": {
      "text/plain": [
       "array([8.75727016e-02, 3.27005404e-02, 1.99486850e-02, 8.94289640e-03,\n",
       "       1.17791025e+00, 1.77851598e+00, 6.29716979e-01, 7.02424983e-01,\n",
       "       3.31683079e+00, 1.69230319e+00, 5.67178066e+02])"
      ]
     },
     "execution_count": 45,
     "metadata": {},
     "output_type": "execute_result"
    }
   ],
   "source": [
    "va"
   ]
  },
  {
   "cell_type": "code",
   "execution_count": null,
   "metadata": {},
   "outputs": [],
   "source": [
    "from sklearn.preprocessing import LabelEncoder\n",
    "labelencoder_y = LabelEncoder() #-> L or S or R\n",
    "y = labelencoder_y.fit_transform(y)"
   ]
  }
 ],
 "metadata": {
  "kernelspec": {
   "display_name": "base",
   "language": "python",
   "name": "python3"
  },
  "language_info": {
   "codemirror_mode": {
    "name": "ipython",
    "version": 3
   },
   "file_extension": ".py",
   "mimetype": "text/x-python",
   "name": "python",
   "nbconvert_exporter": "python",
   "pygments_lexer": "ipython3",
   "version": "3.8.15"
  },
  "orig_nbformat": 4,
  "vscode": {
   "interpreter": {
    "hash": "49cb93f377a7abe7414b7b0f21fb3017538004a126cf690fb524202736b7fb92"
   }
  }
 },
 "nbformat": 4,
 "nbformat_minor": 2
}
