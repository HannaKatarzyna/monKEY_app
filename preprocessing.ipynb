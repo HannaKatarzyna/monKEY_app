{
 "cells": [
  {
   "cell_type": "code",
   "execution_count": 1,
   "metadata": {},
   "outputs": [],
   "source": [
    "import pandas as pd\n",
    "import os\n",
    "import numpy as np\n",
    "import matplotlib.pyplot as plt\n",
    "from scipy.interpolate import interp1d\n",
    "from sklearn.model_selection import train_test_split\n",
    "from imblearn.over_sampling import RandomOverSampler\n",
    "from imblearn.under_sampling import RandomUnderSampler\n",
    "from datetime import datetime\n",
    "from keystroke_module import *"
   ]
  },
  {
   "cell_type": "code",
   "execution_count": null,
   "metadata": {},
   "outputs": [],
   "source": [
    "# TO DO: kontrola bledow np. w konstruktorze klasy -?\n",
    "# zalozenie minimalnej dlugosci: 100 czy 150? (bo wynika ze w ciagu 6min z 1.datasetu najmniej to 107 i 117 po filtracji, reszta co najmniej 150 kikniec, srednio na osobe wychodzi 600)"
   ]
  },
  {
   "attachments": {},
   "cell_type": "markdown",
   "metadata": {},
   "source": [
    "## Read data - (1. dataset)"
   ]
  },
  {
   "cell_type": "code",
   "execution_count": 2,
   "metadata": {},
   "outputs": [
    {
     "name": "stderr",
     "output_type": "stream",
     "text": [
      "d:\\studia_mgrEIM\\master_diploma\\repo\\masterdiploma\\keystroke_module.py:40: SettingWithCopyWarning: \n",
      "A value is trying to be set on a copy of a slice from a DataFrame\n",
      "\n",
      "See the caveats in the documentation: https://pandas.pydata.org/pandas-docs/stable/user_guide/indexing.html#returning-a-view-versus-a-copy\n",
      "  df_1.drop(columns=['file_2'], inplace=True)\n"
     ]
    },
    {
     "name": "stdout",
     "output_type": "stream",
     "text": [
      "Patients with PD:  60\n",
      "Patients without PD:  56\n"
     ]
    },
    {
     "data": {
      "image/png": "[encoded data removed]",
      "text/plain": [
       "<Figure size 400x300 with 1 Axes>"
      ]
     },
     "metadata": {},
     "output_type": "display_data"
    }
   ],
   "source": [
    "filename1 = 'D:/studia_mgrEIM/master_diploma/data/neuroqwerty/MIT-CS1PD/GT_DataPD_MIT-CS1PD.csv'\n",
    "filename2 = 'D:/studia_mgrEIM/master_diploma/data/neuroqwerty/MIT-CS2PD/GT_DataPD_MIT-CS2PD.csv'\n",
    "path = 'D:/studia_mgrEIM/master_diploma/data/neuroqwerty/all/'\n",
    "\n",
    "data1 = nqDataset(filename1, filename2)\n",
    "data1.show_stats()"
   ]
  },
  {
   "cell_type": "code",
   "execution_count": 10,
   "metadata": {},
   "outputs": [
    {
     "name": "stdout",
     "output_type": "stream",
     "text": [
      "0\n",
      "1\n",
      "2\n",
      "3\n",
      "4\n",
      "5\n",
      "6\n",
      "7\n",
      "8\n",
      "9\n",
      "10\n",
      "11\n",
      "12\n",
      "13\n",
      "14\n",
      "15\n",
      "16\n",
      "17\n",
      "18\n",
      "19\n",
      "20\n",
      "21\n",
      "22\n",
      "23\n",
      "24\n",
      "25\n",
      "26\n",
      "27\n",
      "28\n",
      "29\n",
      "30\n",
      "31\n",
      "32\n",
      "33\n",
      "34\n",
      "35\n",
      "36\n",
      "37\n",
      "38\n",
      "39\n",
      "40\n",
      "41\n",
      "42\n",
      "43\n",
      "44\n",
      "45\n",
      "46\n",
      "47\n",
      "48\n",
      "49\n",
      "50\n",
      "51\n",
      "52\n",
      "53\n",
      "54\n",
      "55\n",
      "56\n",
      "57\n",
      "58\n",
      "59\n",
      "60\n",
      "61\n",
      "62\n",
      "63\n",
      "64\n",
      "65\n",
      "66\n",
      "67\n",
      "68\n",
      "69\n",
      "70\n",
      "71\n",
      "72\n",
      "73\n",
      "74\n",
      "75\n",
      "76\n",
      "77\n",
      "78\n",
      "79\n",
      "80\n",
      "81\n",
      "82\n",
      "83\n",
      "84\n",
      "85\n",
      "86\n",
      "87\n",
      "88\n",
      "89\n",
      "90\n",
      "91\n",
      "92\n",
      "93\n",
      "94\n",
      "95\n",
      "96\n",
      "97\n",
      "98\n",
      "99\n",
      "100\n",
      "101\n",
      "102\n",
      "103\n",
      "104\n",
      "105\n",
      "106\n",
      "107\n",
      "108\n",
      "109\n",
      "110\n",
      "111\n",
      "112\n",
      "113\n",
      "114\n",
      "115\n",
      "(116, 22)\n"
     ]
    }
   ],
   "source": [
    "data1.prepare_dataset(path, feature_extract=2)\n",
    "print(data1.features.shape)"
   ]
  },
  {
   "cell_type": "code",
   "execution_count": 12,
   "metadata": {},
   "outputs": [
    {
     "name": "stdout",
     "output_type": "stream",
     "text": [
      "2\n",
      "0\n"
     ]
    }
   ],
   "source": [
    "# tests\n",
    "a = np.count_nonzero(np.isnan(data1.features))\n",
    "print(a)\n",
    "col_mean = np.nanmean(data1.features, axis=0)\n",
    "\n",
    "inds = np.where(np.isnan(data1.features))\n",
    "data1.features[inds] = np.take(col_mean, inds[1])\n",
    "b = np.count_nonzero(np.isnan(data1.features))\n",
    "print(b)"
   ]
  },
  {
   "cell_type": "code",
   "execution_count": 7,
   "metadata": {},
   "outputs": [
    {
     "name": "stdout",
     "output_type": "stream",
     "text": [
      "Number of fold:  1\n",
      "{'0.0': {'precision': 0.5625, 'recall': 0.9, 'f1-score': 0.6923076923076923, 'support': 10}, '1.0': {'precision': 0.875, 'recall': 0.5, 'f1-score': 0.6363636363636364, 'support': 14}, 'accuracy': 0.6666666666666666, 'macro avg': {'precision': 0.71875, 'recall': 0.7, 'f1-score': 0.6643356643356644, 'support': 24}, 'weighted avg': {'precision': 0.7447916666666666, 'recall': 0.6666666666666666, 'f1-score': 0.6596736596736597, 'support': 24}}\n",
      "Number of fold:  2\n",
      "{'0.0': {'precision': 0.4, 'recall': 0.6666666666666666, 'f1-score': 0.5, 'support': 6}, '1.0': {'precision': 0.8461538461538461, 'recall': 0.6470588235294118, 'f1-score': 0.7333333333333334, 'support': 17}, 'accuracy': 0.6521739130434783, 'macro avg': {'precision': 0.6230769230769231, 'recall': 0.6568627450980392, 'f1-score': 0.6166666666666667, 'support': 23}, 'weighted avg': {'precision': 0.7297658862876254, 'recall': 0.6521739130434783, 'f1-score': 0.6724637681159421, 'support': 23}}\n",
      "Number of fold:  3\n",
      "{'0.0': {'precision': 0.7857142857142857, 'recall': 0.7857142857142857, 'f1-score': 0.7857142857142857, 'support': 14}, '1.0': {'precision': 0.6666666666666666, 'recall': 0.6666666666666666, 'f1-score': 0.6666666666666666, 'support': 9}, 'accuracy': 0.7391304347826086, 'macro avg': {'precision': 0.7261904761904762, 'recall': 0.7261904761904762, 'f1-score': 0.7261904761904762, 'support': 23}, 'weighted avg': {'precision': 0.7391304347826086, 'recall': 0.7391304347826086, 'f1-score': 0.7391304347826086, 'support': 23}}\n",
      "Number of fold:  4\n",
      "{'0.0': {'precision': 0.7142857142857143, 'recall': 0.7142857142857143, 'f1-score': 0.7142857142857143, 'support': 14}, '1.0': {'precision': 0.5555555555555556, 'recall': 0.5555555555555556, 'f1-score': 0.5555555555555556, 'support': 9}, 'accuracy': 0.6521739130434783, 'macro avg': {'precision': 0.6349206349206349, 'recall': 0.6349206349206349, 'f1-score': 0.6349206349206349, 'support': 23}, 'weighted avg': {'precision': 0.6521739130434783, 'recall': 0.6521739130434783, 'f1-score': 0.6521739130434783, 'support': 23}}\n",
      "Number of fold:  5\n",
      "{'0.0': {'precision': 0.7777777777777778, 'recall': 0.5833333333333334, 'f1-score': 0.6666666666666666, 'support': 12}, '1.0': {'precision': 0.6428571428571429, 'recall': 0.8181818181818182, 'f1-score': 0.7200000000000001, 'support': 11}, 'accuracy': 0.6956521739130435, 'macro avg': {'precision': 0.7103174603174603, 'recall': 0.7007575757575758, 'f1-score': 0.6933333333333334, 'support': 23}, 'weighted avg': {'precision': 0.7132505175983437, 'recall': 0.6956521739130435, 'f1-score': 0.6921739130434783, 'support': 23}}\n",
      "Cross Validation Accuracy Scores:  [0.67, 0.65, 0.74, 0.65, 0.7]\n",
      "Average CV Score:  0.682\n"
     ]
    }
   ],
   "source": [
    "('  KNN')\n",
    "cross_validation(data1.features, data1.ground_truth, train_func=train_kNN_model)"
   ]
  },
  {
   "cell_type": "code",
   "execution_count": 13,
   "metadata": {},
   "outputs": [
    {
     "name": "stdout",
     "output_type": "stream",
     "text": [
      "Number of fold:  1\n",
      "{'0.0': {'precision': 0.5833333333333334, 'recall': 0.7, 'f1-score': 0.6363636363636365, 'support': 10}, '1.0': {'precision': 0.75, 'recall': 0.6428571428571429, 'f1-score': 0.6923076923076924, 'support': 14}, 'accuracy': 0.6666666666666666, 'macro avg': {'precision': 0.6666666666666667, 'recall': 0.6714285714285715, 'f1-score': 0.6643356643356644, 'support': 24}, 'weighted avg': {'precision': 0.6805555555555557, 'recall': 0.6666666666666666, 'f1-score': 0.6689976689976692, 'support': 24}}\n",
      "Number of fold:  2\n",
      "{'0.0': {'precision': 0.7142857142857143, 'recall': 0.3333333333333333, 'f1-score': 0.4545454545454545, 'support': 15}, '1.0': {'precision': 0.375, 'recall': 0.75, 'f1-score': 0.5, 'support': 8}, 'accuracy': 0.4782608695652174, 'macro avg': {'precision': 0.5446428571428572, 'recall': 0.5416666666666666, 'f1-score': 0.47727272727272724, 'support': 23}, 'weighted avg': {'precision': 0.5962732919254659, 'recall': 0.4782608695652174, 'f1-score': 0.4703557312252964, 'support': 23}}\n",
      "Number of fold:  3\n",
      "{'0.0': {'precision': 0.7142857142857143, 'recall': 0.8333333333333334, 'f1-score': 0.7692307692307692, 'support': 6}, '1.0': {'precision': 0.9375, 'recall': 0.8823529411764706, 'f1-score': 0.9090909090909091, 'support': 17}, 'accuracy': 0.8695652173913043, 'macro avg': {'precision': 0.8258928571428572, 'recall': 0.857843137254902, 'f1-score': 0.8391608391608392, 'support': 23}, 'weighted avg': {'precision': 0.8792701863354037, 'recall': 0.8695652173913043, 'f1-score': 0.8726056552143507, 'support': 23}}\n",
      "Number of fold:  4\n",
      "{'0.0': {'precision': 0.875, 'recall': 0.5384615384615384, 'f1-score': 0.6666666666666667, 'support': 13}, '1.0': {'precision': 0.6, 'recall': 0.9, 'f1-score': 0.7200000000000001, 'support': 10}, 'accuracy': 0.6956521739130435, 'macro avg': {'precision': 0.7375, 'recall': 0.7192307692307692, 'f1-score': 0.6933333333333334, 'support': 23}, 'weighted avg': {'precision': 0.7554347826086957, 'recall': 0.6956521739130435, 'f1-score': 0.6898550724637682, 'support': 23}}\n",
      "Number of fold:  5\n",
      "{'0.0': {'precision': 0.75, 'recall': 0.75, 'f1-score': 0.75, 'support': 12}, '1.0': {'precision': 0.7272727272727273, 'recall': 0.7272727272727273, 'f1-score': 0.7272727272727273, 'support': 11}, 'accuracy': 0.7391304347826086, 'macro avg': {'precision': 0.7386363636363636, 'recall': 0.7386363636363636, 'f1-score': 0.7386363636363636, 'support': 23}, 'weighted avg': {'precision': 0.7391304347826086, 'recall': 0.7391304347826086, 'f1-score': 0.7391304347826086, 'support': 23}}\n",
      "Cross Validation Accuracy Scores:  [0.67, 0.48, 0.87, 0.7, 0.74]\n",
      "Average CV Score:  0.692\n"
     ]
    }
   ],
   "source": [
    "('  KNN')\n",
    "cross_validation(data1.features, data1.ground_truth, train_func=train_kNN_model)"
   ]
  },
  {
   "cell_type": "code",
   "execution_count": 8,
   "metadata": {},
   "outputs": [
    {
     "name": "stdout",
     "output_type": "stream",
     "text": [
      "Number of fold:  1\n",
      "{'0.0': {'precision': 0.6428571428571429, 'recall': 0.9, 'f1-score': 0.75, 'support': 10}, '1.0': {'precision': 0.9, 'recall': 0.6428571428571429, 'f1-score': 0.75, 'support': 14}, 'accuracy': 0.75, 'macro avg': {'precision': 0.7714285714285715, 'recall': 0.7714285714285715, 'f1-score': 0.75, 'support': 24}, 'weighted avg': {'precision': 0.7928571428571428, 'recall': 0.75, 'f1-score': 0.75, 'support': 24}}\n",
      "Number of fold:  2\n",
      "{'0.0': {'precision': 0.7272727272727273, 'recall': 0.8, 'f1-score': 0.761904761904762, 'support': 10}, '1.0': {'precision': 0.8333333333333334, 'recall': 0.7692307692307693, 'f1-score': 0.8, 'support': 13}, 'accuracy': 0.782608695652174, 'macro avg': {'precision': 0.7803030303030303, 'recall': 0.7846153846153847, 'f1-score': 0.7809523809523811, 'support': 23}, 'weighted avg': {'precision': 0.7872200263504613, 'recall': 0.782608695652174, 'f1-score': 0.7834368530020704, 'support': 23}}\n",
      "Number of fold:  3\n",
      "{'0.0': {'precision': 0.7272727272727273, 'recall': 0.8, 'f1-score': 0.761904761904762, 'support': 10}, '1.0': {'precision': 0.8333333333333334, 'recall': 0.7692307692307693, 'f1-score': 0.8, 'support': 13}, 'accuracy': 0.782608695652174, 'macro avg': {'precision': 0.7803030303030303, 'recall': 0.7846153846153847, 'f1-score': 0.7809523809523811, 'support': 23}, 'weighted avg': {'precision': 0.7872200263504613, 'recall': 0.782608695652174, 'f1-score': 0.7834368530020704, 'support': 23}}\n",
      "Number of fold:  4\n",
      "{'0.0': {'precision': 0.5882352941176471, 'recall': 0.7692307692307693, 'f1-score': 0.6666666666666667, 'support': 13}, '1.0': {'precision': 0.5, 'recall': 0.3, 'f1-score': 0.37499999999999994, 'support': 10}, 'accuracy': 0.5652173913043478, 'macro avg': {'precision': 0.5441176470588236, 'recall': 0.5346153846153846, 'f1-score': 0.5208333333333334, 'support': 23}, 'weighted avg': {'precision': 0.5498721227621484, 'recall': 0.5652173913043478, 'f1-score': 0.5398550724637682, 'support': 23}}\n",
      "Number of fold:  5\n",
      "{'0.0': {'precision': 0.6923076923076923, 'recall': 0.6923076923076923, 'f1-score': 0.6923076923076923, 'support': 13}, '1.0': {'precision': 0.6, 'recall': 0.6, 'f1-score': 0.6, 'support': 10}, 'accuracy': 0.6521739130434783, 'macro avg': {'precision': 0.6461538461538461, 'recall': 0.6461538461538461, 'f1-score': 0.6461538461538461, 'support': 23}, 'weighted avg': {'precision': 0.6521739130434783, 'recall': 0.6521739130434783, 'f1-score': 0.6521739130434783, 'support': 23}}\n",
      "Cross Validation Accuracy Scores:  [0.75, 0.78, 0.78, 0.57, 0.65]\n",
      "Average CV Score:  0.706\n"
     ]
    }
   ],
   "source": [
    "('  SVM')\n",
    "cross_validation(data1.features, data1.ground_truth, train_func=train_SVM_model)"
   ]
  },
  {
   "cell_type": "code",
   "execution_count": 20,
   "metadata": {},
   "outputs": [
    {
     "name": "stdout",
     "output_type": "stream",
     "text": [
      "Number of fold:  1\n",
      "{'0.0': {'precision': 0.6153846153846154, 'recall': 1.0, 'f1-score': 0.761904761904762, 'support': 8}, '1.0': {'precision': 1.0, 'recall': 0.6875, 'f1-score': 0.8148148148148148, 'support': 16}, 'accuracy': 0.7916666666666666, 'macro avg': {'precision': 0.8076923076923077, 'recall': 0.84375, 'f1-score': 0.7883597883597884, 'support': 24}, 'weighted avg': {'precision': 0.8717948717948718, 'recall': 0.7916666666666666, 'f1-score': 0.7971781305114639, 'support': 24}}\n",
      "Number of fold:  2\n",
      "{'0.0': {'precision': 0.6666666666666666, 'recall': 0.46153846153846156, 'f1-score': 0.5454545454545455, 'support': 13}, '1.0': {'precision': 0.5, 'recall': 0.7, 'f1-score': 0.5833333333333334, 'support': 10}, 'accuracy': 0.5652173913043478, 'macro avg': {'precision': 0.5833333333333333, 'recall': 0.5807692307692307, 'f1-score': 0.5643939393939394, 'support': 23}, 'weighted avg': {'precision': 0.5942028985507246, 'recall': 0.5652173913043478, 'f1-score': 0.5619235836627141, 'support': 23}}\n",
      "Number of fold:  3\n",
      "{'0.0': {'precision': 0.7142857142857143, 'recall': 0.7692307692307693, 'f1-score': 0.7407407407407408, 'support': 13}, '1.0': {'precision': 0.6666666666666666, 'recall': 0.6, 'f1-score': 0.631578947368421, 'support': 10}, 'accuracy': 0.6956521739130435, 'macro avg': {'precision': 0.6904761904761905, 'recall': 0.6846153846153846, 'f1-score': 0.6861598440545809, 'support': 23}, 'weighted avg': {'precision': 0.6935817805383023, 'recall': 0.6956521739130435, 'f1-score': 0.6932790914484278, 'support': 23}}\n",
      "Number of fold:  4\n",
      "{'0.0': {'precision': 0.7, 'recall': 0.875, 'f1-score': 0.7777777777777777, 'support': 8}, '1.0': {'precision': 0.9230769230769231, 'recall': 0.8, 'f1-score': 0.8571428571428571, 'support': 15}, 'accuracy': 0.8260869565217391, 'macro avg': {'precision': 0.8115384615384615, 'recall': 0.8375, 'f1-score': 0.8174603174603174, 'support': 23}, 'weighted avg': {'precision': 0.845484949832776, 'recall': 0.8260869565217391, 'f1-score': 0.8295376121463076, 'support': 23}}\n",
      "Number of fold:  5\n",
      "{'0.0': {'precision': 0.8181818181818182, 'recall': 0.6428571428571429, 'f1-score': 0.7200000000000001, 'support': 14}, '1.0': {'precision': 0.5833333333333334, 'recall': 0.7777777777777778, 'f1-score': 0.6666666666666666, 'support': 9}, 'accuracy': 0.6956521739130435, 'macro avg': {'precision': 0.7007575757575758, 'recall': 0.7103174603174603, 'f1-score': 0.6933333333333334, 'support': 23}, 'weighted avg': {'precision': 0.7262845849802371, 'recall': 0.6956521739130435, 'f1-score': 0.6991304347826087, 'support': 23}}\n",
      "Cross Validation Accuracy Scores:  [0.79, 0.57, 0.7, 0.83, 0.7]\n",
      "Average CV Score:  0.718\n"
     ]
    }
   ],
   "source": [
    "('  SVM')\n",
    "cross_validation(data1.features, data1.ground_truth, train_func=train_SVM_model)"
   ]
  },
  {
   "cell_type": "code",
   "execution_count": 9,
   "metadata": {},
   "outputs": [
    {
     "name": "stdout",
     "output_type": "stream",
     "text": [
      "Number of fold:  1\n"
     ]
    },
    {
     "name": "stderr",
     "output_type": "stream",
     "text": [
      "d:\\anaconda3\\lib\\site-packages\\sklearn\\neural_network\\_multilayer_perceptron.py:702: ConvergenceWarning: Stochastic Optimizer: Maximum iterations (50) reached and the optimization hasn't converged yet.\n",
      "  warnings.warn(\n",
      "d:\\anaconda3\\lib\\site-packages\\sklearn\\neural_network\\_multilayer_perceptron.py:702: ConvergenceWarning: Stochastic Optimizer: Maximum iterations (50) reached and the optimization hasn't converged yet.\n",
      "  warnings.warn(\n",
      "d:\\anaconda3\\lib\\site-packages\\sklearn\\neural_network\\_multilayer_perceptron.py:702: ConvergenceWarning: Stochastic Optimizer: Maximum iterations (50) reached and the optimization hasn't converged yet.\n",
      "  warnings.warn(\n"
     ]
    },
    {
     "name": "stdout",
     "output_type": "stream",
     "text": [
      "{'0.0': {'precision': 0.7142857142857143, 'recall': 0.8333333333333334, 'f1-score': 0.7692307692307692, 'support': 12}, '1.0': {'precision': 0.8, 'recall': 0.6666666666666666, 'f1-score': 0.7272727272727272, 'support': 12}, 'accuracy': 0.75, 'macro avg': {'precision': 0.7571428571428571, 'recall': 0.75, 'f1-score': 0.7482517482517481, 'support': 24}, 'weighted avg': {'precision': 0.7571428571428571, 'recall': 0.75, 'f1-score': 0.7482517482517482, 'support': 24}}\n",
      "Number of fold:  2\n",
      "{'0.0': {'precision': 0.5833333333333334, 'recall': 0.5833333333333334, 'f1-score': 0.5833333333333334, 'support': 12}, '1.0': {'precision': 0.5454545454545454, 'recall': 0.5454545454545454, 'f1-score': 0.5454545454545454, 'support': 11}, 'accuracy': 0.5652173913043478, 'macro avg': {'precision': 0.5643939393939394, 'recall': 0.5643939393939394, 'f1-score': 0.5643939393939394, 'support': 23}, 'weighted avg': {'precision': 0.5652173913043478, 'recall': 0.5652173913043478, 'f1-score': 0.5652173913043478, 'support': 23}}\n",
      "Number of fold:  3\n",
      "{'0.0': {'precision': 0.5882352941176471, 'recall': 0.9090909090909091, 'f1-score': 0.7142857142857143, 'support': 11}, '1.0': {'precision': 0.8333333333333334, 'recall': 0.4166666666666667, 'f1-score': 0.5555555555555556, 'support': 12}, 'accuracy': 0.6521739130434783, 'macro avg': {'precision': 0.7107843137254902, 'recall': 0.6628787878787878, 'f1-score': 0.6349206349206349, 'support': 23}, 'weighted avg': {'precision': 0.7161125319693094, 'recall': 0.6521739130434783, 'f1-score': 0.6314699792960663, 'support': 23}}\n",
      "Number of fold:  4\n",
      "{'0.0': {'precision': 0.7333333333333333, 'recall': 0.9166666666666666, 'f1-score': 0.8148148148148148, 'support': 12}, '1.0': {'precision': 0.875, 'recall': 0.6363636363636364, 'f1-score': 0.7368421052631579, 'support': 11}, 'accuracy': 0.782608695652174, 'macro avg': {'precision': 0.8041666666666667, 'recall': 0.7765151515151515, 'f1-score': 0.7758284600389863, 'support': 23}, 'weighted avg': {'precision': 0.801086956521739, 'recall': 0.782608695652174, 'f1-score': 0.7775235189422831, 'support': 23}}\n",
      "Number of fold:  5\n",
      "{'0.0': {'precision': 0.6, 'recall': 0.6666666666666666, 'f1-score': 0.631578947368421, 'support': 9}, '1.0': {'precision': 0.7692307692307693, 'recall': 0.7142857142857143, 'f1-score': 0.7407407407407408, 'support': 14}, 'accuracy': 0.6956521739130435, 'macro avg': {'precision': 0.6846153846153846, 'recall': 0.6904761904761905, 'f1-score': 0.6861598440545809, 'support': 23}, 'weighted avg': {'precision': 0.703010033444816, 'recall': 0.6956521739130435, 'f1-score': 0.6980252563776592, 'support': 23}}\n",
      "Cross Validation Accuracy Scores:  [0.75, 0.57, 0.65, 0.78, 0.7]\n",
      "Average CV Score:  0.6900000000000001\n"
     ]
    },
    {
     "name": "stderr",
     "output_type": "stream",
     "text": [
      "d:\\anaconda3\\lib\\site-packages\\sklearn\\neural_network\\_multilayer_perceptron.py:702: ConvergenceWarning: Stochastic Optimizer: Maximum iterations (50) reached and the optimization hasn't converged yet.\n",
      "  warnings.warn(\n",
      "d:\\anaconda3\\lib\\site-packages\\sklearn\\neural_network\\_multilayer_perceptron.py:702: ConvergenceWarning: Stochastic Optimizer: Maximum iterations (50) reached and the optimization hasn't converged yet.\n",
      "  warnings.warn(\n"
     ]
    }
   ],
   "source": [
    "('  MLP')\n",
    "cross_validation(data1.features, data1.ground_truth, train_func=train_MLP_model)"
   ]
  },
  {
   "cell_type": "code",
   "execution_count": 21,
   "metadata": {},
   "outputs": [
    {
     "name": "stdout",
     "output_type": "stream",
     "text": [
      "Number of fold:  1\n"
     ]
    },
    {
     "name": "stderr",
     "output_type": "stream",
     "text": [
      "d:\\anaconda3\\lib\\site-packages\\sklearn\\neural_network\\_multilayer_perceptron.py:702: ConvergenceWarning: Stochastic Optimizer: Maximum iterations (50) reached and the optimization hasn't converged yet.\n",
      "  warnings.warn(\n",
      "d:\\anaconda3\\lib\\site-packages\\sklearn\\metrics\\_classification.py:1334: UndefinedMetricWarning: Precision and F-score are ill-defined and being set to 0.0 in labels with no predicted samples. Use `zero_division` parameter to control this behavior.\n",
      "  _warn_prf(average, modifier, msg_start, len(result))\n",
      "d:\\anaconda3\\lib\\site-packages\\sklearn\\metrics\\_classification.py:1334: UndefinedMetricWarning: Precision and F-score are ill-defined and being set to 0.0 in labels with no predicted samples. Use `zero_division` parameter to control this behavior.\n",
      "  _warn_prf(average, modifier, msg_start, len(result))\n",
      "d:\\anaconda3\\lib\\site-packages\\sklearn\\metrics\\_classification.py:1334: UndefinedMetricWarning: Precision and F-score are ill-defined and being set to 0.0 in labels with no predicted samples. Use `zero_division` parameter to control this behavior.\n",
      "  _warn_prf(average, modifier, msg_start, len(result))\n",
      "d:\\anaconda3\\lib\\site-packages\\sklearn\\neural_network\\_multilayer_perceptron.py:702: ConvergenceWarning: Stochastic Optimizer: Maximum iterations (50) reached and the optimization hasn't converged yet.\n",
      "  warnings.warn(\n",
      "d:\\anaconda3\\lib\\site-packages\\sklearn\\metrics\\_classification.py:1334: UndefinedMetricWarning: Precision and F-score are ill-defined and being set to 0.0 in labels with no predicted samples. Use `zero_division` parameter to control this behavior.\n",
      "  _warn_prf(average, modifier, msg_start, len(result))\n"
     ]
    },
    {
     "name": "stdout",
     "output_type": "stream",
     "text": [
      "{'0.0': {'precision': 0.0, 'recall': 0.0, 'f1-score': 0.0, 'support': 12}, '1.0': {'precision': 0.5, 'recall': 1.0, 'f1-score': 0.6666666666666666, 'support': 12}, 'accuracy': 0.5, 'macro avg': {'precision': 0.25, 'recall': 0.5, 'f1-score': 0.3333333333333333, 'support': 24}, 'weighted avg': {'precision': 0.25, 'recall': 0.5, 'f1-score': 0.3333333333333333, 'support': 24}}\n",
      "Number of fold:  2\n",
      "{'0.0': {'precision': 0.6521739130434783, 'recall': 1.0, 'f1-score': 0.7894736842105263, 'support': 15}, '1.0': {'precision': 0.0, 'recall': 0.0, 'f1-score': 0.0, 'support': 8}, 'accuracy': 0.6521739130434783, 'macro avg': {'precision': 0.32608695652173914, 'recall': 0.5, 'f1-score': 0.39473684210526316, 'support': 23}, 'weighted avg': {'precision': 0.42533081285444235, 'recall': 0.6521739130434783, 'f1-score': 0.5148741418764302, 'support': 23}}\n",
      "Number of fold:  3\n"
     ]
    },
    {
     "name": "stderr",
     "output_type": "stream",
     "text": [
      "d:\\anaconda3\\lib\\site-packages\\sklearn\\metrics\\_classification.py:1334: UndefinedMetricWarning: Precision and F-score are ill-defined and being set to 0.0 in labels with no predicted samples. Use `zero_division` parameter to control this behavior.\n",
      "  _warn_prf(average, modifier, msg_start, len(result))\n",
      "d:\\anaconda3\\lib\\site-packages\\sklearn\\metrics\\_classification.py:1334: UndefinedMetricWarning: Precision and F-score are ill-defined and being set to 0.0 in labels with no predicted samples. Use `zero_division` parameter to control this behavior.\n",
      "  _warn_prf(average, modifier, msg_start, len(result))\n",
      "d:\\anaconda3\\lib\\site-packages\\sklearn\\neural_network\\_multilayer_perceptron.py:702: ConvergenceWarning: Stochastic Optimizer: Maximum iterations (50) reached and the optimization hasn't converged yet.\n",
      "  warnings.warn(\n",
      "d:\\anaconda3\\lib\\site-packages\\sklearn\\metrics\\_classification.py:1334: UndefinedMetricWarning: Precision and F-score are ill-defined and being set to 0.0 in labels with no predicted samples. Use `zero_division` parameter to control this behavior.\n",
      "  _warn_prf(average, modifier, msg_start, len(result))\n",
      "d:\\anaconda3\\lib\\site-packages\\sklearn\\metrics\\_classification.py:1334: UndefinedMetricWarning: Precision and F-score are ill-defined and being set to 0.0 in labels with no predicted samples. Use `zero_division` parameter to control this behavior.\n",
      "  _warn_prf(average, modifier, msg_start, len(result))\n",
      "d:\\anaconda3\\lib\\site-packages\\sklearn\\metrics\\_classification.py:1334: UndefinedMetricWarning: Precision and F-score are ill-defined and being set to 0.0 in labels with no predicted samples. Use `zero_division` parameter to control this behavior.\n",
      "  _warn_prf(average, modifier, msg_start, len(result))\n",
      "d:\\anaconda3\\lib\\site-packages\\sklearn\\neural_network\\_multilayer_perceptron.py:702: ConvergenceWarning: Stochastic Optimizer: Maximum iterations (50) reached and the optimization hasn't converged yet.\n",
      "  warnings.warn(\n",
      "d:\\anaconda3\\lib\\site-packages\\sklearn\\metrics\\_classification.py:1334: UndefinedMetricWarning: Precision and F-score are ill-defined and being set to 0.0 in labels with no predicted samples. Use `zero_division` parameter to control this behavior.\n",
      "  _warn_prf(average, modifier, msg_start, len(result))\n"
     ]
    },
    {
     "name": "stdout",
     "output_type": "stream",
     "text": [
      "{'0.0': {'precision': 0.391304347826087, 'recall': 1.0, 'f1-score': 0.5625, 'support': 9}, '1.0': {'precision': 0.0, 'recall': 0.0, 'f1-score': 0.0, 'support': 14}, 'accuracy': 0.391304347826087, 'macro avg': {'precision': 0.1956521739130435, 'recall': 0.5, 'f1-score': 0.28125, 'support': 23}, 'weighted avg': {'precision': 0.15311909262759923, 'recall': 0.391304347826087, 'f1-score': 0.22010869565217392, 'support': 23}}\n",
      "Number of fold:  4\n",
      "{'0.0': {'precision': 0.34782608695652173, 'recall': 1.0, 'f1-score': 0.5161290322580645, 'support': 8}, '1.0': {'precision': 0.0, 'recall': 0.0, 'f1-score': 0.0, 'support': 15}, 'accuracy': 0.34782608695652173, 'macro avg': {'precision': 0.17391304347826086, 'recall': 0.5, 'f1-score': 0.25806451612903225, 'support': 23}, 'weighted avg': {'precision': 0.12098298676748583, 'recall': 0.34782608695652173, 'f1-score': 0.17952314165497896, 'support': 23}}\n",
      "Number of fold:  5\n"
     ]
    },
    {
     "name": "stderr",
     "output_type": "stream",
     "text": [
      "d:\\anaconda3\\lib\\site-packages\\sklearn\\metrics\\_classification.py:1334: UndefinedMetricWarning: Precision and F-score are ill-defined and being set to 0.0 in labels with no predicted samples. Use `zero_division` parameter to control this behavior.\n",
      "  _warn_prf(average, modifier, msg_start, len(result))\n",
      "d:\\anaconda3\\lib\\site-packages\\sklearn\\metrics\\_classification.py:1334: UndefinedMetricWarning: Precision and F-score are ill-defined and being set to 0.0 in labels with no predicted samples. Use `zero_division` parameter to control this behavior.\n",
      "  _warn_prf(average, modifier, msg_start, len(result))\n"
     ]
    },
    {
     "name": "stdout",
     "output_type": "stream",
     "text": [
      "{'0.0': {'precision': 0.5217391304347826, 'recall': 1.0, 'f1-score': 0.6857142857142856, 'support': 12}, '1.0': {'precision': 0.0, 'recall': 0.0, 'f1-score': 0.0, 'support': 11}, 'accuracy': 0.5217391304347826, 'macro avg': {'precision': 0.2608695652173913, 'recall': 0.5, 'f1-score': 0.3428571428571428, 'support': 23}, 'weighted avg': {'precision': 0.2722117202268431, 'recall': 0.5217391304347826, 'f1-score': 0.35776397515527947, 'support': 23}}\n",
      "Cross Validation Accuracy Scores:  [0.5, 0.65, 0.39, 0.35, 0.52]\n",
      "Average CV Score:  0.48200000000000004\n"
     ]
    },
    {
     "name": "stderr",
     "output_type": "stream",
     "text": [
      "d:\\anaconda3\\lib\\site-packages\\sklearn\\neural_network\\_multilayer_perceptron.py:702: ConvergenceWarning: Stochastic Optimizer: Maximum iterations (50) reached and the optimization hasn't converged yet.\n",
      "  warnings.warn(\n",
      "d:\\anaconda3\\lib\\site-packages\\sklearn\\metrics\\_classification.py:1334: UndefinedMetricWarning: Precision and F-score are ill-defined and being set to 0.0 in labels with no predicted samples. Use `zero_division` parameter to control this behavior.\n",
      "  _warn_prf(average, modifier, msg_start, len(result))\n",
      "d:\\anaconda3\\lib\\site-packages\\sklearn\\metrics\\_classification.py:1334: UndefinedMetricWarning: Precision and F-score are ill-defined and being set to 0.0 in labels with no predicted samples. Use `zero_division` parameter to control this behavior.\n",
      "  _warn_prf(average, modifier, msg_start, len(result))\n",
      "d:\\anaconda3\\lib\\site-packages\\sklearn\\metrics\\_classification.py:1334: UndefinedMetricWarning: Precision and F-score are ill-defined and being set to 0.0 in labels with no predicted samples. Use `zero_division` parameter to control this behavior.\n",
      "  _warn_prf(average, modifier, msg_start, len(result))\n"
     ]
    }
   ],
   "source": [
    "('  MLP')\n",
    "cross_validation(data1.features, data1.ground_truth, train_func=train_MLP_model)"
   ]
  },
  {
   "attachments": {},
   "cell_type": "markdown",
   "metadata": {},
   "source": [
    "## Read data - (2. dataset TAPPY)"
   ]
  },
  {
   "cell_type": "code",
   "execution_count": 22,
   "metadata": {},
   "outputs": [],
   "source": [
    "class tappyDataset:\n",
    "\n",
    "    def __init__(self, path1, path2, opt=1):\n",
    "\n",
    "        # load data\n",
    "        self.files_list1 = os.listdir(path1)\n",
    "        self.files_list2 = os.listdir(path2)\n",
    "        users = [el.split(\"_\")[1].split(\".\")[0] for el in self.files_list1]\n",
    "        df = pd.DataFrame(data=users, columns=['pID'])\n",
    "\n",
    "        if opt == 1:\n",
    "            with open('reports_23_08.txt', 'r') as f:\n",
    "                lsID = f.readlines()\n",
    "            lsID = '|'.join(lsID)\n",
    "            clean_lsID = lsID.replace('\\n', '')\n",
    "            df.drop(df[df['pID'].str.contains(clean_lsID)].index, inplace=True)\n",
    "            df.reset_index(inplace=True)\n",
    "\n",
    "        for i, el in enumerate(df['pID']):\n",
    "            temp = [x for x in self.files_list2 if x.startswith(el)]\n",
    "            if len(temp):\n",
    "                df.loc[[i], 'files'] = pd.Series([temp], index=df.index[[i]])\n",
    "                with open(path1 + self.files_list1[i], 'r') as f:\n",
    "                    for line in f:\n",
    "                        if 'Parkinsons' in line:\n",
    "                            read_info = line.strip().split(\": \")\n",
    "                            df.loc[[i], 'Parkinsons'] = read_info[1]\n",
    "\n",
    "        df.dropna(inplace=True)\n",
    "        df['Parkinsons'] = df['Parkinsons'].map({'True': 1.0, 'False': 0.0})\n",
    "\n",
    "        self.user_info = df\n",
    "\n",
    "        self.trainset = None\n",
    "        self.testset = None\n",
    "        self.train_ground_truth = None\n",
    "        self.test_ground_truth = None\n",
    "        self.features = None\n",
    "        self.ground_truth = self.user_info['Parkinsons'].to_numpy()\n",
    "        self.flag_fatal = []\n",
    "\n",
    "    def show_stats(self):\n",
    "        print('Patients with PD: ', len(\n",
    "            self.user_info[self.user_info['Parkinsons'] == 1.0]))\n",
    "        print('Patients without PD: ', len(\n",
    "            self.user_info[self.user_info['Parkinsons'] == 0.0]))\n",
    "        plt.figure(figsize=[4, 3])\n",
    "        sns.countplot(x='Parkinsons', data=self.user_info)\n",
    "        plt.xlabel('Parkinson\\'s disease')\n",
    "\n",
    "    # TO DO:\n",
    "    @staticmethod\n",
    "    def load_record(filename):\n",
    "        df = pd.read_csv(filename, delimiter=\"\\t\", index_col=False, header=None, names=[\n",
    "                         'User', 'Date', 'Timestamp', 'Hand', 'holdTime', 'Direction', 'flightTime', 'latencyTime'])\n",
    "\n",
    "        df.drop(columns=['User'], inplace=True)\n",
    "        df.drop(columns=['Direction'], inplace=True)\n",
    "\n",
    "        df[df.columns[-3:]] = df[df.columns[-3:]\n",
    "                                 ].apply(lambda x: x.lstrip('0') if type(x) == str else x)\n",
    "        df[df.columns[-3:]\n",
    "           ] = pd.to_numeric(df[df.columns[-3:]].stack(), errors='coerce').unstack()\n",
    "        df[df.columns[-3:]] = df[df.columns[-3:]].apply(lambda x: x/1000)\n",
    "\n",
    "        grouped_data = df.groupby('Date').agg(list)\n",
    "        grouped_data['Length'] = grouped_data['Timestamp'].apply(len)\n",
    "\n",
    "        idx = grouped_data['Length'].idxmax()\n",
    "\n",
    "        ex_rec2 = df[df['Date'] == idx].copy()\n",
    "        temp = ex_rec2['Timestamp'].apply(lambda x: is_date_parsing(x))\n",
    "        ex_rec2.drop(ex_rec2[temp == False].index, inplace=True)\n",
    "\n",
    "        # ex_rec1 = df[df['Date'] == idx].copy()\n",
    "        # try:\n",
    "        #     ex_rec1['Hour'] = ex_rec1['Timestamp'].apply(\n",
    "        #         lambda x: datetime.strptime(x, '%H:%M:%S.%f').hour)\n",
    "        # except ValueError as ve:\n",
    "        #     # TO DO: check procedure of format in column, remove wrong values\n",
    "        #     print('Procedure')\n",
    "        #     temp = ex_rec1['Timestamp'].apply(lambda x: is_date_parsing(x))\n",
    "        #     ex_rec1.drop(ex_rec1[temp == False].index, inplace=True)\n",
    "        #     ex_rec1['Hour'] = ex_rec1['Timestamp'].apply(\n",
    "        #         lambda x: datetime.strptime(x, '%H:%M:%S.%f').hour)\n",
    "\n",
    "        # grouped_data = ex_rec1.groupby('Hour').agg(list)\n",
    "        # grouped_data['Length'] = grouped_data['Date'].apply(len)\n",
    "\n",
    "        # # jeśli jest odpowiednia liczba znakow\n",
    "        # if grouped_data['Length'].max() > 100:\n",
    "        #     idx = grouped_data['Length'].idxmax()\n",
    "        #     ex_rec2 = ex_rec1[ex_rec1['Hour'] == idx].copy()\n",
    "        #     ex_rec2.drop('Hour', axis=1, inplace=True)\n",
    "        #     ex_rec2.reset_index(inplace=True)\n",
    "\n",
    "        #     ex_rec2['Timestamp'] = ex_rec2['Timestamp'].apply(\n",
    "        #         lambda x: datetime.strptime(x, '%H:%M:%S.%f'))\n",
    "        #     ex_rec2['timeLapse'] = count_time_from_0(ex_rec2)\n",
    "        # else:\n",
    "        #     print('Not enough keystroke events!  ',\n",
    "        #           grouped_data['Length'].max())\n",
    "        #     ex_rec2 = []\n",
    "\n",
    "        ex_rec2.reset_index(inplace=True)\n",
    "        ex_rec2['Timestamp'] = ex_rec2['Timestamp'].apply(\n",
    "            lambda x: datetime.strptime(x, '%H:%M:%S.%f'))\n",
    "        ex_rec2['timeLapse'] = count_time_from_0(ex_rec2)\n",
    "\n",
    "        indices_nan = np.where(ex_rec2['timeLapse'].isna())\n",
    "        if len(indices_nan[0]) > 1:\n",
    "            print('Nans:', indices_nan)\n",
    "\n",
    "        return ex_rec2\n",
    "\n",
    "    def loc_prep(self, filename, feature_extract=2):\n",
    "        df_ID = tappyDataset.load_record(filename)\n",
    "        df_ID = filter_record(df_ID, key_filter=False)\n",
    "        if feature_extract == 2:\n",
    "            va_HT, warn_flag = feature_extract_method_2(\n",
    "                df_ID, dynamic_feature='holdTime', time_feature='timeLapse', assumed_length=360, window_time=20)\n",
    "            va_NFT, warn_flag = feature_extract_method_2(\n",
    "                df_ID, dynamic_feature='flightTime', time_feature='timeLapse', assumed_length=360, window_time=20, normalize_option=True)\n",
    "        return va_HT, va_NFT, warn_flag\n",
    "\n",
    "    def prepare_dataset(self, path, feature_extract=2):\n",
    "\n",
    "        if feature_extract == 2:\n",
    "            n_features = 22\n",
    "        else:\n",
    "            n_features = 6\n",
    "\n",
    "        self.features = np.zeros([len(self.user_info), n_features])\n",
    "\n",
    "        for i, row in self.user_info.reset_index(inplace=False).iterrows():\n",
    "            # for i, row in self.user_info.iterrows():\n",
    "            # for i, row in self.train_df.reset_index(inplace=False).iterrows():\n",
    "            # .iloc[45:]\n",
    "            # DO NOT iterate: https://stackoverflow.com/questions/16476924/how-to-iterate-over-rows-in-a-dataframe-in-pandas\n",
    "            # use .apply() instead\n",
    "\n",
    "            # control\n",
    "            print(i)\n",
    "\n",
    "            if feature_extract == 2:\n",
    "                filename = path + row['files'][0]\n",
    "                va_HT, va_NFT, warn_flag = self.loc_prep(\n",
    "                    filename, feature_extract=2)\n",
    "                self.features[i, :] = np.concatenate([va_HT, va_NFT], axis=0)\n",
    "\n",
    "            if warn_flag == 1:\n",
    "                if len(row['files']) > 1:\n",
    "                    print('Another file was found!')\n",
    "                    filename = path + row['files'][1]\n",
    "                    va_HT, va_NFT, warn_flag = self.loc_prep(\n",
    "                        filename, feature_extract=2)\n",
    "                    self.features[i, :] = np.concatenate(\n",
    "                        [va_HT, va_NFT], axis=0)\n",
    "                else:\n",
    "                    print(\n",
    "                        'Only 1 file is available! - record not useful, with gt: ', row['Parkinsons'])\n",
    "                    self.flag_fatal.append(i)\n",
    "                    with open('reports_09_09.txt', 'a') as log_file:\n",
    "                        log_file.writelines(row['pID'] + '\\n')\n",
    "\n",
    "        X_resampl, y_resampl = sampling_imbalanced_data(\n",
    "            self.features, self.user_info['Parkinsons'].to_numpy(), opt='under')\n",
    "\n",
    "        # print('flag_fatal: ', self.flag_fatal)\n",
    "        print('     SUCCESS!!!')"
   ]
  },
  {
   "cell_type": "code",
   "execution_count": null,
   "metadata": {},
   "outputs": [],
   "source": [
    "# TO DO: sztuczne powiększenie zbioru grupy kontrolnej w Tappy ?\n",
    "# how many files? - this number of records"
   ]
  },
  {
   "cell_type": "code",
   "execution_count": 24,
   "metadata": {},
   "outputs": [
    {
     "name": "stdout",
     "output_type": "stream",
     "text": [
      "Patients with PD:  162\n",
      "Patients without PD:  55\n"
     ]
    },
    {
     "data": {
      "image/png": "[encoded data removed]",
      "text/plain": [
       "<Figure size 400x300 with 1 Axes>"
      ]
     },
     "metadata": {},
     "output_type": "display_data"
    }
   ],
   "source": [
    "directory_path1 = 'D:/studia_mgrEIM/master_diploma/data/tappy-keystroke-data-1.0.0/Archived_users/'\n",
    "directory_path2 = 'D:/studia_mgrEIM/master_diploma/data/tappy-keystroke-data-1.0.0/Tappy_Data/'\n",
    "\n",
    "data2 = tappyDataset(directory_path1, directory_path2, opt=0)\n",
    "data2.show_stats()"
   ]
  },
  {
   "cell_type": "code",
   "execution_count": 26,
   "metadata": {},
   "outputs": [
    {
     "data": {
      "text/html": [
       "<div>\n",
       "<style scoped>\n",
       "    .dataframe tbody tr th:only-of-type {\n",
       "        vertical-align: middle;\n",
       "    }\n",
       "\n",
       "    .dataframe tbody tr th {\n",
       "        vertical-align: top;\n",
       "    }\n",
       "\n",
       "    .dataframe thead th {\n",
       "        text-align: right;\n",
       "    }\n",
       "</style>\n",
       "<table border=\"1\" class=\"dataframe\">\n",
       "  <thead>\n",
       "    <tr style=\"text-align: right;\">\n",
       "      <th></th>\n",
       "      <th>pID</th>\n",
       "      <th>files</th>\n",
       "      <th>Parkinsons</th>\n",
       "    </tr>\n",
       "  </thead>\n",
       "  <tbody>\n",
       "    <tr>\n",
       "      <th>222</th>\n",
       "      <td>ZT9ASWFCFS</td>\n",
       "      <td>[ZT9ASWFCFS_1606.txt]</td>\n",
       "      <td>1.0</td>\n",
       "    </tr>\n",
       "    <tr>\n",
       "      <th>223</th>\n",
       "      <td>ZWBPPNQCUX</td>\n",
       "      <td>[ZWBPPNQCUX_1608.txt, ZWBPPNQCUX_1612.txt]</td>\n",
       "      <td>1.0</td>\n",
       "    </tr>\n",
       "    <tr>\n",
       "      <th>224</th>\n",
       "      <td>ZWHGXDUDLG</td>\n",
       "      <td>[ZWHGXDUDLG_1703.txt]</td>\n",
       "      <td>1.0</td>\n",
       "    </tr>\n",
       "    <tr>\n",
       "      <th>225</th>\n",
       "      <td>ZY9CCHSPF2</td>\n",
       "      <td>[ZY9CCHSPF2_1607.txt, ZY9CCHSPF2_1608.txt, ZY9...</td>\n",
       "      <td>1.0</td>\n",
       "    </tr>\n",
       "    <tr>\n",
       "      <th>226</th>\n",
       "      <td>ZYWLN4JVLA</td>\n",
       "      <td>[ZYWLN4JVLA_1701.txt]</td>\n",
       "      <td>1.0</td>\n",
       "    </tr>\n",
       "  </tbody>\n",
       "</table>\n",
       "</div>"
      ],
      "text/plain": [
       "            pID                                              files  Parkinsons\n",
       "222  ZT9ASWFCFS                              [ZT9ASWFCFS_1606.txt]         1.0\n",
       "223  ZWBPPNQCUX         [ZWBPPNQCUX_1608.txt, ZWBPPNQCUX_1612.txt]         1.0\n",
       "224  ZWHGXDUDLG                              [ZWHGXDUDLG_1703.txt]         1.0\n",
       "225  ZY9CCHSPF2  [ZY9CCHSPF2_1607.txt, ZY9CCHSPF2_1608.txt, ZY9...         1.0\n",
       "226  ZYWLN4JVLA                              [ZYWLN4JVLA_1701.txt]         1.0"
      ]
     },
     "execution_count": 26,
     "metadata": {},
     "output_type": "execute_result"
    }
   ],
   "source": [
    "data2.user_info.tail()"
   ]
  },
  {
   "cell_type": "code",
   "execution_count": 4,
   "metadata": {},
   "outputs": [
    {
     "name": "stdout",
     "output_type": "stream",
     "text": [
      "0\n"
     ]
    },
    {
     "name": "stderr",
     "output_type": "stream",
     "text": [
      "C:\\Users\\Hanna\\AppData\\Local\\Temp\\ipykernel_15052\\1568283625.py:51: DtypeWarning: Columns (4,6) have mixed types. Specify dtype option on import or set low_memory=False.\n",
      "  df = pd.read_csv(filename, delimiter=\"\\t\", index_col=False, header=None, names=[\n"
     ]
    },
    {
     "name": "stdout",
     "output_type": "stream",
     "text": [
      "1\n",
      "2\n",
      "3\n",
      "4\n",
      "5\n",
      "Another file was found!\n",
      "6\n",
      "7\n",
      "8\n",
      "9\n",
      "10\n",
      "11\n",
      "12\n",
      "13\n",
      "14\n",
      "15\n",
      "16\n",
      "Another file was found!\n",
      "17\n",
      "18\n",
      "19\n",
      "20\n",
      "21\n",
      "Another file was found!\n",
      "22\n",
      "23\n",
      "24\n",
      "25\n",
      "26\n",
      "27\n",
      "28\n",
      "29\n",
      "Another file was found!\n",
      "30\n",
      "31\n",
      "32\n",
      "33\n",
      "Another file was found!\n",
      "34\n",
      "35\n",
      "36\n",
      "Another file was found!\n",
      "Warning was raised as an exception!\n",
      "Warning was raised as an exception!\n",
      "37\n",
      "38\n",
      "39\n",
      "40\n",
      "41\n",
      "42\n",
      "43\n",
      "44\n",
      "Another file was found!\n",
      "45\n",
      "46\n",
      "47\n",
      "48\n",
      "49\n",
      "Another file was found!\n",
      "Warning was raised as an exception!\n",
      "Warning was raised as an exception!\n",
      "50\n",
      "Another file was found!\n",
      "51\n",
      "52\n",
      "53\n",
      "54\n",
      "Another file was found!\n",
      "55\n",
      "Another file was found!\n",
      "56\n",
      "57\n"
     ]
    },
    {
     "name": "stderr",
     "output_type": "stream",
     "text": [
      "C:\\Users\\Hanna\\AppData\\Local\\Temp\\ipykernel_15052\\1568283625.py:51: DtypeWarning: Columns (4,6,7) have mixed types. Specify dtype option on import or set low_memory=False.\n",
      "  df = pd.read_csv(filename, delimiter=\"\\t\", index_col=False, header=None, names=[\n"
     ]
    },
    {
     "name": "stdout",
     "output_type": "stream",
     "text": [
      "58\n",
      "Another file was found!\n",
      "59\n",
      "60\n",
      "61\n",
      "62\n",
      "63\n",
      "64\n",
      "65\n",
      "66\n",
      "67\n",
      "68\n",
      "69\n",
      "70\n",
      "71\n",
      "72\n",
      "73\n",
      "74\n",
      "75\n",
      "76\n",
      "77\n",
      "78\n",
      "79\n",
      "80\n",
      "81\n",
      "82\n",
      "83\n",
      "84\n",
      "85\n",
      "86\n",
      "Another file was found!\n",
      "87\n",
      "88\n",
      "89\n",
      "90\n",
      "91\n",
      "Another file was found!\n",
      "92\n",
      "93\n",
      "94\n",
      "95\n",
      "96\n",
      "97\n",
      "98\n",
      "99\n",
      "100\n",
      "101\n",
      "102\n",
      "Another file was found!\n",
      "103\n",
      "104\n",
      "105\n",
      "106\n",
      "107\n",
      "108\n",
      "109\n",
      "110\n",
      "111\n",
      "Another file was found!\n",
      "112\n",
      "113\n",
      "Another file was found!\n",
      "114\n",
      "115\n",
      "116\n",
      "117\n",
      "Another file was found!\n",
      "Warning was raised as an exception!\n",
      "Warning was raised as an exception!\n",
      "118\n",
      "119\n",
      "120\n",
      "121\n",
      "122\n",
      "123\n",
      "124\n",
      "125\n",
      "126\n",
      "127\n",
      "128\n",
      "129\n",
      "130\n",
      "131\n",
      "132\n",
      "Another file was found!\n",
      "133\n",
      "Another file was found!\n",
      "134\n",
      "Another file was found!\n",
      "135\n",
      "136\n",
      "137\n",
      "138\n",
      "Another file was found!\n",
      "139\n",
      "140\n",
      "141\n",
      "142\n",
      "143\n",
      "144\n",
      "145\n",
      "146\n",
      "Another file was found!\n",
      "147\n",
      "148\n",
      "149\n",
      "150\n",
      "151\n",
      "152\n",
      "153\n",
      "154\n",
      "155\n",
      "156\n",
      "157\n",
      "158\n",
      "159\n",
      "160\n",
      "161\n",
      "162\n",
      "163\n",
      "164\n",
      "165\n",
      "Warning was raised as an exception!\n",
      "Warning was raised as an exception!\n",
      "Another file was found!\n",
      "166\n",
      "167\n",
      "     SUCCESS!!!\n"
     ]
    }
   ],
   "source": [
    "data2.prepare_dataset(directory_path2, feature_extract=2)\n",
    "# print(data2.trainset.shape)"
   ]
  },
  {
   "cell_type": "code",
   "execution_count": 5,
   "metadata": {},
   "outputs": [
    {
     "name": "stdout",
     "output_type": "stream",
     "text": [
      "(168, 22)\n"
     ]
    }
   ],
   "source": [
    "print(data2.features.shape)\n",
    "signiX = data2.features\n",
    "signiY = data2.user_info['Parkinsons'].to_numpy()"
   ]
  },
  {
   "cell_type": "code",
   "execution_count": 12,
   "metadata": {},
   "outputs": [],
   "source": [
    "np.save('data_features.npy', data2.features)\n",
    "np.save('data_gt.npy', data2.user_info['Parkinsons'].to_numpy())"
   ]
  },
  {
   "cell_type": "code",
   "execution_count": 14,
   "metadata": {},
   "outputs": [],
   "source": [
    "signiX = np.load('data_features.npy')\n",
    "signiY = np.load('data_gt.npy')"
   ]
  },
  {
   "cell_type": "code",
   "execution_count": 36,
   "metadata": {},
   "outputs": [
    {
     "name": "stdout",
     "output_type": "stream",
     "text": [
      "0.3076923076923077\n",
      "              precision    recall  f1-score   support\n",
      "\n",
      "         0.0       0.29      0.33      0.31        12\n",
      "         1.0       0.33      0.29      0.31        14\n",
      "\n",
      "    accuracy                           0.31        26\n",
      "   macro avg       0.31      0.31      0.31        26\n",
      "weighted avg       0.31      0.31      0.31        26\n",
      "\n",
      "0.4230769230769231\n",
      "              precision    recall  f1-score   support\n",
      "\n",
      "         0.0       0.42      0.67      0.52        12\n",
      "         1.0       0.43      0.21      0.29        14\n",
      "\n",
      "    accuracy                           0.42        26\n",
      "   macro avg       0.42      0.44      0.40        26\n",
      "weighted avg       0.43      0.42      0.39        26\n",
      "\n"
     ]
    }
   ],
   "source": [
    "def sampling_imbalanced_data(X, y, opt='under'):\n",
    "    if str(opt) == 'under':\n",
    "        rus = RandomUnderSampler(random_state=None)\n",
    "        X_resampl, y_resampl = rus.fit_resample(X, y)\n",
    "    else:\n",
    "        ros = RandomOverSampler(random_state=None)\n",
    "        X_resampl, y_resampl = ros.fit_resample(X, y)\n",
    "    return X_resampl, y_resampl\n",
    "    \n",
    "\n",
    "X_resampl, y_resampl = sampling_imbalanced_data(signiX, signiY, opt='under')\n",
    "trainset, testset, train_ground_truth, test_ground_truth = train_test_split(\n",
    "    X_resampl, y_resampl, test_size=0.3, shuffle=True, random_state=42)\n",
    "    # signiX, signiY, test_size=0.3, shuffle=True, random_state=42)\n",
    "\n",
    "('  KNN')\n",
    "model = train_kNN_model(trainset, train_ground_truth)\n",
    "predictions, acc_val, rep = test_selected_model(testset, test_ground_truth, model)\n",
    "\n",
    "('  SVM')\n",
    "model = train_SVM_model(trainset, train_ground_truth)\n",
    "predictions, acc_val, rep = test_selected_model(testset, test_ground_truth, model)"
   ]
  }
 ],
 "metadata": {
  "kernelspec": {
   "display_name": "base",
   "language": "python",
   "name": "python3"
  },
  "language_info": {
   "codemirror_mode": {
    "name": "ipython",
    "version": 3
   },
   "file_extension": ".py",
   "mimetype": "text/x-python",
   "name": "python",
   "nbconvert_exporter": "python",
   "pygments_lexer": "ipython3",
   "version": "3.8.15"
  },
  "orig_nbformat": 4,
  "vscode": {
   "interpreter": {
    "hash": "49cb93f377a7abe7414b7b0f21fb3017538004a126cf690fb524202736b7fb92"
   }
  }
 },
 "nbformat": 4,
 "nbformat_minor": 2
}
