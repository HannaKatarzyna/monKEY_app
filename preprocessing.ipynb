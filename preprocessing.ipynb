{
 "cells": [
  {
   "cell_type": "code",
   "execution_count": 1,
   "metadata": {},
   "outputs": [],
   "source": [
    "import pandas as pd\n",
    "import os\n",
    "import re\n",
    "import numpy as np\n",
    "import matplotlib.pyplot as plt\n",
    "from scipy.interpolate import interp1d\n",
    "from sklearn.model_selection import train_test_split\n",
    "from datetime import datetime\n",
    "from keystroke_module import *"
   ]
  },
  {
   "cell_type": "code",
   "execution_count": null,
   "metadata": {},
   "outputs": [],
   "source": [
    "# TO DO: kontrola bledow np. w konstruktorze klasy -?\n",
    "# zalozenie minimalnej dlugosci: 100 czy 150? (bo wynika ze w ciagu 6min z 1.datasetu najmniej to 107 i 117 po filtracji, reszta co najmniej 150 kikniec, srednio na osobe wychodzi 600)"
   ]
  },
  {
   "cell_type": "code",
   "execution_count": 2,
   "metadata": {},
   "outputs": [
    {
     "name": "stdout",
     "output_type": "stream",
     "text": [
      "Patients with PD:  42\n",
      "Patients without PD:  43\n"
     ]
    },
    {
     "data": {
      "image/png": "[encoded data removed]",
      "text/plain": [
       "<Figure size 400x300 with 1 Axes>"
      ]
     },
     "metadata": {},
     "output_type": "display_data"
    }
   ],
   "source": [
    "filename1 = 'D:/studia_mgrEIM/master_diploma/data/neuroqwerty/MIT-CS1PD/GT_DataPD_MIT-CS1PD.csv'\n",
    "filename2 = 'D:/studia_mgrEIM/master_diploma/data/neuroqwerty/MIT-CS2PD/GT_DataPD_MIT-CS2PD.csv'\n",
    "path = 'D:/studia_mgrEIM/master_diploma/data/neuroqwerty/all/'\n",
    "\n",
    "data1 = nqDataset(filename1, filename2)\n",
    "data1.show_stats()"
   ]
  },
  {
   "cell_type": "code",
   "execution_count": 3,
   "metadata": {},
   "outputs": [
    {
     "name": "stdout",
     "output_type": "stream",
     "text": [
      "0\n",
      "1\n",
      "2\n",
      "3\n",
      "4\n",
      "5\n",
      "6\n",
      "7\n",
      "8\n",
      "9\n",
      "10\n",
      "11\n",
      "12\n",
      "13\n",
      "14\n",
      "15\n",
      "16\n",
      "17\n",
      "18\n"
     ]
    },
    {
     "name": "stderr",
     "output_type": "stream",
     "text": [
      "d:\\anaconda3\\lib\\site-packages\\numpy\\lib\\histograms.py:906: RuntimeWarning: invalid value encountered in divide\n",
      "  return n/db/n.sum(), bin_edges\n"
     ]
    },
    {
     "name": "stdout",
     "output_type": "stream",
     "text": [
      "19\n",
      "20\n",
      "21\n",
      "22\n",
      "23\n",
      "24\n"
     ]
    },
    {
     "name": "stderr",
     "output_type": "stream",
     "text": [
      "d:\\studia_mgrEIM\\master_diploma\\repo\\masterdiploma\\keystroke_module.py:71: RuntimeWarning: invalid value encountered in double_scalars\n",
      "  viqr = (Q2 - Q1)/(Q3 - Q1)\n",
      "d:\\anaconda3\\lib\\site-packages\\numpy\\lib\\histograms.py:906: RuntimeWarning: invalid value encountered in divide\n",
      "  return n/db/n.sum(), bin_edges\n"
     ]
    },
    {
     "name": "stdout",
     "output_type": "stream",
     "text": [
      "25\n",
      "26\n",
      "27\n",
      "28\n",
      "29\n",
      "30\n",
      "31\n"
     ]
    },
    {
     "name": "stderr",
     "output_type": "stream",
     "text": [
      "d:\\studia_mgrEIM\\master_diploma\\repo\\masterdiploma\\keystroke_module.py:71: RuntimeWarning: invalid value encountered in double_scalars\n",
      "  viqr = (Q2 - Q1)/(Q3 - Q1)\n",
      "d:\\studia_mgrEIM\\master_diploma\\repo\\masterdiploma\\keystroke_module.py:71: RuntimeWarning: invalid value encountered in double_scalars\n",
      "  viqr = (Q2 - Q1)/(Q3 - Q1)\n"
     ]
    },
    {
     "name": "stdout",
     "output_type": "stream",
     "text": [
      "32\n",
      "33\n",
      "34\n",
      "35\n",
      "36\n",
      "37\n",
      "38\n"
     ]
    },
    {
     "name": "stderr",
     "output_type": "stream",
     "text": [
      "d:\\studia_mgrEIM\\master_diploma\\repo\\masterdiploma\\keystroke_module.py:71: RuntimeWarning: invalid value encountered in double_scalars\n",
      "  viqr = (Q2 - Q1)/(Q3 - Q1)\n"
     ]
    },
    {
     "name": "stdout",
     "output_type": "stream",
     "text": [
      "39\n",
      "40\n",
      "41\n",
      "42\n",
      "43\n",
      "44\n",
      "45\n",
      "46\n",
      "47\n"
     ]
    },
    {
     "name": "stderr",
     "output_type": "stream",
     "text": [
      "d:\\anaconda3\\lib\\site-packages\\numpy\\lib\\histograms.py:906: RuntimeWarning: invalid value encountered in divide\n",
      "  return n/db/n.sum(), bin_edges\n",
      "d:\\studia_mgrEIM\\master_diploma\\repo\\masterdiploma\\keystroke_module.py:71: RuntimeWarning: invalid value encountered in double_scalars\n",
      "  viqr = (Q2 - Q1)/(Q3 - Q1)\n",
      "d:\\anaconda3\\lib\\site-packages\\numpy\\lib\\histograms.py:906: RuntimeWarning: invalid value encountered in divide\n",
      "  return n/db/n.sum(), bin_edges\n",
      "d:\\studia_mgrEIM\\master_diploma\\repo\\masterdiploma\\keystroke_module.py:71: RuntimeWarning: invalid value encountered in double_scalars\n",
      "  viqr = (Q2 - Q1)/(Q3 - Q1)\n",
      "d:\\anaconda3\\lib\\site-packages\\numpy\\lib\\histograms.py:906: RuntimeWarning: invalid value encountered in divide\n",
      "  return n/db/n.sum(), bin_edges\n"
     ]
    },
    {
     "name": "stdout",
     "output_type": "stream",
     "text": [
      "48\n",
      "49\n",
      "50\n",
      "51\n",
      "52\n",
      "53\n",
      "54\n",
      "55\n",
      "56\n"
     ]
    },
    {
     "name": "stderr",
     "output_type": "stream",
     "text": [
      "d:\\anaconda3\\lib\\site-packages\\numpy\\lib\\histograms.py:906: RuntimeWarning: invalid value encountered in divide\n",
      "  return n/db/n.sum(), bin_edges\n"
     ]
    },
    {
     "name": "stdout",
     "output_type": "stream",
     "text": [
      "57\n",
      "58\n",
      "59\n",
      "60\n"
     ]
    },
    {
     "name": "stderr",
     "output_type": "stream",
     "text": [
      "d:\\studia_mgrEIM\\master_diploma\\repo\\masterdiploma\\keystroke_module.py:71: RuntimeWarning: invalid value encountered in double_scalars\n",
      "  viqr = (Q2 - Q1)/(Q3 - Q1)\n"
     ]
    },
    {
     "name": "stdout",
     "output_type": "stream",
     "text": [
      "61\n",
      "62\n",
      "63\n",
      "64\n"
     ]
    },
    {
     "name": "stderr",
     "output_type": "stream",
     "text": [
      "d:\\studia_mgrEIM\\master_diploma\\repo\\masterdiploma\\keystroke_module.py:71: RuntimeWarning: invalid value encountered in double_scalars\n",
      "  viqr = (Q2 - Q1)/(Q3 - Q1)\n",
      "d:\\anaconda3\\lib\\site-packages\\numpy\\lib\\histograms.py:906: RuntimeWarning: invalid value encountered in divide\n",
      "  return n/db/n.sum(), bin_edges\n"
     ]
    },
    {
     "name": "stdout",
     "output_type": "stream",
     "text": [
      "65\n",
      "66\n",
      "67\n",
      "68\n",
      "69\n",
      "70\n",
      "71\n",
      "72\n",
      "73\n"
     ]
    },
    {
     "name": "stderr",
     "output_type": "stream",
     "text": [
      "d:\\anaconda3\\lib\\site-packages\\numpy\\lib\\histograms.py:906: RuntimeWarning: invalid value encountered in divide\n",
      "  return n/db/n.sum(), bin_edges\n",
      "d:\\anaconda3\\lib\\site-packages\\numpy\\lib\\histograms.py:906: RuntimeWarning: invalid value encountered in divide\n",
      "  return n/db/n.sum(), bin_edges\n",
      "d:\\anaconda3\\lib\\site-packages\\numpy\\lib\\histograms.py:906: RuntimeWarning: invalid value encountered in divide\n",
      "  return n/db/n.sum(), bin_edges\n",
      "d:\\anaconda3\\lib\\site-packages\\numpy\\lib\\histograms.py:906: RuntimeWarning: invalid value encountered in divide\n",
      "  return n/db/n.sum(), bin_edges\n",
      "d:\\studia_mgrEIM\\master_diploma\\repo\\masterdiploma\\keystroke_module.py:71: RuntimeWarning: invalid value encountered in double_scalars\n",
      "  viqr = (Q2 - Q1)/(Q3 - Q1)\n"
     ]
    },
    {
     "name": "stdout",
     "output_type": "stream",
     "text": [
      "74\n",
      "75\n",
      "76\n",
      "77\n"
     ]
    },
    {
     "name": "stderr",
     "output_type": "stream",
     "text": [
      "d:\\anaconda3\\lib\\site-packages\\numpy\\lib\\histograms.py:906: RuntimeWarning: invalid value encountered in divide\n",
      "  return n/db/n.sum(), bin_edges\n",
      "d:\\anaconda3\\lib\\site-packages\\numpy\\lib\\histograms.py:906: RuntimeWarning: invalid value encountered in divide\n",
      "  return n/db/n.sum(), bin_edges\n"
     ]
    },
    {
     "name": "stdout",
     "output_type": "stream",
     "text": [
      "78\n",
      "79\n",
      "80\n",
      "81\n"
     ]
    },
    {
     "name": "stderr",
     "output_type": "stream",
     "text": [
      "d:\\anaconda3\\lib\\site-packages\\numpy\\lib\\histograms.py:906: RuntimeWarning: invalid value encountered in divide\n",
      "  return n/db/n.sum(), bin_edges\n",
      "d:\\studia_mgrEIM\\master_diploma\\repo\\masterdiploma\\keystroke_module.py:71: RuntimeWarning: invalid value encountered in double_scalars\n",
      "  viqr = (Q2 - Q1)/(Q3 - Q1)\n"
     ]
    },
    {
     "name": "stdout",
     "output_type": "stream",
     "text": [
      "82\n",
      "83\n",
      "84\n",
      "(59, 6)\n"
     ]
    },
    {
     "name": "stderr",
     "output_type": "stream",
     "text": [
      "d:\\anaconda3\\lib\\site-packages\\numpy\\lib\\histograms.py:906: RuntimeWarning: invalid value encountered in divide\n",
      "  return n/db/n.sum(), bin_edges\n"
     ]
    }
   ],
   "source": [
    "data1.prepare_dataset(path, feature_extract=1)\n",
    "print(data1.trainset.shape)"
   ]
  },
  {
   "cell_type": "code",
   "execution_count": 5,
   "metadata": {},
   "outputs": [
    {
     "data": {
      "text/plain": [
       "array([1., 0., 1., 1., 0., 0., 1., 0., 1., 0., 0., 0., 0., 1., 1., 0., 0.,\n",
       "       0., 0., 1., 1., 0., 1., 1., 0., 1., 0., 1., 1., 0., 0., 0., 0., 0.,\n",
       "       1., 1., 1., 1., 0., 0., 1., 0., 0., 0., 0., 1., 1., 0., 1., 0., 1.,\n",
       "       0., 0., 0., 1., 1., 0., 1., 1.])"
      ]
     },
     "execution_count": 5,
     "metadata": {},
     "output_type": "execute_result"
    }
   ],
   "source": [
    "data1.train_ground_truth"
   ]
  },
  {
   "cell_type": "code",
   "execution_count": 4,
   "metadata": {},
   "outputs": [
    {
     "data": {
      "text/plain": [
       "array([[7.77777778e-01, 4.91115765e-01, 1.35646274e-01, 8.27980446e-01,\n",
       "        3.31465687e-02, 3.22671156e-03],\n",
       "       [1.61111111e+00, 3.88830668e-01, 9.37251882e-01, 6.27481178e-02,\n",
       "        0.00000000e+00, 0.00000000e+00],\n",
       "       [7.22222222e-01, 3.95279477e-01, 2.78336795e-01, 7.07666968e-01,\n",
       "        1.10722611e-02, 2.92397661e-03],\n",
       "       [7.22222222e-01, 4.73846352e-01, 6.92756293e-01, 3.07243707e-01,\n",
       "        0.00000000e+00, 0.00000000e+00],\n",
       "       [8.33333333e-01, 4.68356482e-01, 9.27336951e-01, 7.26630489e-02,\n",
       "        0.00000000e+00, 0.00000000e+00],\n",
       "       [2.22222222e-01, 4.54480076e-01, 7.89919291e-01, 2.07406912e-01,\n",
       "        2.67379679e-03, 0.00000000e+00],\n",
       "       [6.11111111e-01, 4.27028985e-01, 9.06345198e-01, 9.36548020e-02,\n",
       "        0.00000000e+00, 0.00000000e+00],\n",
       "       [1.83333333e+00, 4.81869594e-01, 7.91856404e-01, 2.07457725e-01,\n",
       "        0.00000000e+00, 6.85871056e-04],\n",
       "       [2.38888889e+00, 3.15737762e-01, 8.38313710e-01, 1.50958027e-01,\n",
       "        8.81255364e-03, 1.91570881e-03],\n",
       "       [2.44444444e+00, 4.27137177e-01, 9.41130622e-01, 5.88693779e-02,\n",
       "        0.00000000e+00, 0.00000000e+00],\n",
       "       [1.44444444e+00, 4.37434444e-01, 8.16876301e-01, 1.83123699e-01,\n",
       "        0.00000000e+00, 0.00000000e+00],\n",
       "       [5.55555556e-02, 3.35626680e-01, 7.72209879e-01, 2.27790121e-01,\n",
       "        0.00000000e+00, 0.00000000e+00],\n",
       "       [1.05555556e+00, 4.70812344e-01, 9.49846093e-01, 5.01539068e-02,\n",
       "        0.00000000e+00, 0.00000000e+00],\n",
       "       [5.55555556e-01, 4.49965667e-01, 4.38457673e-01, 5.52801944e-01,\n",
       "        8.74038289e-03, 0.00000000e+00],\n",
       "       [2.77777778e-01, 3.32180274e-01, 5.17021161e-01, 3.43283862e-01,\n",
       "        1.39694977e-01, 0.00000000e+00],\n",
       "       [1.44444444e+00, 2.85655658e-01, 7.35806109e-01, 2.64193891e-01,\n",
       "        0.00000000e+00, 0.00000000e+00],\n",
       "       [3.33333333e-01, 4.69070746e-01, 6.67573605e-01, 3.32426395e-01,\n",
       "        0.00000000e+00, 0.00000000e+00],\n",
       "       [4.44444444e-01, 4.51573985e-01, 1.93601290e-01, 8.06398710e-01,\n",
       "        0.00000000e+00, 0.00000000e+00],\n",
       "       [2.05555556e+00, 4.59761836e-01, 9.65637594e-01, 3.43624063e-02,\n",
       "        0.00000000e+00, 0.00000000e+00],\n",
       "       [1.00000000e+00, 4.60776465e-01, 1.61505071e-01, 8.05236472e-01,\n",
       "        3.32584567e-02, 0.00000000e+00],\n",
       "       [3.33333333e-01, 4.57504147e-01, 5.34619306e-01, 4.60472371e-01,\n",
       "        4.90832252e-03, 0.00000000e+00],\n",
       "       [1.83333333e+00, 3.95939947e-01, 8.87710597e-01, 1.12289403e-01,\n",
       "        0.00000000e+00, 0.00000000e+00],\n",
       "       [1.88888889e+00, 3.78520889e-01, 2.25653093e-01, 6.48486185e-01,\n",
       "        1.20809525e-01, 5.05119724e-03],\n",
       "       [1.61111111e+00, 3.39044061e-01, 9.11418207e-01, 8.85817930e-02,\n",
       "        0.00000000e+00, 0.00000000e+00],\n",
       "       [3.33333333e-01, 4.52821068e-01, 3.62745098e-02, 9.63725490e-01,\n",
       "        0.00000000e+00, 0.00000000e+00],\n",
       "       [8.33333333e-01, 3.48505554e-01, 8.55158061e-01, 1.44841939e-01,\n",
       "        0.00000000e+00, 0.00000000e+00],\n",
       "       [5.00000000e-01, 4.48314948e-01, 4.70260682e-01, 5.22949195e-01,\n",
       "        6.79012346e-03, 0.00000000e+00],\n",
       "       [4.44444444e-01, 4.54371658e-01, 2.88267288e-02, 8.47512455e-01,\n",
       "        1.12965629e-01, 1.06951872e-02],\n",
       "       [7.22222222e-01, 4.46161427e-01, 5.22006695e-02, 9.44875354e-01,\n",
       "        2.92397661e-03, 0.00000000e+00],\n",
       "       [1.11111111e-01, 4.31588008e-01, 5.00627133e-01, 4.95669163e-01,\n",
       "        0.00000000e+00, 3.70370370e-03],\n",
       "       [3.22222222e+00, 4.13241906e-01, 8.28390232e-01, 1.70948392e-01,\n",
       "        6.61375661e-04, 0.00000000e+00],\n",
       "       [1.77777778e+00, 5.03459612e-01, 9.80690655e-01, 1.93093454e-02,\n",
       "        0.00000000e+00, 0.00000000e+00],\n",
       "       [1.27777778e+00, 4.85156807e-01, 9.57956723e-01, 4.20432771e-02,\n",
       "        0.00000000e+00, 0.00000000e+00],\n",
       "       [4.44444444e-01, 4.94399997e-01, 8.26626644e-01, 1.73373356e-01,\n",
       "        0.00000000e+00, 0.00000000e+00],\n",
       "       [9.44444444e-01, 4.26057038e-01, 4.49843211e-01, 5.19809178e-01,\n",
       "        2.86669385e-02, 1.68067227e-03],\n",
       "       [1.66666667e+00, 2.19479078e-01, 6.26311501e-01, 2.15777191e-01,\n",
       "        1.45903505e-01, 1.20078020e-02],\n",
       "       [7.77777778e-01, 3.40456084e-01, 4.36319289e-01, 4.93960143e-01,\n",
       "        6.97205679e-02, 0.00000000e+00],\n",
       "       [7.77777778e-01, 4.27010329e-01, 2.25435359e-01, 6.47105678e-01,\n",
       "        1.13169154e-01, 1.42898081e-02],\n",
       "       [1.72222222e+00, 4.99216401e-01, 7.11687349e-01, 2.86360479e-01,\n",
       "        1.95217141e-03, 0.00000000e+00],\n",
       "       [1.16666667e+00, 4.33163630e-01, 7.08000268e-01, 2.91999732e-01,\n",
       "        0.00000000e+00, 0.00000000e+00],\n",
       "       [1.66666667e+00, 4.82139134e-01, 6.87330436e-01, 3.11621346e-01,\n",
       "        1.04821803e-03, 0.00000000e+00],\n",
       "       [5.55555556e-02, 6.29393895e-01, 5.55045024e-01, 4.44954976e-01,\n",
       "        0.00000000e+00, 0.00000000e+00],\n",
       "       [1.72222222e+00, 2.70758597e-01, 9.60325673e-01, 3.96743270e-02,\n",
       "        0.00000000e+00, 0.00000000e+00],\n",
       "       [2.33333333e+00, 4.58613407e-01, 9.97168873e-01, 2.83112700e-03,\n",
       "        0.00000000e+00, 0.00000000e+00],\n",
       "       [3.33333333e-01, 5.32541692e-01, 2.27088396e-01, 7.69815629e-01,\n",
       "        3.09597523e-03, 0.00000000e+00],\n",
       "       [1.00000000e+00, 2.12401458e-01, 7.24076548e-01, 2.70220170e-01,\n",
       "        5.70328240e-03, 0.00000000e+00],\n",
       "       [1.72222222e+00, 3.27600408e-01, 6.55375394e-01, 2.22921110e-01,\n",
       "        1.09506951e-01, 1.21965453e-02],\n",
       "       [5.00000000e-01, 4.94383855e-01, 5.10121993e-01, 4.74752110e-01,\n",
       "        1.51258966e-02, 0.00000000e+00],\n",
       "       [1.55555556e+00, 4.30131000e-01, 7.12433331e-01, 2.87566669e-01,\n",
       "        0.00000000e+00, 0.00000000e+00],\n",
       "       [2.38888889e+00, 3.78561803e-01, 9.50647900e-01, 4.74667308e-02,\n",
       "        1.88536953e-03, 0.00000000e+00],\n",
       "       [2.22222222e-01, 2.94717149e-01, 1.33302833e-01, 5.99906411e-01,\n",
       "        2.59013403e-01, 7.77735337e-03],\n",
       "       [7.77777778e-01, 4.54891000e-01, 4.00863034e-01, 5.95326791e-01,\n",
       "        3.81017442e-03, 0.00000000e+00],\n",
       "       [8.33333333e-01, 5.46741661e-01, 1.00000000e+00, 0.00000000e+00,\n",
       "        0.00000000e+00, 0.00000000e+00],\n",
       "       [2.22222222e-01, 4.64505601e-01, 2.07886905e-01, 7.83184524e-01,\n",
       "        8.92857143e-03, 0.00000000e+00],\n",
       "       [2.50000000e+00, 4.07903001e-01, 8.99293665e-01, 1.00706335e-01,\n",
       "        0.00000000e+00, 0.00000000e+00],\n",
       "       [1.72222222e+00, 5.13062462e-01, 9.76236861e-01, 2.37631394e-02,\n",
       "        0.00000000e+00, 0.00000000e+00],\n",
       "       [1.66666667e-01, 4.00941058e-01, 0.00000000e+00, 9.62500000e-01,\n",
       "        3.12500000e-02, 6.25000000e-03],\n",
       "       [7.77777778e-01, 4.95681831e-01, 2.64596920e-01, 6.94220454e-01,\n",
       "        3.88678118e-02, 2.31481481e-03],\n",
       "       [3.00000000e+00, 2.59415157e-01, 7.86508297e-01, 2.08785050e-01,\n",
       "        4.70665319e-03, 0.00000000e+00]])"
      ]
     },
     "execution_count": 4,
     "metadata": {},
     "output_type": "execute_result"
    }
   ],
   "source": [
    "data1.trainset"
   ]
  },
  {
   "cell_type": "code",
   "execution_count": 87,
   "metadata": {},
   "outputs": [],
   "source": [
    "class tappyDataset:\n",
    "    def __init__(self, path1, path2):\n",
    "\n",
    "        # load data\n",
    "        self.files_list1 = os.listdir(path1)\n",
    "        self.files_list2 = os.listdir(path2)\n",
    "        users = [el.split(\"_\")[1].split(\".\")[0] for el in self.files_list1]\n",
    "        df = pd.DataFrame(data=users, columns=['pID'])\n",
    "\n",
    "        for i, el in enumerate(df['pID']):\n",
    "            temp = [x for x in self.files_list2 if x.startswith(el)]\n",
    "            if len(temp):\n",
    "                df.loc[[i], 'files'] = pd.Series([temp], index=df.index[[i]])\n",
    "                with open(path1 + self.files_list1[i], 'r') as f:\n",
    "                    for line in f:\n",
    "                        if 'Parkinsons' in line:\n",
    "                            read_info = line.strip().split(\": \")\n",
    "                            df.loc[[i], 'Parkinsons'] = read_info[1]\n",
    "\n",
    "        df.dropna(inplace=True)\n",
    "        df['Parkinsons'] = df['Parkinsons'].map({'True': 1.0, 'False': 0.0})\n",
    "\n",
    "        self.user_info = df\n",
    "\n",
    "        # split for train and test\n",
    "        self.train_df, self.test_df = train_test_split(\n",
    "            self.user_info, test_size=0.3, random_state=42)\n",
    "\n",
    "        self.train_ground_truth = self.train_df['Parkinsons'].to_numpy()\n",
    "        self.test_ground_truth = self.test_df['Parkinsons'].to_numpy()\n",
    "        self.trainset = None\n",
    "        self.testset = None\n",
    "\n",
    "    def show_stats(self):\n",
    "        print('Patients with PD: ', len(\n",
    "            self.user_info[self.user_info['Parkinsons'] == 1.0]))\n",
    "        print('Patients without PD: ', len(\n",
    "            self.user_info[self.user_info['Parkinsons'] == 0.0]))\n",
    "        plt.figure(figsize=[4, 3])\n",
    "        sns.countplot(x='Parkinsons', data=self.user_info)\n",
    "        plt.xlabel('Parkinson\\'s disease')\n",
    "\n",
    "    @staticmethod\n",
    "    def load_record(filename):\n",
    "        df = pd.read_csv(filename, delimiter=\"\\t\", index_col=False, header=None, names=[\n",
    "                         'User', 'Date', 'Timestamp', 'Hand', 'holdTime', 'Direction', 'flightTime', 'latencyTime'])\n",
    "\n",
    "        df.drop(columns=['User'], inplace=True)\n",
    "        df.drop(columns=['Direction'], inplace=True)\n",
    "\n",
    "        df[df.columns[-3:]] = df[df.columns[-3:]\n",
    "                                 ].apply(lambda x: x.lstrip('0') if type(x) == str else x)\n",
    "        df[df.columns[-3:]\n",
    "           ] = pd.to_numeric(df[df.columns[-3:]].stack(), errors='coerce').unstack()\n",
    "        df[df.columns[-3:]] = df[df.columns[-3:]].apply(lambda x: x/1000)\n",
    "\n",
    "        grouped_data = df.groupby('Date').agg(list)\n",
    "        grouped_data['Length'] = grouped_data['Timestamp'].apply(len)\n",
    "\n",
    "        idx = grouped_data['Length'].idxmax()\n",
    "        ex_rec1 = df[df['Date'] == idx].copy()\n",
    "\n",
    "        try:\n",
    "            ex_rec1['Hour'] = ex_rec1['Timestamp'].apply(\n",
    "                lambda x: datetime.strptime(x, '%H:%M:%S.%f').hour)\n",
    "        except ValueError as ve:\n",
    "            # TO DO: check procedure of format in column, remove wrong values\n",
    "            print('Procedure')\n",
    "            temp = ex_rec1['Timestamp'].apply(lambda x: is_date_parsing(x))\n",
    "            ex_rec1.drop(ex_rec1[temp == False].index, inplace=True)\n",
    "            ex_rec1['Hour'] = ex_rec1['Timestamp'].apply(\n",
    "                lambda x: datetime.strptime(x, '%H:%M:%S.%f').hour)\n",
    "\n",
    "        grouped_data = ex_rec1.groupby('Hour').agg(list)\n",
    "        grouped_data['Length'] = grouped_data['Date'].apply(len)\n",
    "\n",
    "        # jeśli jest odpowiednia liczba znakow\n",
    "        if grouped_data['Length'].max() > 100:\n",
    "            idx = grouped_data['Length'].idxmax()\n",
    "            ex_rec2 = ex_rec1[ex_rec1['Hour'] == idx].copy()\n",
    "            ex_rec2.drop('Hour', axis=1, inplace=True)\n",
    "            ex_rec2.reset_index(inplace=True)\n",
    "\n",
    "            ex_rec2['Timestamp'] = ex_rec2['Timestamp'].apply(\n",
    "                lambda x: datetime.strptime(x, '%H:%M:%S.%f'))\n",
    "            ex_rec2['timeLapse'] = count_time_from_0(ex_rec2)\n",
    "        else:\n",
    "            print('Not enough keystroke events!  ',\n",
    "                  grouped_data['Length'].max())\n",
    "            ex_rec2 = []\n",
    "\n",
    "        return ex_rec2\n",
    "\n",
    "    def prepare_dataset(self, path, feature_extract=2):\n",
    "\n",
    "        flag_fatal = [0, 0]\n",
    "        if feature_extract == 2:\n",
    "            self.trainset = np.zeros([len(self.train_df), 22])\n",
    "\n",
    "        for i, row in self.user_info.iterrows():\n",
    "            # for i, row in self.train_df.reset_index(inplace=False).iterrows():\n",
    "            # .iloc[45:]\n",
    "            # DO NOT iterate: https://stackoverflow.com/questions/16476924/how-to-iterate-over-rows-in-a-dataframe-in-pandas\n",
    "            # use .apply() instead\n",
    "            \n",
    "            # control\n",
    "            print(i)\n",
    "            if i==10:\n",
    "                print(row['files'])\n",
    "\n",
    "            # take first file not all, but if not enough ...\n",
    "            df_ID = self.load_record(path + row['files'][0])\n",
    "            if len(df_ID) == 0:\n",
    "                if len(row['files']) > 1:\n",
    "                    print('Another file was found!')\n",
    "                    df_ID = self.load_record(path + row['files'][1])\n",
    "                    if len(df_ID) == 0:\n",
    "                        print('Fatal - record not useful, with gt: ',\n",
    "                              row['Parkinsons'])\n",
    "                        flag_fatal[0] += 1\n",
    "                        flag_fatal[1] += row['Parkinsons']\n",
    "                        continue\n",
    "                    else:\n",
    "                        print('Success')\n",
    "                else:\n",
    "                    print('Only 1 file is available!')\n",
    "                    continue\n",
    "\n",
    "            df_ID = filter_record(df_ID, key_filter=False)\n",
    "\n",
    "            if feature_extract == 2:\n",
    "                va_HT, rate = feature_extract_method_2(\n",
    "                    df_ID, dynamic_feature='holdTime', time_feature='timeLapse', assumed_length=360, window_time=20)\n",
    "                if rate >= 0.5:\n",
    "                    flag_fatal[0] += 1\n",
    "                    flag_fatal[1] += row['Parkinsons']\n",
    "                va_NFT, _ = feature_extract_method_2(\n",
    "                    df_ID, dynamic_feature='flightTime',  time_feature='timeLapse', assumed_length=360, window_time=20, normalize_option=True)\n",
    "                self.trainset[i, :] = np.concatenate([va_HT, va_NFT], axis=0)\n",
    "\n",
    "        print('flag_fatal: ', flag_fatal)"
   ]
  },
  {
   "cell_type": "code",
   "execution_count": 88,
   "metadata": {},
   "outputs": [
    {
     "name": "stdout",
     "output_type": "stream",
     "text": [
      "Patients with PD:  162\n",
      "Patients without PD:  55\n"
     ]
    },
    {
     "data": {
      "image/png": "[encoded data removed]",
      "text/plain": [
       "<Figure size 400x300 with 1 Axes>"
      ]
     },
     "metadata": {},
     "output_type": "display_data"
    }
   ],
   "source": [
    "directory_path1 = 'D:/studia_mgrEIM/master_diploma/data/tappy-keystroke-data-1.0.0/Archived_users/'\n",
    "directory_path2 = 'D:/studia_mgrEIM/master_diploma/data/tappy-keystroke-data-1.0.0/Tappy_Data/'\n",
    "\n",
    "data2 = tappyDataset(directory_path1, directory_path2)\n",
    "data2.show_stats()"
   ]
  },
  {
   "cell_type": "code",
   "execution_count": 89,
   "metadata": {},
   "outputs": [
    {
     "name": "stdout",
     "output_type": "stream",
     "text": [
      "0\n"
     ]
    },
    {
     "name": "stderr",
     "output_type": "stream",
     "text": [
      "C:\\Users\\Hanna\\AppData\\Local\\Temp\\ipykernel_9012\\140770704.py:45: DtypeWarning: Columns (4,6) have mixed types. Specify dtype option on import or set low_memory=False.\n",
      "  df = pd.read_csv(filename, delimiter=\"\\t\", index_col=False, header=None, names=[\n"
     ]
    },
    {
     "name": "stdout",
     "output_type": "stream",
     "text": [
      "1\n",
      "3\n",
      "Not enough keystroke events!   42\n",
      "Only 1 file is available!\n",
      "5\n",
      "6\n",
      "7\n",
      "8\n",
      "9\n",
      "10\n",
      "['3DIXPRIOSW_1701.txt', '3DIXPRIOSW_1702.txt']\n",
      "Control:  (199, 6)\n",
      "Control:  107\n",
      "Control:  84\n",
      "Not enough keystroke events!   84\n",
      "Another file was found!\n",
      "Control:  (856, 6)\n",
      "Control:  174\n",
      "Control:  63\n",
      "Not enough keystroke events!   63\n",
      "Fatal - record not useful, with gt:  0.0\n",
      "12\n",
      "13\n"
     ]
    },
    {
     "ename": "KeyboardInterrupt",
     "evalue": "",
     "output_type": "error",
     "traceback": [
      "\u001b[1;31m---------------------------------------------------------------------------\u001b[0m",
      "\u001b[1;31mKeyboardInterrupt\u001b[0m                         Traceback (most recent call last)",
      "Cell \u001b[1;32mIn[89], line 1\u001b[0m\n\u001b[1;32m----> 1\u001b[0m data2\u001b[39m.\u001b[39;49mprepare_dataset(directory_path2, feature_extract\u001b[39m=\u001b[39;49m\u001b[39m2\u001b[39;49m)\n\u001b[0;32m      2\u001b[0m \u001b[39mprint\u001b[39m(data2\u001b[39m.\u001b[39mtrainset\u001b[39m.\u001b[39mshape)\n",
      "Cell \u001b[1;32mIn[87], line 141\u001b[0m, in \u001b[0;36mtappyDataset.prepare_dataset\u001b[1;34m(self, path, feature_extract)\u001b[0m\n\u001b[0;32m    138\u001b[0m df_ID \u001b[39m=\u001b[39m filter_record(df_ID, key_filter\u001b[39m=\u001b[39m\u001b[39mFalse\u001b[39;00m)\n\u001b[0;32m    140\u001b[0m \u001b[39mif\u001b[39;00m feature_extract \u001b[39m==\u001b[39m \u001b[39m2\u001b[39m:\n\u001b[1;32m--> 141\u001b[0m     va_HT, rate \u001b[39m=\u001b[39m feature_extract_method_2(\n\u001b[0;32m    142\u001b[0m         df_ID, dynamic_feature\u001b[39m=\u001b[39;49m\u001b[39m'\u001b[39;49m\u001b[39mholdTime\u001b[39;49m\u001b[39m'\u001b[39;49m, time_feature\u001b[39m=\u001b[39;49m\u001b[39m'\u001b[39;49m\u001b[39mtimeLapse\u001b[39;49m\u001b[39m'\u001b[39;49m, assumed_length\u001b[39m=\u001b[39;49m\u001b[39m360\u001b[39;49m, window_time\u001b[39m=\u001b[39;49m\u001b[39m20\u001b[39;49m)\n\u001b[0;32m    143\u001b[0m     \u001b[39mif\u001b[39;00m rate \u001b[39m>\u001b[39m\u001b[39m=\u001b[39m \u001b[39m0.5\u001b[39m:\n\u001b[0;32m    144\u001b[0m         flag_fatal[\u001b[39m0\u001b[39m] \u001b[39m+\u001b[39m\u001b[39m=\u001b[39m \u001b[39m1\u001b[39m\n",
      "File \u001b[1;32md:\\studia_mgrEIM\\master_diploma\\repo\\masterdiploma\\keystroke_module.py:68\u001b[0m, in \u001b[0;36mfeature_extract_method_2\u001b[1;34m(data, dynamic_feature, time_feature, assumed_length, window_time, normalize_option)\u001b[0m\n\u001b[0;32m     65\u001b[0m flag \u001b[39m=\u001b[39m \u001b[39m0\u001b[39m\n\u001b[0;32m     66\u001b[0m \u001b[39mfor\u001b[39;00m i \u001b[39min\u001b[39;00m \u001b[39mrange\u001b[39m(n_windows):\n\u001b[1;32m---> 68\u001b[0m     df_temp \u001b[39m=\u001b[39m data[(data[time_feature] \u001b[39m>\u001b[39;49m i\u001b[39m*\u001b[39;49mwindow_time)\n\u001b[0;32m     69\u001b[0m                    \u001b[39m&\u001b[39;49m (data[time_feature] \u001b[39m<\u001b[39;49m (i\u001b[39m+\u001b[39;49m\u001b[39m1\u001b[39;49m)\u001b[39m*\u001b[39;49mwindow_time)]\n\u001b[0;32m     71\u001b[0m     typical_number \u001b[39m+\u001b[39m\u001b[39m=\u001b[39m \u001b[39mlen\u001b[39m(df_temp)\n\u001b[0;32m     72\u001b[0m     \u001b[39mif\u001b[39;00m \u001b[39mlen\u001b[39m(df_temp) \u001b[39m<\u001b[39m \u001b[39m6\u001b[39m:\n",
      "File \u001b[1;32md:\\anaconda3\\lib\\site-packages\\pandas\\core\\ops\\common.py:72\u001b[0m, in \u001b[0;36m_unpack_zerodim_and_defer.<locals>.new_method\u001b[1;34m(self, other)\u001b[0m\n\u001b[0;32m     68\u001b[0m             \u001b[39mreturn\u001b[39;00m \u001b[39mNotImplemented\u001b[39m\n\u001b[0;32m     70\u001b[0m other \u001b[39m=\u001b[39m item_from_zerodim(other)\n\u001b[1;32m---> 72\u001b[0m \u001b[39mreturn\u001b[39;00m method(\u001b[39mself\u001b[39;49m, other)\n",
      "File \u001b[1;32md:\\anaconda3\\lib\\site-packages\\pandas\\core\\arraylike.py:72\u001b[0m, in \u001b[0;36mOpsMixin.__and__\u001b[1;34m(self, other)\u001b[0m\n\u001b[0;32m     70\u001b[0m \u001b[39m@unpack_zerodim_and_defer\u001b[39m(\u001b[39m\"\u001b[39m\u001b[39m__and__\u001b[39m\u001b[39m\"\u001b[39m)\n\u001b[0;32m     71\u001b[0m \u001b[39mdef\u001b[39;00m \u001b[39m__and__\u001b[39m(\u001b[39mself\u001b[39m, other):\n\u001b[1;32m---> 72\u001b[0m     \u001b[39mreturn\u001b[39;00m \u001b[39mself\u001b[39;49m\u001b[39m.\u001b[39;49m_logical_method(other, operator\u001b[39m.\u001b[39;49mand_)\n",
      "File \u001b[1;32md:\\anaconda3\\lib\\site-packages\\pandas\\core\\series.py:6254\u001b[0m, in \u001b[0;36mSeries._logical_method\u001b[1;34m(self, other, op)\u001b[0m\n\u001b[0;32m   6251\u001b[0m lvalues \u001b[39m=\u001b[39m \u001b[39mself\u001b[39m\u001b[39m.\u001b[39m_values\n\u001b[0;32m   6252\u001b[0m rvalues \u001b[39m=\u001b[39m extract_array(other, extract_numpy\u001b[39m=\u001b[39m\u001b[39mTrue\u001b[39;00m, extract_range\u001b[39m=\u001b[39m\u001b[39mTrue\u001b[39;00m)\n\u001b[1;32m-> 6254\u001b[0m res_values \u001b[39m=\u001b[39m ops\u001b[39m.\u001b[39;49mlogical_op(lvalues, rvalues, op)\n\u001b[0;32m   6255\u001b[0m \u001b[39mreturn\u001b[39;00m \u001b[39mself\u001b[39m\u001b[39m.\u001b[39m_construct_result(res_values, name\u001b[39m=\u001b[39mres_name)\n",
      "File \u001b[1;32md:\\anaconda3\\lib\\site-packages\\pandas\\core\\ops\\array_ops.py:397\u001b[0m, in \u001b[0;36mlogical_op\u001b[1;34m(left, right, op)\u001b[0m\n\u001b[0;32m    395\u001b[0m     res_values \u001b[39m=\u001b[39m na_logical_op(lvalues, rvalues, op)\n\u001b[0;32m    396\u001b[0m     \u001b[39m# error: Cannot call function of unknown type\u001b[39;00m\n\u001b[1;32m--> 397\u001b[0m     res_values \u001b[39m=\u001b[39m filler(res_values)  \u001b[39m# type: ignore[operator]\u001b[39;00m\n\u001b[0;32m    399\u001b[0m \u001b[39mreturn\u001b[39;00m res_values\n",
      "File \u001b[1;32md:\\anaconda3\\lib\\site-packages\\pandas\\core\\ops\\array_ops.py:364\u001b[0m, in \u001b[0;36mlogical_op.<locals>.fill_bool\u001b[1;34m(x, left)\u001b[0m\n\u001b[0;32m    361\u001b[0m         x[mask] \u001b[39m=\u001b[39m \u001b[39mFalse\u001b[39;00m\n\u001b[0;32m    363\u001b[0m \u001b[39mif\u001b[39;00m left \u001b[39mis\u001b[39;00m \u001b[39mNone\u001b[39;00m \u001b[39mor\u001b[39;00m is_bool_dtype(left\u001b[39m.\u001b[39mdtype):\n\u001b[1;32m--> 364\u001b[0m     x \u001b[39m=\u001b[39m x\u001b[39m.\u001b[39;49mastype(\u001b[39mbool\u001b[39;49m)\n\u001b[0;32m    365\u001b[0m \u001b[39mreturn\u001b[39;00m x\n",
      "\u001b[1;31mKeyboardInterrupt\u001b[0m: "
     ]
    }
   ],
   "source": [
    "data2.prepare_dataset(directory_path2, feature_extract=2)\n",
    "print(data2.trainset.shape)"
   ]
  },
  {
   "cell_type": "code",
   "execution_count": 58,
   "metadata": {},
   "outputs": [
    {
     "data": {
      "text/plain": [
       "array([1., 1., 0., 1., 1., 0., 1., 1., 1., 1., 1., 1., 1., 1., 1., 0., 1.,\n",
       "       1., 1., 0., 1., 1., 1., 0., 0., 1., 1., 1., 1., 1., 1., 1., 1., 0.,\n",
       "       1., 1., 1., 1., 0., 1., 1., 1., 1., 0., 1., 1., 0., 1., 1., 1., 1.,\n",
       "       1., 1., 1., 1., 1., 1., 1., 1., 1., 1., 1., 0., 1., 0., 0., 1., 1.,\n",
       "       1., 1., 1., 0., 1., 1., 1., 0., 1., 0., 0., 0., 0., 0., 1., 1., 1.,\n",
       "       0., 1., 1., 1., 0., 1., 1., 1., 1., 1., 0., 1., 0., 0., 1., 1., 0.,\n",
       "       1., 0., 1., 1., 1., 1., 1., 1., 1., 0., 0., 1., 1., 1., 1., 0., 0.,\n",
       "       1., 1., 1., 1., 1., 1., 1., 1., 1., 1., 0., 0., 1., 0., 1., 1., 0.,\n",
       "       1., 1., 1., 0., 1., 1., 1., 1., 1., 1., 0., 1., 0., 1., 1.])"
      ]
     },
     "execution_count": 58,
     "metadata": {},
     "output_type": "execute_result"
    }
   ],
   "source": [
    "data2.train_ground_truth"
   ]
  },
  {
   "attachments": {},
   "cell_type": "markdown",
   "metadata": {},
   "source": [
    "## Read data - (1. dataset)"
   ]
  },
  {
   "cell_type": "code",
   "execution_count": 4,
   "metadata": {},
   "outputs": [
    {
     "data": {
      "text/html": [
       "<div>\n",
       "<style scoped>\n",
       "    .dataframe tbody tr th:only-of-type {\n",
       "        vertical-align: middle;\n",
       "    }\n",
       "\n",
       "    .dataframe tbody tr th {\n",
       "        vertical-align: top;\n",
       "    }\n",
       "\n",
       "    .dataframe thead th {\n",
       "        text-align: right;\n",
       "    }\n",
       "</style>\n",
       "<table border=\"1\" class=\"dataframe\">\n",
       "  <thead>\n",
       "    <tr style=\"text-align: right;\">\n",
       "      <th></th>\n",
       "      <th>pID</th>\n",
       "      <th>gt</th>\n",
       "      <th>updrs</th>\n",
       "      <th>afTap</th>\n",
       "      <th>sTap</th>\n",
       "      <th>typingSpeed</th>\n",
       "      <th>file_1</th>\n",
       "      <th>file_2</th>\n",
       "    </tr>\n",
       "  </thead>\n",
       "  <tbody>\n",
       "    <tr>\n",
       "      <th>0</th>\n",
       "      <td>11</td>\n",
       "      <td>True</td>\n",
       "      <td>14.25</td>\n",
       "      <td>NaN</td>\n",
       "      <td>162.25</td>\n",
       "      <td>189.372549</td>\n",
       "      <td>1402930351.011_001_014.csv</td>\n",
       "      <td>1403706430.011_003_014.csv</td>\n",
       "    </tr>\n",
       "    <tr>\n",
       "      <th>1</th>\n",
       "      <td>60</td>\n",
       "      <td>False</td>\n",
       "      <td>2.00</td>\n",
       "      <td>NaN</td>\n",
       "      <td>162.25</td>\n",
       "      <td>60.533333</td>\n",
       "      <td>1402932300.060_001_014.csv</td>\n",
       "      <td>1403708258.060_003_014.csv</td>\n",
       "    </tr>\n",
       "    <tr>\n",
       "      <th>2</th>\n",
       "      <td>67</td>\n",
       "      <td>True</td>\n",
       "      <td>25.25</td>\n",
       "      <td>NaN</td>\n",
       "      <td>133.75</td>\n",
       "      <td>54.333333</td>\n",
       "      <td>1401117235.067_001_014.csv</td>\n",
       "      <td>1401978395.067_003_014.csv</td>\n",
       "    </tr>\n",
       "    <tr>\n",
       "      <th>3</th>\n",
       "      <td>68</td>\n",
       "      <td>False</td>\n",
       "      <td>6.00</td>\n",
       "      <td>NaN</td>\n",
       "      <td>159.00</td>\n",
       "      <td>71.800000</td>\n",
       "      <td>1401114972.068_001_014.csv</td>\n",
       "      <td>1401980765.068_003_014.csv</td>\n",
       "    </tr>\n",
       "    <tr>\n",
       "      <th>4</th>\n",
       "      <td>70</td>\n",
       "      <td>True</td>\n",
       "      <td>26.25</td>\n",
       "      <td>NaN</td>\n",
       "      <td>113.50</td>\n",
       "      <td>39.614035</td>\n",
       "      <td>1404311419.070_001_014.csv</td>\n",
       "      <td>1404743687.070_003_014.csv</td>\n",
       "    </tr>\n",
       "  </tbody>\n",
       "</table>\n",
       "</div>"
      ],
      "text/plain": [
       "   pID     gt  updrs  afTap    sTap  typingSpeed                      file_1  \\\n",
       "0   11   True  14.25    NaN  162.25   189.372549  1402930351.011_001_014.csv   \n",
       "1   60  False   2.00    NaN  162.25    60.533333  1402932300.060_001_014.csv   \n",
       "2   67   True  25.25    NaN  133.75    54.333333  1401117235.067_001_014.csv   \n",
       "3   68  False   6.00    NaN  159.00    71.800000  1401114972.068_001_014.csv   \n",
       "4   70   True  26.25    NaN  113.50    39.614035  1404311419.070_001_014.csv   \n",
       "\n",
       "                       file_2  \n",
       "0  1403706430.011_003_014.csv  \n",
       "1  1403708258.060_003_014.csv  \n",
       "2  1401978395.067_003_014.csv  \n",
       "3  1401980765.068_003_014.csv  \n",
       "4  1404743687.070_003_014.csv  "
      ]
     },
     "execution_count": 4,
     "metadata": {},
     "output_type": "execute_result"
    }
   ],
   "source": [
    "# load Ground Truth\n",
    "df1 = pd.read_csv('D:/studia_mgrEIM/master_diploma/data/neuroqwerty/MIT-CS1PD/GT_DataPD_MIT-CS1PD.csv')\n",
    "df1.rename(columns={\"updrs108\": \"updrs\"}, inplace=True)\n",
    "df1.drop('nqScore', axis=1, inplace=True)\n",
    "df1.head()"
   ]
  },
  {
   "cell_type": "code",
   "execution_count": null,
   "metadata": {},
   "outputs": [
    {
     "data": {
      "text/plain": [
       "(31, 8)"
      ]
     },
     "execution_count": 4,
     "metadata": {},
     "output_type": "execute_result"
    }
   ],
   "source": [
    "df1.shape"
   ]
  },
  {
   "cell_type": "code",
   "execution_count": null,
   "metadata": {},
   "outputs": [
    {
     "name": "stdout",
     "output_type": "stream",
     "text": [
      "Patients with PD:  13\n",
      "Patients without PD:  18\n"
     ]
    }
   ],
   "source": [
    "print('Patients with PD: ', len(df1[df1['gt']==False]))\n",
    "print('Patients without PD: ', len(df1[df1['gt']==True]))"
   ]
  },
  {
   "cell_type": "code",
   "execution_count": 5,
   "metadata": {},
   "outputs": [
    {
     "data": {
      "text/html": [
       "<div>\n",
       "<style scoped>\n",
       "    .dataframe tbody tr th:only-of-type {\n",
       "        vertical-align: middle;\n",
       "    }\n",
       "\n",
       "    .dataframe tbody tr th {\n",
       "        vertical-align: top;\n",
       "    }\n",
       "\n",
       "    .dataframe thead th {\n",
       "        text-align: right;\n",
       "    }\n",
       "</style>\n",
       "<table border=\"1\" class=\"dataframe\">\n",
       "  <thead>\n",
       "    <tr style=\"text-align: right;\">\n",
       "      <th></th>\n",
       "      <th>pID</th>\n",
       "      <th>gt</th>\n",
       "      <th>updrs</th>\n",
       "      <th>afTap</th>\n",
       "      <th>sTap</th>\n",
       "      <th>typingSpeed</th>\n",
       "      <th>file_1</th>\n",
       "    </tr>\n",
       "  </thead>\n",
       "  <tbody>\n",
       "    <tr>\n",
       "      <th>0</th>\n",
       "      <td>1000</td>\n",
       "      <td>True</td>\n",
       "      <td>27</td>\n",
       "      <td>79.0</td>\n",
       "      <td>184.5</td>\n",
       "      <td>56.866667</td>\n",
       "      <td>1424946827.1000_001_014.csv</td>\n",
       "    </tr>\n",
       "    <tr>\n",
       "      <th>1</th>\n",
       "      <td>1001</td>\n",
       "      <td>True</td>\n",
       "      <td>16</td>\n",
       "      <td>96.5</td>\n",
       "      <td>189.0</td>\n",
       "      <td>118.000000</td>\n",
       "      <td>1427279751.1001_001_014.csv</td>\n",
       "    </tr>\n",
       "    <tr>\n",
       "      <th>2</th>\n",
       "      <td>1002</td>\n",
       "      <td>False</td>\n",
       "      <td>5</td>\n",
       "      <td>140.0</td>\n",
       "      <td>158.0</td>\n",
       "      <td>119.037037</td>\n",
       "      <td>1426676689.1002_001_014.csv</td>\n",
       "    </tr>\n",
       "    <tr>\n",
       "      <th>3</th>\n",
       "      <td>1004</td>\n",
       "      <td>True</td>\n",
       "      <td>22</td>\n",
       "      <td>83.5</td>\n",
       "      <td>191.5</td>\n",
       "      <td>74.266667</td>\n",
       "      <td>1429866367.1004_001_014.csv</td>\n",
       "    </tr>\n",
       "    <tr>\n",
       "      <th>4</th>\n",
       "      <td>1005</td>\n",
       "      <td>True</td>\n",
       "      <td>17</td>\n",
       "      <td>68.0</td>\n",
       "      <td>150.0</td>\n",
       "      <td>74.969697</td>\n",
       "      <td>1430134526.1005_001_014.csv</td>\n",
       "    </tr>\n",
       "  </tbody>\n",
       "</table>\n",
       "</div>"
      ],
      "text/plain": [
       "    pID     gt  updrs  afTap   sTap  typingSpeed                       file_1\n",
       "0  1000   True     27   79.0  184.5    56.866667  1424946827.1000_001_014.csv\n",
       "1  1001   True     16   96.5  189.0   118.000000  1427279751.1001_001_014.csv\n",
       "2  1002  False      5  140.0  158.0   119.037037  1426676689.1002_001_014.csv\n",
       "3  1004   True     22   83.5  191.5    74.266667  1429866367.1004_001_014.csv\n",
       "4  1005   True     17   68.0  150.0    74.969697  1430134526.1005_001_014.csv"
      ]
     },
     "execution_count": 5,
     "metadata": {},
     "output_type": "execute_result"
    }
   ],
   "source": [
    "# load Ground Truth\n",
    "df2 = pd.read_csv('D:/studia_mgrEIM/master_diploma/data/neuroqwerty/MIT-CS2PD/GT_DataPD_MIT-CS2PD.csv')\n",
    "df2.rename(columns={\"updrs108\": \"updrs\"}, inplace=True)\n",
    "df2.drop('nqScore', axis=1, inplace=True)\n",
    "df2.head()"
   ]
  },
  {
   "cell_type": "code",
   "execution_count": null,
   "metadata": {},
   "outputs": [
    {
     "name": "stdout",
     "output_type": "stream",
     "text": [
      "Patients with PD:  30\n",
      "Patients without PD:  24\n"
     ]
    }
   ],
   "source": [
    "print('Patients with PD: ', len(df2[df2['gt']==False]))\n",
    "print('Patients without PD: ', len(df2[df2['gt']==True]))"
   ]
  },
  {
   "cell_type": "code",
   "execution_count": 6,
   "metadata": {},
   "outputs": [
    {
     "data": {
      "text/html": [
       "<div>\n",
       "<style scoped>\n",
       "    .dataframe tbody tr th:only-of-type {\n",
       "        vertical-align: middle;\n",
       "    }\n",
       "\n",
       "    .dataframe tbody tr th {\n",
       "        vertical-align: top;\n",
       "    }\n",
       "\n",
       "    .dataframe thead th {\n",
       "        text-align: right;\n",
       "    }\n",
       "</style>\n",
       "<table border=\"1\" class=\"dataframe\">\n",
       "  <thead>\n",
       "    <tr style=\"text-align: right;\">\n",
       "      <th></th>\n",
       "      <th>pID</th>\n",
       "      <th>gt</th>\n",
       "      <th>updrs</th>\n",
       "      <th>afTap</th>\n",
       "      <th>sTap</th>\n",
       "      <th>typingSpeed</th>\n",
       "      <th>file_1</th>\n",
       "      <th>file_2</th>\n",
       "    </tr>\n",
       "  </thead>\n",
       "  <tbody>\n",
       "    <tr>\n",
       "      <th>80</th>\n",
       "      <td>1063</td>\n",
       "      <td>False</td>\n",
       "      <td>0.0</td>\n",
       "      <td>110.0</td>\n",
       "      <td>170.0</td>\n",
       "      <td>109.800000</td>\n",
       "      <td>1463511198.1063_001_014.csv</td>\n",
       "      <td>NaN</td>\n",
       "    </tr>\n",
       "    <tr>\n",
       "      <th>81</th>\n",
       "      <td>1064</td>\n",
       "      <td>True</td>\n",
       "      <td>28.0</td>\n",
       "      <td>75.5</td>\n",
       "      <td>140.0</td>\n",
       "      <td>105.333333</td>\n",
       "      <td>1458723488.1064_001_014.csv</td>\n",
       "      <td>NaN</td>\n",
       "    </tr>\n",
       "    <tr>\n",
       "      <th>82</th>\n",
       "      <td>1066</td>\n",
       "      <td>True</td>\n",
       "      <td>12.0</td>\n",
       "      <td>118.0</td>\n",
       "      <td>170.5</td>\n",
       "      <td>140.250000</td>\n",
       "      <td>1460104760.1066_001_014.csv</td>\n",
       "      <td>NaN</td>\n",
       "    </tr>\n",
       "    <tr>\n",
       "      <th>83</th>\n",
       "      <td>1068</td>\n",
       "      <td>True</td>\n",
       "      <td>26.0</td>\n",
       "      <td>65.5</td>\n",
       "      <td>98.0</td>\n",
       "      <td>48.800000</td>\n",
       "      <td>1460559248.1068_001_014.csv</td>\n",
       "      <td>NaN</td>\n",
       "    </tr>\n",
       "    <tr>\n",
       "      <th>84</th>\n",
       "      <td>1070</td>\n",
       "      <td>False</td>\n",
       "      <td>2.0</td>\n",
       "      <td>126.0</td>\n",
       "      <td>154.5</td>\n",
       "      <td>54.933333</td>\n",
       "      <td>1463130212.1070_001_014.csv</td>\n",
       "      <td>NaN</td>\n",
       "    </tr>\n",
       "  </tbody>\n",
       "</table>\n",
       "</div>"
      ],
      "text/plain": [
       "     pID     gt  updrs  afTap   sTap  typingSpeed  \\\n",
       "80  1063  False    0.0  110.0  170.0   109.800000   \n",
       "81  1064   True   28.0   75.5  140.0   105.333333   \n",
       "82  1066   True   12.0  118.0  170.5   140.250000   \n",
       "83  1068   True   26.0   65.5   98.0    48.800000   \n",
       "84  1070  False    2.0  126.0  154.5    54.933333   \n",
       "\n",
       "                         file_1 file_2  \n",
       "80  1463511198.1063_001_014.csv    NaN  \n",
       "81  1458723488.1064_001_014.csv    NaN  \n",
       "82  1460104760.1066_001_014.csv    NaN  \n",
       "83  1460559248.1068_001_014.csv    NaN  \n",
       "84  1463130212.1070_001_014.csv    NaN  "
      ]
     },
     "execution_count": 6,
     "metadata": {},
     "output_type": "execute_result"
    }
   ],
   "source": [
    "df_conc = pd.concat([df1, df2], ignore_index=True)\n",
    "df_conc.tail()"
   ]
  },
  {
   "cell_type": "code",
   "execution_count": null,
   "metadata": {},
   "outputs": [
    {
     "data": {
      "text/plain": [
       "Text(0.5, 0, 'Parkinson disease')"
      ]
     },
     "execution_count": 7,
     "metadata": {},
     "output_type": "execute_result"
    },
    {
     "data": {
      "image/png": "[encoded data removed]",
      "text/plain": [
       "<Figure size 400x300 with 1 Axes>"
      ]
     },
     "metadata": {},
     "output_type": "display_data"
    }
   ],
   "source": [
    "plt.figure(figsize=[4,3])\n",
    "sns.countplot(x = 'gt', data = df_conc)\n",
    "plt.xlabel('Parkinson disease')"
   ]
  },
  {
   "cell_type": "code",
   "execution_count": 7,
   "metadata": {},
   "outputs": [
    {
     "data": {
      "text/html": [
       "<div>\n",
       "<style scoped>\n",
       "    .dataframe tbody tr th:only-of-type {\n",
       "        vertical-align: middle;\n",
       "    }\n",
       "\n",
       "    .dataframe tbody tr th {\n",
       "        vertical-align: top;\n",
       "    }\n",
       "\n",
       "    .dataframe thead th {\n",
       "        text-align: right;\n",
       "    }\n",
       "</style>\n",
       "<table border=\"1\" class=\"dataframe\">\n",
       "  <thead>\n",
       "    <tr style=\"text-align: right;\">\n",
       "      <th></th>\n",
       "      <th>pressedKey</th>\n",
       "      <th>holdTime</th>\n",
       "      <th>releaseTime</th>\n",
       "      <th>pressTime</th>\n",
       "    </tr>\n",
       "  </thead>\n",
       "  <tbody>\n",
       "    <tr>\n",
       "      <th>0</th>\n",
       "      <td>n</td>\n",
       "      <td>0.1093</td>\n",
       "      <td>0.1595</td>\n",
       "      <td>0.0502</td>\n",
       "    </tr>\n",
       "    <tr>\n",
       "      <th>1</th>\n",
       "      <td>space</td>\n",
       "      <td>0.0939</td>\n",
       "      <td>0.5110</td>\n",
       "      <td>0.4171</td>\n",
       "    </tr>\n",
       "    <tr>\n",
       "      <th>2</th>\n",
       "      <td>p</td>\n",
       "      <td>0.1115</td>\n",
       "      <td>1.0955</td>\n",
       "      <td>0.9839</td>\n",
       "    </tr>\n",
       "    <tr>\n",
       "      <th>3</th>\n",
       "      <td>u</td>\n",
       "      <td>0.0724</td>\n",
       "      <td>1.6042</td>\n",
       "      <td>1.5319</td>\n",
       "    </tr>\n",
       "    <tr>\n",
       "      <th>4</th>\n",
       "      <td>e</td>\n",
       "      <td>0.1116</td>\n",
       "      <td>2.1940</td>\n",
       "      <td>2.0825</td>\n",
       "    </tr>\n",
       "  </tbody>\n",
       "</table>\n",
       "</div>"
      ],
      "text/plain": [
       "  pressedKey  holdTime  releaseTime  pressTime\n",
       "0          n    0.1093       0.1595     0.0502\n",
       "1      space    0.0939       0.5110     0.4171\n",
       "2          p    0.1115       1.0955     0.9839\n",
       "3          u    0.0724       1.6042     1.5319\n",
       "4          e    0.1116       2.1940     2.0825"
      ]
     },
     "execution_count": 7,
     "metadata": {},
     "output_type": "execute_result"
    }
   ],
   "source": [
    "# read example file\n",
    "df_ID = pd.read_csv('D:/studia_mgrEIM/master_diploma/data/neuroqwerty/MIT-CS2PD/data_MIT-CS2PD/'+ df2['file_1'][3], header = None, names=['pressedKey','holdTime', 'releaseTime', 'pressTime'])\n",
    "df_ID.head()"
   ]
  },
  {
   "cell_type": "code",
   "execution_count": 89,
   "metadata": {},
   "outputs": [
    {
     "data": {
      "text/plain": [
       "1749"
      ]
     },
     "execution_count": 89,
     "metadata": {},
     "output_type": "execute_result"
    }
   ],
   "source": [
    "len(df_ID['flightTime'])"
   ]
  },
  {
   "cell_type": "code",
   "execution_count": 8,
   "metadata": {},
   "outputs": [
    {
     "data": {
      "text/html": [
       "<div>\n",
       "<style scoped>\n",
       "    .dataframe tbody tr th:only-of-type {\n",
       "        vertical-align: middle;\n",
       "    }\n",
       "\n",
       "    .dataframe tbody tr th {\n",
       "        vertical-align: top;\n",
       "    }\n",
       "\n",
       "    .dataframe thead th {\n",
       "        text-align: right;\n",
       "    }\n",
       "</style>\n",
       "<table border=\"1\" class=\"dataframe\">\n",
       "  <thead>\n",
       "    <tr style=\"text-align: right;\">\n",
       "      <th></th>\n",
       "      <th>pressedKey</th>\n",
       "      <th>holdTime</th>\n",
       "      <th>releaseTime</th>\n",
       "      <th>pressTime</th>\n",
       "      <th>flightTime</th>\n",
       "    </tr>\n",
       "  </thead>\n",
       "  <tbody>\n",
       "    <tr>\n",
       "      <th>1202</th>\n",
       "      <td>b</td>\n",
       "      <td>0.0850</td>\n",
       "      <td>872.2050</td>\n",
       "      <td>872.1200</td>\n",
       "      <td>0.5256</td>\n",
       "    </tr>\n",
       "    <tr>\n",
       "      <th>1203</th>\n",
       "      <td>u</td>\n",
       "      <td>0.1089</td>\n",
       "      <td>872.5629</td>\n",
       "      <td>872.4539</td>\n",
       "      <td>0.2489</td>\n",
       "    </tr>\n",
       "    <tr>\n",
       "      <th>1204</th>\n",
       "      <td>r</td>\n",
       "      <td>0.1407</td>\n",
       "      <td>872.9963</td>\n",
       "      <td>872.8556</td>\n",
       "      <td>0.2927</td>\n",
       "    </tr>\n",
       "    <tr>\n",
       "      <th>1205</th>\n",
       "      <td>r</td>\n",
       "      <td>0.0360</td>\n",
       "      <td>873.1008</td>\n",
       "      <td>873.0648</td>\n",
       "      <td>0.0685</td>\n",
       "    </tr>\n",
       "    <tr>\n",
       "      <th>1206</th>\n",
       "      <td>r</td>\n",
       "      <td>0.1439</td>\n",
       "      <td>873.4619</td>\n",
       "      <td>873.3179</td>\n",
       "      <td>0.2171</td>\n",
       "    </tr>\n",
       "  </tbody>\n",
       "</table>\n",
       "</div>"
      ],
      "text/plain": [
       "     pressedKey  holdTime  releaseTime  pressTime  flightTime\n",
       "1202          b    0.0850     872.2050   872.1200      0.5256\n",
       "1203          u    0.1089     872.5629   872.4539      0.2489\n",
       "1204          r    0.1407     872.9963   872.8556      0.2927\n",
       "1205          r    0.0360     873.1008   873.0648      0.0685\n",
       "1206          r    0.1439     873.4619   873.3179      0.2171"
      ]
     },
     "execution_count": 8,
     "metadata": {},
     "output_type": "execute_result"
    }
   ],
   "source": [
    "df_ID['flightTime'] = df_ID['pressTime'] - \\\n",
    "    pd.concat([pd.Series(0), df_ID['releaseTime']], ignore_index=True)\n",
    "df_ID.tail()"
   ]
  },
  {
   "cell_type": "code",
   "execution_count": 9,
   "metadata": {},
   "outputs": [
    {
     "data": {
      "text/html": [
       "<div>\n",
       "<style scoped>\n",
       "    .dataframe tbody tr th:only-of-type {\n",
       "        vertical-align: middle;\n",
       "    }\n",
       "\n",
       "    .dataframe tbody tr th {\n",
       "        vertical-align: top;\n",
       "    }\n",
       "\n",
       "    .dataframe thead th {\n",
       "        text-align: right;\n",
       "    }\n",
       "</style>\n",
       "<table border=\"1\" class=\"dataframe\">\n",
       "  <thead>\n",
       "    <tr style=\"text-align: right;\">\n",
       "      <th></th>\n",
       "      <th>pressedKey</th>\n",
       "      <th>holdTime</th>\n",
       "      <th>releaseTime</th>\n",
       "      <th>pressTime</th>\n",
       "      <th>flightTime</th>\n",
       "      <th>latencyTime</th>\n",
       "    </tr>\n",
       "  </thead>\n",
       "  <tbody>\n",
       "    <tr>\n",
       "      <th>1202</th>\n",
       "      <td>b</td>\n",
       "      <td>0.0850</td>\n",
       "      <td>872.2050</td>\n",
       "      <td>872.1200</td>\n",
       "      <td>0.5256</td>\n",
       "      <td>0.6522</td>\n",
       "    </tr>\n",
       "    <tr>\n",
       "      <th>1203</th>\n",
       "      <td>u</td>\n",
       "      <td>0.1089</td>\n",
       "      <td>872.5629</td>\n",
       "      <td>872.4539</td>\n",
       "      <td>0.2489</td>\n",
       "      <td>0.3339</td>\n",
       "    </tr>\n",
       "    <tr>\n",
       "      <th>1204</th>\n",
       "      <td>r</td>\n",
       "      <td>0.1407</td>\n",
       "      <td>872.9963</td>\n",
       "      <td>872.8556</td>\n",
       "      <td>0.2927</td>\n",
       "      <td>0.4016</td>\n",
       "    </tr>\n",
       "    <tr>\n",
       "      <th>1205</th>\n",
       "      <td>r</td>\n",
       "      <td>0.0360</td>\n",
       "      <td>873.1008</td>\n",
       "      <td>873.0648</td>\n",
       "      <td>0.0685</td>\n",
       "      <td>0.2092</td>\n",
       "    </tr>\n",
       "    <tr>\n",
       "      <th>1206</th>\n",
       "      <td>r</td>\n",
       "      <td>0.1439</td>\n",
       "      <td>873.4619</td>\n",
       "      <td>873.3179</td>\n",
       "      <td>0.2171</td>\n",
       "      <td>0.2531</td>\n",
       "    </tr>\n",
       "  </tbody>\n",
       "</table>\n",
       "</div>"
      ],
      "text/plain": [
       "     pressedKey  holdTime  releaseTime  pressTime  flightTime  latencyTime\n",
       "1202          b    0.0850     872.2050   872.1200      0.5256       0.6522\n",
       "1203          u    0.1089     872.5629   872.4539      0.2489       0.3339\n",
       "1204          r    0.1407     872.9963   872.8556      0.2927       0.4016\n",
       "1205          r    0.0360     873.1008   873.0648      0.0685       0.2092\n",
       "1206          r    0.1439     873.4619   873.3179      0.2171       0.2531"
      ]
     },
     "execution_count": 9,
     "metadata": {},
     "output_type": "execute_result"
    }
   ],
   "source": [
    "df_ID['latencyTime']=df_ID['flightTime']+pd.concat([pd.Series(0),df_ID['holdTime']],ignore_index=True)\n",
    "df_ID.tail()"
   ]
  },
  {
   "cell_type": "code",
   "execution_count": null,
   "metadata": {},
   "outputs": [
    {
     "data": {
      "text/plain": [
       "33"
      ]
     },
     "execution_count": 25,
     "metadata": {},
     "output_type": "execute_result"
    }
   ],
   "source": [
    "# len(df_ID[df_ID['holdTime']>1])/len(df_ID)\n",
    "len(df_ID[df_ID['holdTime']>5])"
   ]
  },
  {
   "attachments": {},
   "cell_type": "markdown",
   "metadata": {},
   "source": [
    "### Filtering  (1. dataset)"
   ]
  },
  {
   "cell_type": "code",
   "execution_count": 10,
   "metadata": {},
   "outputs": [
    {
     "name": "stdout",
     "output_type": "stream",
     "text": [
      "(1207, 6)\n",
      "(1199, 6)\n",
      "(1199, 6)\n",
      "(1199, 6)\n"
     ]
    }
   ],
   "source": [
    "# basic filters\n",
    "print(df_ID.shape)\n",
    "df_ID_new = df_ID.drop(df_ID[df_ID['holdTime']>5].index)\n",
    "print(df_ID_new.shape)\n",
    "df_ID_new.drop(df_ID_new[df_ID_new['holdTime']<0].index, inplace=True)\n",
    "print(df_ID_new.shape)\n",
    "df_ID_new.drop(df_ID_new[df_ID_new['releaseTime']<0].index, inplace=True)\n",
    "print(df_ID_new.shape)"
   ]
  },
  {
   "cell_type": "code",
   "execution_count": 11,
   "metadata": {},
   "outputs": [
    {
     "name": "stdout",
     "output_type": "stream",
     "text": [
      "(1081, 6)\n"
     ]
    }
   ],
   "source": [
    "# filters for 1. dataset\n",
    "\n",
    "pattern = 'mouse|BackSpace|Shift|Alt|Control|Num_Lock|Return|P_Enter|Caps_Lock|Left|Right|Up|Down'\n",
    "pattern += '|more|less|exclamdown|\\[65027\\]|\\[65105\\]|ntilde|minus|equal|bracket|semicolon|slash|apostrophe|grave|question|right|left'\n",
    "\n",
    "# re.compile()\n",
    "# spację zostawiamy, comma i period takze\n",
    "len(df_ID_new[df_ID_new['pressedKey'].str.contains(pattern, regex=True)])/1750\n",
    "# jak dużo danych tracimy w wyniku filtracji? ~10%\n",
    "\n",
    "df_ID_new = df_ID_new[~df_ID_new['pressedKey'].str.contains(pattern, regex=True)]\n",
    "print(df_ID_new.shape)"
   ]
  },
  {
   "cell_type": "code",
   "execution_count": null,
   "metadata": {},
   "outputs": [],
   "source": [
    "# import nqDataLoader as nq\n",
    "# pressedKey, holdTime, pressTime, releaseTime= nq.getDataFiltHelper(fileIn)"
   ]
  },
  {
   "attachments": {},
   "cell_type": "markdown",
   "metadata": {},
   "source": [
    "### Feature extraction - 1. approach  (1. dataset)"
   ]
  },
  {
   "cell_type": "code",
   "execution_count": 12,
   "metadata": {},
   "outputs": [],
   "source": [
    "# https://www.nature.com/articles/srep34468\n",
    "\n",
    "# to będzie potem w zapętleniu x razy, x - liczba blokow Bi\n",
    "window_time = 90\n",
    "assumed_length = 360  # first condition\n",
    "\n",
    "va = feature_extract_method_1(df_ID_new , dynamic_feature='holdTime', assumed_length=assumed_length, window_time=window_time)"
   ]
  },
  {
   "attachments": {},
   "cell_type": "markdown",
   "metadata": {},
   "source": [
    "### Feature extraction - 2. approach  (1. dataset)"
   ]
  },
  {
   "cell_type": "code",
   "execution_count": 14,
   "metadata": {},
   "outputs": [],
   "source": [
    "# https://www.nature.com/articles/s41598-018-25999-0\n",
    "\n",
    "# 15-seconds non-overlapping time windows\n",
    "assumed_length = 360  # first condition\n",
    "# window_time = 15  # time width of window\n",
    "window_time = 20  # time width of window\n",
    "\n",
    "va = feature_extract_method_2(df_ID_new , dynamic_feature='holdTime', assumed_length=assumed_length, window_time=window_time)"
   ]
  },
  {
   "cell_type": "code",
   "execution_count": 15,
   "metadata": {},
   "outputs": [
    {
     "data": {
      "text/plain": [
       "(array([1.15005279e-01, 7.20753295e-03, 2.82346858e-02, 5.39981265e-03,\n",
       "        3.64267211e-01, 1.56380047e+00, 6.42894100e-01, 5.51030364e-01,\n",
       "        5.09175503e-08, 6.65833368e-07, 8.70690110e-06]),\n",
       " 0.0)"
      ]
     },
     "execution_count": 15,
     "metadata": {},
     "output_type": "execute_result"
    }
   ],
   "source": [
    "va"
   ]
  },
  {
   "cell_type": "code",
   "execution_count": 35,
   "metadata": {},
   "outputs": [
    {
     "data": {
      "text/html": [
       "<style>#sk-container-id-11 {color: black;background-color: white;}#sk-container-id-11 pre{padding: 0;}#sk-container-id-11 div.sk-toggleable {background-color: white;}#sk-container-id-11 label.sk-toggleable__label {cursor: pointer;display: block;width: 100%;margin-bottom: 0;padding: 0.3em;box-sizing: border-box;text-align: center;}#sk-container-id-11 label.sk-toggleable__label-arrow:before {content: \"▸\";float: left;margin-right: 0.25em;color: #696969;}#sk-container-id-11 label.sk-toggleable__label-arrow:hover:before {color: black;}#sk-container-id-11 div.sk-estimator:hover label.sk-toggleable__label-arrow:before {color: black;}#sk-container-id-11 div.sk-toggleable__content {max-height: 0;max-width: 0;overflow: hidden;text-align: left;background-color: #f0f8ff;}#sk-container-id-11 div.sk-toggleable__content pre {margin: 0.2em;color: black;border-radius: 0.25em;background-color: #f0f8ff;}#sk-container-id-11 input.sk-toggleable__control:checked~div.sk-toggleable__content {max-height: 200px;max-width: 100%;overflow: auto;}#sk-container-id-11 input.sk-toggleable__control:checked~label.sk-toggleable__label-arrow:before {content: \"▾\";}#sk-container-id-11 div.sk-estimator input.sk-toggleable__control:checked~label.sk-toggleable__label {background-color: #d4ebff;}#sk-container-id-11 div.sk-label input.sk-toggleable__control:checked~label.sk-toggleable__label {background-color: #d4ebff;}#sk-container-id-11 input.sk-hidden--visually {border: 0;clip: rect(1px 1px 1px 1px);clip: rect(1px, 1px, 1px, 1px);height: 1px;margin: -1px;overflow: hidden;padding: 0;position: absolute;width: 1px;}#sk-container-id-11 div.sk-estimator {font-family: monospace;background-color: #f0f8ff;border: 1px dotted black;border-radius: 0.25em;box-sizing: border-box;margin-bottom: 0.5em;}#sk-container-id-11 div.sk-estimator:hover {background-color: #d4ebff;}#sk-container-id-11 div.sk-parallel-item::after {content: \"\";width: 100%;border-bottom: 1px solid gray;flex-grow: 1;}#sk-container-id-11 div.sk-label:hover label.sk-toggleable__label {background-color: #d4ebff;}#sk-container-id-11 div.sk-serial::before {content: \"\";position: absolute;border-left: 1px solid gray;box-sizing: border-box;top: 0;bottom: 0;left: 50%;z-index: 0;}#sk-container-id-11 div.sk-serial {display: flex;flex-direction: column;align-items: center;background-color: white;padding-right: 0.2em;padding-left: 0.2em;position: relative;}#sk-container-id-11 div.sk-item {position: relative;z-index: 1;}#sk-container-id-11 div.sk-parallel {display: flex;align-items: stretch;justify-content: center;background-color: white;position: relative;}#sk-container-id-11 div.sk-item::before, #sk-container-id-11 div.sk-parallel-item::before {content: \"\";position: absolute;border-left: 1px solid gray;box-sizing: border-box;top: 0;bottom: 0;left: 50%;z-index: -1;}#sk-container-id-11 div.sk-parallel-item {display: flex;flex-direction: column;z-index: 1;position: relative;background-color: white;}#sk-container-id-11 div.sk-parallel-item:first-child::after {align-self: flex-end;width: 50%;}#sk-container-id-11 div.sk-parallel-item:last-child::after {align-self: flex-start;width: 50%;}#sk-container-id-11 div.sk-parallel-item:only-child::after {width: 0;}#sk-container-id-11 div.sk-dashed-wrapped {border: 1px dashed gray;margin: 0 0.4em 0.5em 0.4em;box-sizing: border-box;padding-bottom: 0.4em;background-color: white;}#sk-container-id-11 div.sk-label label {font-family: monospace;font-weight: bold;display: inline-block;line-height: 1.2em;}#sk-container-id-11 div.sk-label-container {text-align: center;}#sk-container-id-11 div.sk-container {/* jupyter's `normalize.less` sets `[hidden] { display: none; }` but bootstrap.min.css set `[hidden] { display: none !important; }` so we also need the `!important` here to be able to override the default hidden behavior on the sphinx rendered scikit-learn.org. See: https://github.com/scikit-learn/scikit-learn/issues/21755 */display: inline-block !important;position: relative;}#sk-container-id-11 div.sk-text-repr-fallback {display: none;}</style><div id=\"sk-container-id-11\" class=\"sk-top-container\"><div class=\"sk-text-repr-fallback\"><pre>SVC(C=10)</pre><b>In a Jupyter environment, please rerun this cell to show the HTML representation or trust the notebook. <br />On GitHub, the HTML representation is unable to render, please try loading this page with nbviewer.org.</b></div><div class=\"sk-container\" hidden><div class=\"sk-item\"><div class=\"sk-estimator sk-toggleable\"><input class=\"sk-toggleable__control sk-hidden--visually\" id=\"sk-estimator-id-21\" type=\"checkbox\" checked><label for=\"sk-estimator-id-21\" class=\"sk-toggleable__label sk-toggleable__label-arrow\">SVC</label><div class=\"sk-toggleable__content\"><pre>SVC(C=10)</pre></div></div></div></div></div>"
      ],
      "text/plain": [
       "SVC(C=10)"
      ]
     },
     "execution_count": 35,
     "metadata": {},
     "output_type": "execute_result"
    }
   ],
   "source": [
    "from sklearn.svm import SVC \n",
    "from sklearn.metrics import classification_report, confusion_matrix, accuracy_score\n",
    "\n",
    "# X of shape (n_samples, n_features) \n",
    "svc_model = SVC(C=10)\n",
    "svc_model.fit(data1.trainset, data1.train_ground_truth)"
   ]
  },
  {
   "cell_type": "code",
   "execution_count": 32,
   "metadata": {},
   "outputs": [
    {
     "name": "stdout",
     "output_type": "stream",
     "text": [
      "Fitting 5 folds for each of 48 candidates, totalling 240 fits\n",
      "[CV] END .........................C=0.1, gamma=1, kernel=rbf; total time=   0.0s\n",
      "[CV] END .........................C=0.1, gamma=1, kernel=rbf; total time=   0.0s\n",
      "[CV] END .........................C=0.1, gamma=1, kernel=rbf; total time=   0.0s\n",
      "[CV] END .........................C=0.1, gamma=1, kernel=rbf; total time=   0.0s\n",
      "[CV] END .........................C=0.1, gamma=1, kernel=rbf; total time=   0.0s\n",
      "[CV] END ........................C=0.1, gamma=1, kernel=poly; total time=   0.0s\n",
      "[CV] END ........................C=0.1, gamma=1, kernel=poly; total time=   0.0s\n",
      "[CV] END ........................C=0.1, gamma=1, kernel=poly; total time=   0.0s\n",
      "[CV] END ........................C=0.1, gamma=1, kernel=poly; total time=   0.0s\n",
      "[CV] END ........................C=0.1, gamma=1, kernel=poly; total time=   0.0s\n",
      "[CV] END .....................C=0.1, gamma=1, kernel=sigmoid; total time=   0.0s\n",
      "[CV] END .....................C=0.1, gamma=1, kernel=sigmoid; total time=   0.0s\n",
      "[CV] END .....................C=0.1, gamma=1, kernel=sigmoid; total time=   0.0s\n",
      "[CV] END .....................C=0.1, gamma=1, kernel=sigmoid; total time=   0.0s\n",
      "[CV] END .....................C=0.1, gamma=1, kernel=sigmoid; total time=   0.0s\n",
      "[CV] END .......................C=0.1, gamma=0.1, kernel=rbf; total time=   0.0s\n",
      "[CV] END .......................C=0.1, gamma=0.1, kernel=rbf; total time=   0.0s\n",
      "[CV] END .......................C=0.1, gamma=0.1, kernel=rbf; total time=   0.0s\n",
      "[CV] END .......................C=0.1, gamma=0.1, kernel=rbf; total time=   0.0s\n",
      "[CV] END .......................C=0.1, gamma=0.1, kernel=rbf; total time=   0.0s\n",
      "[CV] END ......................C=0.1, gamma=0.1, kernel=poly; total time=   0.0s\n",
      "[CV] END ......................C=0.1, gamma=0.1, kernel=poly; total time=   0.0s\n",
      "[CV] END ......................C=0.1, gamma=0.1, kernel=poly; total time=   0.0s\n",
      "[CV] END ......................C=0.1, gamma=0.1, kernel=poly; total time=   0.0s\n",
      "[CV] END ......................C=0.1, gamma=0.1, kernel=poly; total time=   0.0s\n",
      "[CV] END ...................C=0.1, gamma=0.1, kernel=sigmoid; total time=   0.0s\n",
      "[CV] END ...................C=0.1, gamma=0.1, kernel=sigmoid; total time=   0.0s\n",
      "[CV] END ...................C=0.1, gamma=0.1, kernel=sigmoid; total time=   0.0s\n",
      "[CV] END ...................C=0.1, gamma=0.1, kernel=sigmoid; total time=   0.0s\n",
      "[CV] END ...................C=0.1, gamma=0.1, kernel=sigmoid; total time=   0.0s\n",
      "[CV] END ......................C=0.1, gamma=0.01, kernel=rbf; total time=   0.0s\n",
      "[CV] END ......................C=0.1, gamma=0.01, kernel=rbf; total time=   0.0s\n",
      "[CV] END ......................C=0.1, gamma=0.01, kernel=rbf; total time=   0.0s\n",
      "[CV] END ......................C=0.1, gamma=0.01, kernel=rbf; total time=   0.0s\n",
      "[CV] END ......................C=0.1, gamma=0.01, kernel=rbf; total time=   0.0s\n",
      "[CV] END .....................C=0.1, gamma=0.01, kernel=poly; total time=   0.0s\n",
      "[CV] END .....................C=0.1, gamma=0.01, kernel=poly; total time=   0.0s\n",
      "[CV] END .....................C=0.1, gamma=0.01, kernel=poly; total time=   0.0s\n",
      "[CV] END .....................C=0.1, gamma=0.01, kernel=poly; total time=   0.0s\n",
      "[CV] END .....................C=0.1, gamma=0.01, kernel=poly; total time=   0.0s\n",
      "[CV] END ..................C=0.1, gamma=0.01, kernel=sigmoid; total time=   0.0s\n",
      "[CV] END ..................C=0.1, gamma=0.01, kernel=sigmoid; total time=   0.0s\n",
      "[CV] END ..................C=0.1, gamma=0.01, kernel=sigmoid; total time=   0.0s\n",
      "[CV] END ..................C=0.1, gamma=0.01, kernel=sigmoid; total time=   0.0s\n",
      "[CV] END ..................C=0.1, gamma=0.01, kernel=sigmoid; total time=   0.0s\n",
      "[CV] END .....................C=0.1, gamma=0.001, kernel=rbf; total time=   0.0s\n",
      "[CV] END .....................C=0.1, gamma=0.001, kernel=rbf; total time=   0.0s\n",
      "[CV] END .....................C=0.1, gamma=0.001, kernel=rbf; total time=   0.0s\n",
      "[CV] END .....................C=0.1, gamma=0.001, kernel=rbf; total time=   0.0s\n",
      "[CV] END .....................C=0.1, gamma=0.001, kernel=rbf; total time=   0.0s\n",
      "[CV] END ....................C=0.1, gamma=0.001, kernel=poly; total time=   0.0s\n",
      "[CV] END ....................C=0.1, gamma=0.001, kernel=poly; total time=   0.0s\n",
      "[CV] END ....................C=0.1, gamma=0.001, kernel=poly; total time=   0.0s\n",
      "[CV] END ....................C=0.1, gamma=0.001, kernel=poly; total time=   0.0s\n",
      "[CV] END ....................C=0.1, gamma=0.001, kernel=poly; total time=   0.0s\n",
      "[CV] END .................C=0.1, gamma=0.001, kernel=sigmoid; total time=   0.0s\n",
      "[CV] END .................C=0.1, gamma=0.001, kernel=sigmoid; total time=   0.0s\n",
      "[CV] END .................C=0.1, gamma=0.001, kernel=sigmoid; total time=   0.0s\n",
      "[CV] END .................C=0.1, gamma=0.001, kernel=sigmoid; total time=   0.0s\n",
      "[CV] END .................C=0.1, gamma=0.001, kernel=sigmoid; total time=   0.0s\n",
      "[CV] END ...........................C=1, gamma=1, kernel=rbf; total time=   0.0s\n",
      "[CV] END ...........................C=1, gamma=1, kernel=rbf; total time=   0.0s\n",
      "[CV] END ...........................C=1, gamma=1, kernel=rbf; total time=   0.0s\n",
      "[CV] END ...........................C=1, gamma=1, kernel=rbf; total time=   0.0s\n",
      "[CV] END ...........................C=1, gamma=1, kernel=rbf; total time=   0.0s\n",
      "[CV] END ..........................C=1, gamma=1, kernel=poly; total time=   0.0s\n",
      "[CV] END ..........................C=1, gamma=1, kernel=poly; total time=   0.0s\n",
      "[CV] END ..........................C=1, gamma=1, kernel=poly; total time=   0.0s\n",
      "[CV] END ..........................C=1, gamma=1, kernel=poly; total time=   0.0s\n",
      "[CV] END ..........................C=1, gamma=1, kernel=poly; total time=   0.0s\n",
      "[CV] END .......................C=1, gamma=1, kernel=sigmoid; total time=   0.0s\n",
      "[CV] END .......................C=1, gamma=1, kernel=sigmoid; total time=   0.0s\n",
      "[CV] END .......................C=1, gamma=1, kernel=sigmoid; total time=   0.0s\n",
      "[CV] END .......................C=1, gamma=1, kernel=sigmoid; total time=   0.0s\n",
      "[CV] END .......................C=1, gamma=1, kernel=sigmoid; total time=   0.0s\n",
      "[CV] END .........................C=1, gamma=0.1, kernel=rbf; total time=   0.0s\n",
      "[CV] END .........................C=1, gamma=0.1, kernel=rbf; total time=   0.0s\n",
      "[CV] END .........................C=1, gamma=0.1, kernel=rbf; total time=   0.0s\n",
      "[CV] END .........................C=1, gamma=0.1, kernel=rbf; total time=   0.0s\n",
      "[CV] END .........................C=1, gamma=0.1, kernel=rbf; total time=   0.0s\n",
      "[CV] END ........................C=1, gamma=0.1, kernel=poly; total time=   0.0s\n",
      "[CV] END ........................C=1, gamma=0.1, kernel=poly; total time=   0.0s\n",
      "[CV] END ........................C=1, gamma=0.1, kernel=poly; total time=   0.0s\n",
      "[CV] END ........................C=1, gamma=0.1, kernel=poly; total time=   0.0s\n",
      "[CV] END ........................C=1, gamma=0.1, kernel=poly; total time=   0.0s\n",
      "[CV] END .....................C=1, gamma=0.1, kernel=sigmoid; total time=   0.0s\n",
      "[CV] END .....................C=1, gamma=0.1, kernel=sigmoid; total time=   0.0s\n",
      "[CV] END .....................C=1, gamma=0.1, kernel=sigmoid; total time=   0.0s\n",
      "[CV] END .....................C=1, gamma=0.1, kernel=sigmoid; total time=   0.0s\n",
      "[CV] END .....................C=1, gamma=0.1, kernel=sigmoid; total time=   0.0s\n",
      "[CV] END ........................C=1, gamma=0.01, kernel=rbf; total time=   0.0s\n",
      "[CV] END ........................C=1, gamma=0.01, kernel=rbf; total time=   0.0s\n",
      "[CV] END ........................C=1, gamma=0.01, kernel=rbf; total time=   0.0s\n",
      "[CV] END ........................C=1, gamma=0.01, kernel=rbf; total time=   0.0s\n",
      "[CV] END ........................C=1, gamma=0.01, kernel=rbf; total time=   0.0s\n",
      "[CV] END .......................C=1, gamma=0.01, kernel=poly; total time=   0.0s\n",
      "[CV] END .......................C=1, gamma=0.01, kernel=poly; total time=   0.0s\n",
      "[CV] END .......................C=1, gamma=0.01, kernel=poly; total time=   0.0s\n",
      "[CV] END .......................C=1, gamma=0.01, kernel=poly; total time=   0.0s\n",
      "[CV] END .......................C=1, gamma=0.01, kernel=poly; total time=   0.0s\n",
      "[CV] END ....................C=1, gamma=0.01, kernel=sigmoid; total time=   0.0s\n",
      "[CV] END ....................C=1, gamma=0.01, kernel=sigmoid; total time=   0.0s\n",
      "[CV] END ....................C=1, gamma=0.01, kernel=sigmoid; total time=   0.0s\n",
      "[CV] END ....................C=1, gamma=0.01, kernel=sigmoid; total time=   0.0s\n",
      "[CV] END ....................C=1, gamma=0.01, kernel=sigmoid; total time=   0.0s\n",
      "[CV] END .......................C=1, gamma=0.001, kernel=rbf; total time=   0.0s\n",
      "[CV] END .......................C=1, gamma=0.001, kernel=rbf; total time=   0.0s\n",
      "[CV] END .......................C=1, gamma=0.001, kernel=rbf; total time=   0.0s\n",
      "[CV] END .......................C=1, gamma=0.001, kernel=rbf; total time=   0.0s\n",
      "[CV] END .......................C=1, gamma=0.001, kernel=rbf; total time=   0.0s\n",
      "[CV] END ......................C=1, gamma=0.001, kernel=poly; total time=   0.0s\n",
      "[CV] END ......................C=1, gamma=0.001, kernel=poly; total time=   0.0s\n",
      "[CV] END ......................C=1, gamma=0.001, kernel=poly; total time=   0.0s\n",
      "[CV] END ......................C=1, gamma=0.001, kernel=poly; total time=   0.0s\n",
      "[CV] END ......................C=1, gamma=0.001, kernel=poly; total time=   0.0s\n",
      "[CV] END ...................C=1, gamma=0.001, kernel=sigmoid; total time=   0.0s\n",
      "[CV] END ...................C=1, gamma=0.001, kernel=sigmoid; total time=   0.0s\n",
      "[CV] END ...................C=1, gamma=0.001, kernel=sigmoid; total time=   0.0s\n",
      "[CV] END ...................C=1, gamma=0.001, kernel=sigmoid; total time=   0.0s\n",
      "[CV] END ...................C=1, gamma=0.001, kernel=sigmoid; total time=   0.0s\n",
      "[CV] END ..........................C=10, gamma=1, kernel=rbf; total time=   0.0s\n",
      "[CV] END ..........................C=10, gamma=1, kernel=rbf; total time=   0.0s\n",
      "[CV] END ..........................C=10, gamma=1, kernel=rbf; total time=   0.0s\n",
      "[CV] END ..........................C=10, gamma=1, kernel=rbf; total time=   0.0s\n",
      "[CV] END ..........................C=10, gamma=1, kernel=rbf; total time=   0.0s\n",
      "[CV] END .........................C=10, gamma=1, kernel=poly; total time=   0.0s\n",
      "[CV] END .........................C=10, gamma=1, kernel=poly; total time=   0.0s\n",
      "[CV] END .........................C=10, gamma=1, kernel=poly; total time=   0.0s\n",
      "[CV] END .........................C=10, gamma=1, kernel=poly; total time=   0.0s\n",
      "[CV] END .........................C=10, gamma=1, kernel=poly; total time=   0.0s\n",
      "[CV] END ......................C=10, gamma=1, kernel=sigmoid; total time=   0.0s\n",
      "[CV] END ......................C=10, gamma=1, kernel=sigmoid; total time=   0.0s\n",
      "[CV] END ......................C=10, gamma=1, kernel=sigmoid; total time=   0.0s\n",
      "[CV] END ......................C=10, gamma=1, kernel=sigmoid; total time=   0.0s\n",
      "[CV] END ......................C=10, gamma=1, kernel=sigmoid; total time=   0.0s\n",
      "[CV] END ........................C=10, gamma=0.1, kernel=rbf; total time=   0.0s\n",
      "[CV] END ........................C=10, gamma=0.1, kernel=rbf; total time=   0.0s\n",
      "[CV] END ........................C=10, gamma=0.1, kernel=rbf; total time=   0.0s\n",
      "[CV] END ........................C=10, gamma=0.1, kernel=rbf; total time=   0.0s\n",
      "[CV] END ........................C=10, gamma=0.1, kernel=rbf; total time=   0.0s\n",
      "[CV] END .......................C=10, gamma=0.1, kernel=poly; total time=   0.0s\n",
      "[CV] END .......................C=10, gamma=0.1, kernel=poly; total time=   0.0s\n",
      "[CV] END .......................C=10, gamma=0.1, kernel=poly; total time=   0.0s\n",
      "[CV] END .......................C=10, gamma=0.1, kernel=poly; total time=   0.0s\n",
      "[CV] END .......................C=10, gamma=0.1, kernel=poly; total time=   0.0s\n",
      "[CV] END ....................C=10, gamma=0.1, kernel=sigmoid; total time=   0.0s\n",
      "[CV] END ....................C=10, gamma=0.1, kernel=sigmoid; total time=   0.0s\n",
      "[CV] END ....................C=10, gamma=0.1, kernel=sigmoid; total time=   0.0s\n",
      "[CV] END ....................C=10, gamma=0.1, kernel=sigmoid; total time=   0.0s\n",
      "[CV] END ....................C=10, gamma=0.1, kernel=sigmoid; total time=   0.0s\n",
      "[CV] END .......................C=10, gamma=0.01, kernel=rbf; total time=   0.0s\n",
      "[CV] END .......................C=10, gamma=0.01, kernel=rbf; total time=   0.0s\n",
      "[CV] END .......................C=10, gamma=0.01, kernel=rbf; total time=   0.0s\n",
      "[CV] END .......................C=10, gamma=0.01, kernel=rbf; total time=   0.0s\n",
      "[CV] END .......................C=10, gamma=0.01, kernel=rbf; total time=   0.0s\n",
      "[CV] END ......................C=10, gamma=0.01, kernel=poly; total time=   0.0s\n",
      "[CV] END ......................C=10, gamma=0.01, kernel=poly; total time=   0.0s\n",
      "[CV] END ......................C=10, gamma=0.01, kernel=poly; total time=   0.0s\n",
      "[CV] END ......................C=10, gamma=0.01, kernel=poly; total time=   0.0s\n",
      "[CV] END ......................C=10, gamma=0.01, kernel=poly; total time=   0.0s\n",
      "[CV] END ...................C=10, gamma=0.01, kernel=sigmoid; total time=   0.0s\n",
      "[CV] END ...................C=10, gamma=0.01, kernel=sigmoid; total time=   0.0s\n",
      "[CV] END ...................C=10, gamma=0.01, kernel=sigmoid; total time=   0.0s\n",
      "[CV] END ...................C=10, gamma=0.01, kernel=sigmoid; total time=   0.0s\n",
      "[CV] END ...................C=10, gamma=0.01, kernel=sigmoid; total time=   0.0s\n",
      "[CV] END ......................C=10, gamma=0.001, kernel=rbf; total time=   0.0s\n",
      "[CV] END ......................C=10, gamma=0.001, kernel=rbf; total time=   0.0s\n",
      "[CV] END ......................C=10, gamma=0.001, kernel=rbf; total time=   0.0s\n",
      "[CV] END ......................C=10, gamma=0.001, kernel=rbf; total time=   0.0s\n",
      "[CV] END ......................C=10, gamma=0.001, kernel=rbf; total time=   0.0s\n",
      "[CV] END .....................C=10, gamma=0.001, kernel=poly; total time=   0.0s\n",
      "[CV] END .....................C=10, gamma=0.001, kernel=poly; total time=   0.0s\n",
      "[CV] END .....................C=10, gamma=0.001, kernel=poly; total time=   0.0s\n",
      "[CV] END .....................C=10, gamma=0.001, kernel=poly; total time=   0.0s\n",
      "[CV] END .....................C=10, gamma=0.001, kernel=poly; total time=   0.0s\n",
      "[CV] END ..................C=10, gamma=0.001, kernel=sigmoid; total time=   0.0s\n",
      "[CV] END ..................C=10, gamma=0.001, kernel=sigmoid; total time=   0.0s\n",
      "[CV] END ..................C=10, gamma=0.001, kernel=sigmoid; total time=   0.0s\n",
      "[CV] END ..................C=10, gamma=0.001, kernel=sigmoid; total time=   0.0s\n",
      "[CV] END ..................C=10, gamma=0.001, kernel=sigmoid; total time=   0.0s\n",
      "[CV] END .........................C=100, gamma=1, kernel=rbf; total time=   0.0s\n",
      "[CV] END .........................C=100, gamma=1, kernel=rbf; total time=   0.0s\n",
      "[CV] END .........................C=100, gamma=1, kernel=rbf; total time=   0.0s\n",
      "[CV] END .........................C=100, gamma=1, kernel=rbf; total time=   0.0s\n",
      "[CV] END .........................C=100, gamma=1, kernel=rbf; total time=   0.0s\n",
      "[CV] END ........................C=100, gamma=1, kernel=poly; total time=   0.0s\n",
      "[CV] END ........................C=100, gamma=1, kernel=poly; total time=   0.0s\n",
      "[CV] END ........................C=100, gamma=1, kernel=poly; total time=   0.0s\n",
      "[CV] END ........................C=100, gamma=1, kernel=poly; total time=   0.0s\n",
      "[CV] END ........................C=100, gamma=1, kernel=poly; total time=   0.0s\n",
      "[CV] END .....................C=100, gamma=1, kernel=sigmoid; total time=   0.0s\n",
      "[CV] END .....................C=100, gamma=1, kernel=sigmoid; total time=   0.0s\n",
      "[CV] END .....................C=100, gamma=1, kernel=sigmoid; total time=   0.0s\n",
      "[CV] END .....................C=100, gamma=1, kernel=sigmoid; total time=   0.0s\n",
      "[CV] END .....................C=100, gamma=1, kernel=sigmoid; total time=   0.0s\n",
      "[CV] END .......................C=100, gamma=0.1, kernel=rbf; total time=   0.0s\n",
      "[CV] END .......................C=100, gamma=0.1, kernel=rbf; total time=   0.0s\n",
      "[CV] END .......................C=100, gamma=0.1, kernel=rbf; total time=   0.0s\n",
      "[CV] END .......................C=100, gamma=0.1, kernel=rbf; total time=   0.0s\n",
      "[CV] END .......................C=100, gamma=0.1, kernel=rbf; total time=   0.0s\n",
      "[CV] END ......................C=100, gamma=0.1, kernel=poly; total time=   0.0s\n",
      "[CV] END ......................C=100, gamma=0.1, kernel=poly; total time=   0.0s\n",
      "[CV] END ......................C=100, gamma=0.1, kernel=poly; total time=   0.0s\n",
      "[CV] END ......................C=100, gamma=0.1, kernel=poly; total time=   0.0s\n",
      "[CV] END ......................C=100, gamma=0.1, kernel=poly; total time=   0.0s\n",
      "[CV] END ...................C=100, gamma=0.1, kernel=sigmoid; total time=   0.0s\n",
      "[CV] END ...................C=100, gamma=0.1, kernel=sigmoid; total time=   0.0s\n",
      "[CV] END ...................C=100, gamma=0.1, kernel=sigmoid; total time=   0.0s\n",
      "[CV] END ...................C=100, gamma=0.1, kernel=sigmoid; total time=   0.0s\n",
      "[CV] END ...................C=100, gamma=0.1, kernel=sigmoid; total time=   0.0s\n",
      "[CV] END ......................C=100, gamma=0.01, kernel=rbf; total time=   0.0s\n",
      "[CV] END ......................C=100, gamma=0.01, kernel=rbf; total time=   0.0s\n",
      "[CV] END ......................C=100, gamma=0.01, kernel=rbf; total time=   0.0s\n",
      "[CV] END ......................C=100, gamma=0.01, kernel=rbf; total time=   0.0s\n",
      "[CV] END ......................C=100, gamma=0.01, kernel=rbf; total time=   0.0s\n",
      "[CV] END .....................C=100, gamma=0.01, kernel=poly; total time=   0.0s\n",
      "[CV] END .....................C=100, gamma=0.01, kernel=poly; total time=   0.0s\n",
      "[CV] END .....................C=100, gamma=0.01, kernel=poly; total time=   0.0s\n",
      "[CV] END .....................C=100, gamma=0.01, kernel=poly; total time=   0.0s\n",
      "[CV] END .....................C=100, gamma=0.01, kernel=poly; total time=   0.0s\n",
      "[CV] END ..................C=100, gamma=0.01, kernel=sigmoid; total time=   0.0s\n",
      "[CV] END ..................C=100, gamma=0.01, kernel=sigmoid; total time=   0.0s\n",
      "[CV] END ..................C=100, gamma=0.01, kernel=sigmoid; total time=   0.0s\n",
      "[CV] END ..................C=100, gamma=0.01, kernel=sigmoid; total time=   0.0s\n",
      "[CV] END ..................C=100, gamma=0.01, kernel=sigmoid; total time=   0.0s\n",
      "[CV] END .....................C=100, gamma=0.001, kernel=rbf; total time=   0.0s\n",
      "[CV] END .....................C=100, gamma=0.001, kernel=rbf; total time=   0.0s\n",
      "[CV] END .....................C=100, gamma=0.001, kernel=rbf; total time=   0.0s\n",
      "[CV] END .....................C=100, gamma=0.001, kernel=rbf; total time=   0.0s\n",
      "[CV] END .....................C=100, gamma=0.001, kernel=rbf; total time=   0.0s\n",
      "[CV] END ....................C=100, gamma=0.001, kernel=poly; total time=   0.0s\n",
      "[CV] END ....................C=100, gamma=0.001, kernel=poly; total time=   0.0s\n",
      "[CV] END ....................C=100, gamma=0.001, kernel=poly; total time=   0.0s\n",
      "[CV] END ....................C=100, gamma=0.001, kernel=poly; total time=   0.0s\n",
      "[CV] END ....................C=100, gamma=0.001, kernel=poly; total time=   0.0s\n",
      "[CV] END .................C=100, gamma=0.001, kernel=sigmoid; total time=   0.0s\n",
      "[CV] END .................C=100, gamma=0.001, kernel=sigmoid; total time=   0.0s\n",
      "[CV] END .................C=100, gamma=0.001, kernel=sigmoid; total time=   0.0s\n",
      "[CV] END .................C=100, gamma=0.001, kernel=sigmoid; total time=   0.0s\n",
      "[CV] END .................C=100, gamma=0.001, kernel=sigmoid; total time=   0.0s\n",
      "SVC(C=100, gamma=0.1)\n"
     ]
    }
   ],
   "source": [
    "from sklearn.model_selection import GridSearchCV\n",
    "param_grid = {'C': [0.1,1, 10, 100], 'gamma': [1,0.1,0.01,0.001],'kernel': ['rbf', 'poly', 'sigmoid']}\n",
    "grid = GridSearchCV(SVC(),param_grid,refit=True,verbose=2)\n",
    "grid.fit(data1.trainset, data1.train_ground_truth)\n",
    "print(grid.best_estimator_)"
   ]
  },
  {
   "cell_type": "code",
   "execution_count": null,
   "metadata": {},
   "outputs": [],
   "source": [
    "svc_model = SVC(C=100, gamma=0.1)\n",
    "svc_model.fit(data1.trainset, data1.train_ground_truth)"
   ]
  },
  {
   "cell_type": "code",
   "execution_count": 36,
   "metadata": {},
   "outputs": [
    {
     "name": "stdout",
     "output_type": "stream",
     "text": [
      "[0. 1. 1. 0. 1. 1. 1. 0. 0. 0. 0. 1. 0. 1. 1. 0. 0. 0. 1. 0. 0. 0. 0. 0.\n",
      " 1. 1.]\n",
      "[0. 1. 1. 1. 1. 1. 0. 1. 1. 0. 0. 1. 1. 1. 0. 1. 0. 1. 0. 0. 0. 0. 0. 1.\n",
      " 1. 1.]\n"
     ]
    }
   ],
   "source": [
    "predictions = svc_model.predict(data1.testset)\n",
    "print(predictions)\n",
    "print(data1.test_ground_truth)"
   ]
  },
  {
   "cell_type": "code",
   "execution_count": 37,
   "metadata": {},
   "outputs": [
    {
     "name": "stdout",
     "output_type": "stream",
     "text": [
      "0.6153846153846154\n",
      "              precision    recall  f1-score   support\n",
      "\n",
      "         0.0       0.53      0.73      0.62        11\n",
      "         1.0       0.73      0.53      0.62        15\n",
      "\n",
      "    accuracy                           0.62        26\n",
      "   macro avg       0.63      0.63      0.62        26\n",
      "weighted avg       0.65      0.62      0.62        26\n",
      "\n"
     ]
    }
   ],
   "source": [
    "print(accuracy_score(data1.test_ground_truth, predictions))\n",
    "print(classification_report(data1.test_ground_truth, predictions))"
   ]
  },
  {
   "cell_type": "code",
   "execution_count": 20,
   "metadata": {},
   "outputs": [
    {
     "data": {
      "text/html": [
       "<style>#sk-container-id-7 {color: black;background-color: white;}#sk-container-id-7 pre{padding: 0;}#sk-container-id-7 div.sk-toggleable {background-color: white;}#sk-container-id-7 label.sk-toggleable__label {cursor: pointer;display: block;width: 100%;margin-bottom: 0;padding: 0.3em;box-sizing: border-box;text-align: center;}#sk-container-id-7 label.sk-toggleable__label-arrow:before {content: \"▸\";float: left;margin-right: 0.25em;color: #696969;}#sk-container-id-7 label.sk-toggleable__label-arrow:hover:before {color: black;}#sk-container-id-7 div.sk-estimator:hover label.sk-toggleable__label-arrow:before {color: black;}#sk-container-id-7 div.sk-toggleable__content {max-height: 0;max-width: 0;overflow: hidden;text-align: left;background-color: #f0f8ff;}#sk-container-id-7 div.sk-toggleable__content pre {margin: 0.2em;color: black;border-radius: 0.25em;background-color: #f0f8ff;}#sk-container-id-7 input.sk-toggleable__control:checked~div.sk-toggleable__content {max-height: 200px;max-width: 100%;overflow: auto;}#sk-container-id-7 input.sk-toggleable__control:checked~label.sk-toggleable__label-arrow:before {content: \"▾\";}#sk-container-id-7 div.sk-estimator input.sk-toggleable__control:checked~label.sk-toggleable__label {background-color: #d4ebff;}#sk-container-id-7 div.sk-label input.sk-toggleable__control:checked~label.sk-toggleable__label {background-color: #d4ebff;}#sk-container-id-7 input.sk-hidden--visually {border: 0;clip: rect(1px 1px 1px 1px);clip: rect(1px, 1px, 1px, 1px);height: 1px;margin: -1px;overflow: hidden;padding: 0;position: absolute;width: 1px;}#sk-container-id-7 div.sk-estimator {font-family: monospace;background-color: #f0f8ff;border: 1px dotted black;border-radius: 0.25em;box-sizing: border-box;margin-bottom: 0.5em;}#sk-container-id-7 div.sk-estimator:hover {background-color: #d4ebff;}#sk-container-id-7 div.sk-parallel-item::after {content: \"\";width: 100%;border-bottom: 1px solid gray;flex-grow: 1;}#sk-container-id-7 div.sk-label:hover label.sk-toggleable__label {background-color: #d4ebff;}#sk-container-id-7 div.sk-serial::before {content: \"\";position: absolute;border-left: 1px solid gray;box-sizing: border-box;top: 0;bottom: 0;left: 50%;z-index: 0;}#sk-container-id-7 div.sk-serial {display: flex;flex-direction: column;align-items: center;background-color: white;padding-right: 0.2em;padding-left: 0.2em;position: relative;}#sk-container-id-7 div.sk-item {position: relative;z-index: 1;}#sk-container-id-7 div.sk-parallel {display: flex;align-items: stretch;justify-content: center;background-color: white;position: relative;}#sk-container-id-7 div.sk-item::before, #sk-container-id-7 div.sk-parallel-item::before {content: \"\";position: absolute;border-left: 1px solid gray;box-sizing: border-box;top: 0;bottom: 0;left: 50%;z-index: -1;}#sk-container-id-7 div.sk-parallel-item {display: flex;flex-direction: column;z-index: 1;position: relative;background-color: white;}#sk-container-id-7 div.sk-parallel-item:first-child::after {align-self: flex-end;width: 50%;}#sk-container-id-7 div.sk-parallel-item:last-child::after {align-self: flex-start;width: 50%;}#sk-container-id-7 div.sk-parallel-item:only-child::after {width: 0;}#sk-container-id-7 div.sk-dashed-wrapped {border: 1px dashed gray;margin: 0 0.4em 0.5em 0.4em;box-sizing: border-box;padding-bottom: 0.4em;background-color: white;}#sk-container-id-7 div.sk-label label {font-family: monospace;font-weight: bold;display: inline-block;line-height: 1.2em;}#sk-container-id-7 div.sk-label-container {text-align: center;}#sk-container-id-7 div.sk-container {/* jupyter's `normalize.less` sets `[hidden] { display: none; }` but bootstrap.min.css set `[hidden] { display: none !important; }` so we also need the `!important` here to be able to override the default hidden behavior on the sphinx rendered scikit-learn.org. See: https://github.com/scikit-learn/scikit-learn/issues/21755 */display: inline-block !important;position: relative;}#sk-container-id-7 div.sk-text-repr-fallback {display: none;}</style><div id=\"sk-container-id-7\" class=\"sk-top-container\"><div class=\"sk-text-repr-fallback\"><pre>Pipeline(steps=[(&#x27;standardscaler&#x27;, StandardScaler()),\n",
       "                (&#x27;svc&#x27;, SVC(gamma=&#x27;auto&#x27;))])</pre><b>In a Jupyter environment, please rerun this cell to show the HTML representation or trust the notebook. <br />On GitHub, the HTML representation is unable to render, please try loading this page with nbviewer.org.</b></div><div class=\"sk-container\" hidden><div class=\"sk-item sk-dashed-wrapped\"><div class=\"sk-label-container\"><div class=\"sk-label sk-toggleable\"><input class=\"sk-toggleable__control sk-hidden--visually\" id=\"sk-estimator-id-15\" type=\"checkbox\" ><label for=\"sk-estimator-id-15\" class=\"sk-toggleable__label sk-toggleable__label-arrow\">Pipeline</label><div class=\"sk-toggleable__content\"><pre>Pipeline(steps=[(&#x27;standardscaler&#x27;, StandardScaler()),\n",
       "                (&#x27;svc&#x27;, SVC(gamma=&#x27;auto&#x27;))])</pre></div></div></div><div class=\"sk-serial\"><div class=\"sk-item\"><div class=\"sk-estimator sk-toggleable\"><input class=\"sk-toggleable__control sk-hidden--visually\" id=\"sk-estimator-id-16\" type=\"checkbox\" ><label for=\"sk-estimator-id-16\" class=\"sk-toggleable__label sk-toggleable__label-arrow\">StandardScaler</label><div class=\"sk-toggleable__content\"><pre>StandardScaler()</pre></div></div></div><div class=\"sk-item\"><div class=\"sk-estimator sk-toggleable\"><input class=\"sk-toggleable__control sk-hidden--visually\" id=\"sk-estimator-id-17\" type=\"checkbox\" ><label for=\"sk-estimator-id-17\" class=\"sk-toggleable__label sk-toggleable__label-arrow\">SVC</label><div class=\"sk-toggleable__content\"><pre>SVC(gamma=&#x27;auto&#x27;)</pre></div></div></div></div></div></div></div>"
      ],
      "text/plain": [
       "Pipeline(steps=[('standardscaler', StandardScaler()),\n",
       "                ('svc', SVC(gamma='auto'))])"
      ]
     },
     "execution_count": 20,
     "metadata": {},
     "output_type": "execute_result"
    }
   ],
   "source": [
    "from sklearn.pipeline import make_pipeline\n",
    "from sklearn.preprocessing import StandardScaler\n",
    "clf = make_pipeline(StandardScaler(), SVC(gamma='auto'))\n",
    "clf.fit(data1.trainset, data1.train_ground_truth)"
   ]
  },
  {
   "cell_type": "code",
   "execution_count": 21,
   "metadata": {},
   "outputs": [
    {
     "name": "stdout",
     "output_type": "stream",
     "text": [
      "[0. 1. 1. 0. 1. 0. 0. 0. 0. 0. 0. 0. 0. 0. 1. 0. 0. 0. 1. 0. 0. 0. 0. 1.\n",
      " 1. 1.]\n",
      "[0. 1. 1. 1. 1. 1. 0. 1. 1. 0. 0. 1. 1. 1. 0. 1. 0. 1. 0. 0. 0. 0. 0. 1.\n",
      " 1. 1.]\n"
     ]
    }
   ],
   "source": [
    "predictions = clf.predict(data1.testset)\n",
    "print(predictions)\n",
    "print(data1.test_ground_truth)"
   ]
  },
  {
   "cell_type": "code",
   "execution_count": 22,
   "metadata": {},
   "outputs": [
    {
     "name": "stdout",
     "output_type": "stream",
     "text": [
      "0.5769230769230769\n",
      "              precision    recall  f1-score   support\n",
      "\n",
      "         0.0       0.50      0.82      0.62        11\n",
      "         1.0       0.75      0.40      0.52        15\n",
      "\n",
      "    accuracy                           0.58        26\n",
      "   macro avg       0.62      0.61      0.57        26\n",
      "weighted avg       0.64      0.58      0.56        26\n",
      "\n"
     ]
    }
   ],
   "source": [
    "print(accuracy_score(data1.test_ground_truth, predictions))\n",
    "print(classification_report(data1.test_ground_truth, predictions))"
   ]
  },
  {
   "attachments": {},
   "cell_type": "markdown",
   "metadata": {},
   "source": [
    "## Read data - (2. dataset TAPPY)"
   ]
  },
  {
   "cell_type": "code",
   "execution_count": 2,
   "metadata": {},
   "outputs": [
    {
     "data": {
      "text/html": [
       "<div>\n",
       "<style scoped>\n",
       "    .dataframe tbody tr th:only-of-type {\n",
       "        vertical-align: middle;\n",
       "    }\n",
       "\n",
       "    .dataframe tbody tr th {\n",
       "        vertical-align: top;\n",
       "    }\n",
       "\n",
       "    .dataframe thead th {\n",
       "        text-align: right;\n",
       "    }\n",
       "</style>\n",
       "<table border=\"1\" class=\"dataframe\">\n",
       "  <thead>\n",
       "    <tr style=\"text-align: right;\">\n",
       "      <th></th>\n",
       "      <th>pID</th>\n",
       "      <th>files</th>\n",
       "      <th>Parkinsons</th>\n",
       "    </tr>\n",
       "  </thead>\n",
       "  <tbody>\n",
       "    <tr>\n",
       "      <th>0</th>\n",
       "      <td>0EA27ICBLF</td>\n",
       "      <td>[0EA27ICBLF_1607.txt, 0EA27ICBLF_1608.txt]</td>\n",
       "      <td>True</td>\n",
       "    </tr>\n",
       "    <tr>\n",
       "      <th>1</th>\n",
       "      <td>0QAZFRHQHW</td>\n",
       "      <td>[0QAZFRHQHW_1609.txt, 0QAZFRHQHW_1610.txt]</td>\n",
       "      <td>False</td>\n",
       "    </tr>\n",
       "    <tr>\n",
       "      <th>3</th>\n",
       "      <td>1HOEBIGASW</td>\n",
       "      <td>[1HOEBIGASW_1702.txt]</td>\n",
       "      <td>False</td>\n",
       "    </tr>\n",
       "    <tr>\n",
       "      <th>5</th>\n",
       "      <td>1XNJCXS3EY</td>\n",
       "      <td>[1XNJCXS3EY_1608.txt]</td>\n",
       "      <td>False</td>\n",
       "    </tr>\n",
       "    <tr>\n",
       "      <th>6</th>\n",
       "      <td>2JTCBKUP8T</td>\n",
       "      <td>[2JTCBKUP8T_1702.txt, 2JTCBKUP8T_1703.txt]</td>\n",
       "      <td>True</td>\n",
       "    </tr>\n",
       "    <tr>\n",
       "      <th>...</th>\n",
       "      <td>...</td>\n",
       "      <td>...</td>\n",
       "      <td>...</td>\n",
       "    </tr>\n",
       "    <tr>\n",
       "      <th>222</th>\n",
       "      <td>ZT9ASWFCFS</td>\n",
       "      <td>[ZT9ASWFCFS_1606.txt]</td>\n",
       "      <td>True</td>\n",
       "    </tr>\n",
       "    <tr>\n",
       "      <th>223</th>\n",
       "      <td>ZWBPPNQCUX</td>\n",
       "      <td>[ZWBPPNQCUX_1608.txt, ZWBPPNQCUX_1612.txt]</td>\n",
       "      <td>True</td>\n",
       "    </tr>\n",
       "    <tr>\n",
       "      <th>224</th>\n",
       "      <td>ZWHGXDUDLG</td>\n",
       "      <td>[ZWHGXDUDLG_1703.txt]</td>\n",
       "      <td>True</td>\n",
       "    </tr>\n",
       "    <tr>\n",
       "      <th>225</th>\n",
       "      <td>ZY9CCHSPF2</td>\n",
       "      <td>[ZY9CCHSPF2_1607.txt, ZY9CCHSPF2_1608.txt, ZY9...</td>\n",
       "      <td>True</td>\n",
       "    </tr>\n",
       "    <tr>\n",
       "      <th>226</th>\n",
       "      <td>ZYWLN4JVLA</td>\n",
       "      <td>[ZYWLN4JVLA_1701.txt]</td>\n",
       "      <td>True</td>\n",
       "    </tr>\n",
       "  </tbody>\n",
       "</table>\n",
       "<p>217 rows × 3 columns</p>\n",
       "</div>"
      ],
      "text/plain": [
       "            pID                                              files Parkinsons\n",
       "0    0EA27ICBLF         [0EA27ICBLF_1607.txt, 0EA27ICBLF_1608.txt]       True\n",
       "1    0QAZFRHQHW         [0QAZFRHQHW_1609.txt, 0QAZFRHQHW_1610.txt]      False\n",
       "3    1HOEBIGASW                              [1HOEBIGASW_1702.txt]      False\n",
       "5    1XNJCXS3EY                              [1XNJCXS3EY_1608.txt]      False\n",
       "6    2JTCBKUP8T         [2JTCBKUP8T_1702.txt, 2JTCBKUP8T_1703.txt]       True\n",
       "..          ...                                                ...        ...\n",
       "222  ZT9ASWFCFS                              [ZT9ASWFCFS_1606.txt]       True\n",
       "223  ZWBPPNQCUX         [ZWBPPNQCUX_1608.txt, ZWBPPNQCUX_1612.txt]       True\n",
       "224  ZWHGXDUDLG                              [ZWHGXDUDLG_1703.txt]       True\n",
       "225  ZY9CCHSPF2  [ZY9CCHSPF2_1607.txt, ZY9CCHSPF2_1608.txt, ZY9...       True\n",
       "226  ZYWLN4JVLA                              [ZYWLN4JVLA_1701.txt]       True\n",
       "\n",
       "[217 rows x 3 columns]"
      ]
     },
     "execution_count": 2,
     "metadata": {},
     "output_type": "execute_result"
    }
   ],
   "source": [
    "directory_path1 = 'D:/studia_mgrEIM/master_diploma/data/tappy-keystroke-data-1.0.0/Archived_users/'\n",
    "files_list1 = os.listdir(directory_path1)\n",
    "\n",
    "users = [el.split(\"_\")[1].split(\".\")[0] for el in files_list1]\n",
    "df_ID2 = pd.DataFrame(data=users, columns=['pID'])\n",
    "\n",
    "directory_path2 = 'D:/studia_mgrEIM/master_diploma/data/tappy-keystroke-data-1.0.0/Tappy_Data/'\n",
    "files_list2 = os.listdir(directory_path2)\n",
    "\n",
    "for i, el in enumerate(df_ID2['pID']):\n",
    "    temp = [x for x in files_list2 if x.startswith(el)]\n",
    "    if len(temp):\n",
    "        df_ID2.loc[[i], 'files'] = pd.Series([temp], index=df_ID2.index[[i]])\n",
    "        with open(directory_path1 + files_list1[i], 'r') as f:\n",
    "            for line in f:\n",
    "                if 'Parkinsons' in line:       \n",
    "                    read_info = line.strip().split(\": \")\n",
    "                    df_ID2.loc[[i], 'Parkinsons'] = read_info[1]\n",
    "                                      \n",
    "df_ID2.dropna(inplace=True)\n",
    "df_ID2"
   ]
  },
  {
   "cell_type": "code",
   "execution_count": 74,
   "metadata": {},
   "outputs": [
    {
     "data": {
      "text/plain": [
       "Text(0.5, 0, 'Parkinson disease')"
      ]
     },
     "execution_count": 74,
     "metadata": {},
     "output_type": "execute_result"
    },
    {
     "data": {
      "image/png": "[encoded data removed]",
      "text/plain": [
       "<Figure size 400x300 with 1 Axes>"
      ]
     },
     "metadata": {},
     "output_type": "display_data"
    }
   ],
   "source": [
    "plt.figure(figsize=[4,3])\n",
    "sns.countplot(x = 'Parkinsons', data = df_ID2)\n",
    "plt.xlabel('Parkinson disease')"
   ]
  },
  {
   "cell_type": "code",
   "execution_count": 99,
   "metadata": {},
   "outputs": [
    {
     "data": {
      "text/plain": [
       "'3DIXPRIOSW_1701.txt'"
      ]
     },
     "execution_count": 99,
     "metadata": {},
     "output_type": "execute_result"
    }
   ],
   "source": [
    "df_ID2.loc[[10], 'files'].values[0][0]\n",
    "# ['3DIXPRIOSW_1701.txt', '3DIXPRIOSW_1702.txt']\n",
    "# df_ID2['files'].iloc[10]"
   ]
  },
  {
   "cell_type": "code",
   "execution_count": 9,
   "metadata": {},
   "outputs": [
    {
     "name": "stdout",
     "output_type": "stream",
     "text": [
      "(199, 7)\n"
     ]
    },
    {
     "data": {
      "text/html": [
       "<div>\n",
       "<style scoped>\n",
       "    .dataframe tbody tr th:only-of-type {\n",
       "        vertical-align: middle;\n",
       "    }\n",
       "\n",
       "    .dataframe tbody tr th {\n",
       "        vertical-align: top;\n",
       "    }\n",
       "\n",
       "    .dataframe thead th {\n",
       "        text-align: right;\n",
       "    }\n",
       "</style>\n",
       "<table border=\"1\" class=\"dataframe\">\n",
       "  <thead>\n",
       "    <tr style=\"text-align: right;\">\n",
       "      <th></th>\n",
       "      <th>Date</th>\n",
       "      <th>Timestamp</th>\n",
       "      <th>Hand</th>\n",
       "      <th>holdTime</th>\n",
       "      <th>Direction</th>\n",
       "      <th>flightTime</th>\n",
       "      <th>latencyTime</th>\n",
       "    </tr>\n",
       "  </thead>\n",
       "  <tbody>\n",
       "    <tr>\n",
       "      <th>0</th>\n",
       "      <td>170128</td>\n",
       "      <td>08:07:17.113</td>\n",
       "      <td>L</td>\n",
       "      <td>89.8</td>\n",
       "      <td>RL</td>\n",
       "      <td>310.5</td>\n",
       "      <td>169.9</td>\n",
       "    </tr>\n",
       "    <tr>\n",
       "      <th>1</th>\n",
       "      <td>170128</td>\n",
       "      <td>08:07:17.855</td>\n",
       "      <td>L</td>\n",
       "      <td>199.2</td>\n",
       "      <td>LL</td>\n",
       "      <td>632.8</td>\n",
       "      <td>543.0</td>\n",
       "    </tr>\n",
       "    <tr>\n",
       "      <th>2</th>\n",
       "      <td>170128</td>\n",
       "      <td>08:07:19.271</td>\n",
       "      <td>R</td>\n",
       "      <td>80.1</td>\n",
       "      <td>RR</td>\n",
       "      <td>451.2</td>\n",
       "      <td>291.0</td>\n",
       "    </tr>\n",
       "    <tr>\n",
       "      <th>3</th>\n",
       "      <td>170128</td>\n",
       "      <td>08:07:20.002</td>\n",
       "      <td>L</td>\n",
       "      <td>80.1</td>\n",
       "      <td>RL</td>\n",
       "      <td>730.5</td>\n",
       "      <td>650.4</td>\n",
       "    </tr>\n",
       "    <tr>\n",
       "      <th>4</th>\n",
       "      <td>170128</td>\n",
       "      <td>08:07:20.561</td>\n",
       "      <td>L</td>\n",
       "      <td>128.9</td>\n",
       "      <td>LL</td>\n",
       "      <td>509.8</td>\n",
       "      <td>429.7</td>\n",
       "    </tr>\n",
       "  </tbody>\n",
       "</table>\n",
       "</div>"
      ],
      "text/plain": [
       "     Date     Timestamp Hand  holdTime Direction  flightTime  latencyTime\n",
       "0  170128  08:07:17.113    L      89.8        RL       310.5        169.9\n",
       "1  170128  08:07:17.855    L     199.2        LL       632.8        543.0\n",
       "2  170128  08:07:19.271    R      80.1        RR       451.2        291.0\n",
       "3  170128  08:07:20.002    L      80.1        RL       730.5        650.4\n",
       "4  170128  08:07:20.561    L     128.9        LL       509.8        429.7"
      ]
     },
     "execution_count": 9,
     "metadata": {},
     "output_type": "execute_result"
    }
   ],
   "source": [
    "# data2 = pd.read_csv(directory_path2 + df_ID2['files'].iloc[10][0], delimiter=\"\\t\", index_col=False, header=None, names=[\n",
    "#                     'User', 'Date', 'Timestamp', 'Hand', 'holdTime', 'Direction', 'flightTime', 'latencyTime'])\n",
    "\n",
    "data2 = pd.read_csv(directory_path2 + df_ID2.loc[[10], 'files'].values[0][0], delimiter=\"\\t\", index_col=False, header=None, names=[\n",
    "                    'User', 'Date', 'Timestamp', 'Hand', 'holdTime', 'Direction', 'flightTime', 'latencyTime'])\n",
    "\n",
    "data2.drop(columns=['User'], inplace=True)\n",
    "data2.drop(columns=['Direction'], inplace=True)\n",
    "\n",
    "data2.iloc[:, -3:] = data2.iloc[:, -\n",
    "                                3:].apply(lambda x: x.lstrip('0') if type(x) == str else x)\n",
    "data2.iloc[:, -3:] = pd.to_numeric(data2.iloc[:, -3:].stack(), errors='coerce').unstack()\n",
    "data2.iloc[:, -3:] = data2.iloc[:, -3:].apply(lambda x: x/1000)\n",
    "\n",
    "print(data2.shape)\n",
    "data2.tail()"
   ]
  },
  {
   "cell_type": "code",
   "execution_count": 101,
   "metadata": {},
   "outputs": [
    {
     "data": {
      "text/html": [
       "<div>\n",
       "<style scoped>\n",
       "    .dataframe tbody tr th:only-of-type {\n",
       "        vertical-align: middle;\n",
       "    }\n",
       "\n",
       "    .dataframe tbody tr th {\n",
       "        vertical-align: top;\n",
       "    }\n",
       "\n",
       "    .dataframe thead th {\n",
       "        text-align: right;\n",
       "    }\n",
       "</style>\n",
       "<table border=\"1\" class=\"dataframe\">\n",
       "  <thead>\n",
       "    <tr style=\"text-align: right;\">\n",
       "      <th></th>\n",
       "      <th>Timestamp</th>\n",
       "      <th>Hand</th>\n",
       "      <th>holdTime</th>\n",
       "      <th>flightTime</th>\n",
       "      <th>latencyTime</th>\n",
       "      <th>Length</th>\n",
       "    </tr>\n",
       "    <tr>\n",
       "      <th>Date</th>\n",
       "      <th></th>\n",
       "      <th></th>\n",
       "      <th></th>\n",
       "      <th></th>\n",
       "      <th></th>\n",
       "      <th></th>\n",
       "    </tr>\n",
       "  </thead>\n",
       "  <tbody>\n",
       "    <tr>\n",
       "      <th>170128</th>\n",
       "      <td>[08:07:17.113, 08:07:17.855, 08:07:19.271, 08:...</td>\n",
       "      <td>[L, L, R, L, L, R, L, L, L, R, L, R, R, L]</td>\n",
       "      <td>[0.08979999999999999, 0.1992, 0.08009999999999...</td>\n",
       "      <td>[0.3105, 0.6327999999999999, 0.4512, 0.7305, 0...</td>\n",
       "      <td>[0.1699, 0.543, 0.291, 0.6504, 0.4296999999999...</td>\n",
       "      <td>14</td>\n",
       "    </tr>\n",
       "    <tr>\n",
       "      <th>170129</th>\n",
       "      <td>[09:26:28.812, 09:26:33.258, 09:26:33.727, 09:...</td>\n",
       "      <td>[R, R, L, L, L, L, L, L, L, R, L, L, L, L, R, ...</td>\n",
       "      <td>[0.1719, 0.25, 0.2813, 0.1406, 0.1719, 0.08979...</td>\n",
       "      <td>[0.5938, 0.4844, 0.4375, 0.668, 0.4063, 0.4688...</td>\n",
       "      <td>[0.4219, 0.2031, 0.1875, 0.3867, 0.21880000000...</td>\n",
       "      <td>30</td>\n",
       "    </tr>\n",
       "    <tr>\n",
       "      <th>170130</th>\n",
       "      <td>[07:35:35.783, 07:35:38.014, 07:36:02.225, 07:...</td>\n",
       "      <td>[R, L, L, L, R, L, L, L, L, R, L, L, R, R, L, ...</td>\n",
       "      <td>[0.1875, 0.1406, 0.10940000000000001, 0.125, 0...</td>\n",
       "      <td>[0.5156000000000001, 0.7012, 0.703100000000000...</td>\n",
       "      <td>[0.1875, 0.5625, 0.5781000000000001, 0.6387, 0...</td>\n",
       "      <td>48</td>\n",
       "    </tr>\n",
       "    <tr>\n",
       "      <th>170131</th>\n",
       "      <td>[09:27:57.504, 09:28:04.770, 09:29:23.887, 09:...</td>\n",
       "      <td>[L, R, R, L, R, L, R, L, L, L, L, L, R, R, L, ...</td>\n",
       "      <td>[0.125, 0.18359999999999999, 0.1875, 0.1094000...</td>\n",
       "      <td>[0.5468999999999999, 0.4844, 0.5586, 0.3906, 0...</td>\n",
       "      <td>[0.3125, 0.3594, 0.4688, 0.3281, 0.2656, 0.578...</td>\n",
       "      <td>107</td>\n",
       "    </tr>\n",
       "  </tbody>\n",
       "</table>\n",
       "</div>"
      ],
      "text/plain": [
       "                                                Timestamp  \\\n",
       "Date                                                        \n",
       "170128  [08:07:17.113, 08:07:17.855, 08:07:19.271, 08:...   \n",
       "170129  [09:26:28.812, 09:26:33.258, 09:26:33.727, 09:...   \n",
       "170130  [07:35:35.783, 07:35:38.014, 07:36:02.225, 07:...   \n",
       "170131  [09:27:57.504, 09:28:04.770, 09:29:23.887, 09:...   \n",
       "\n",
       "                                                     Hand  \\\n",
       "Date                                                        \n",
       "170128         [L, L, R, L, L, R, L, L, L, R, L, R, R, L]   \n",
       "170129  [R, R, L, L, L, L, L, L, L, R, L, L, L, L, R, ...   \n",
       "170130  [R, L, L, L, R, L, L, L, L, R, L, L, R, R, L, ...   \n",
       "170131  [L, R, R, L, R, L, R, L, L, L, L, L, R, R, L, ...   \n",
       "\n",
       "                                                 holdTime  \\\n",
       "Date                                                        \n",
       "170128  [0.08979999999999999, 0.1992, 0.08009999999999...   \n",
       "170129  [0.1719, 0.25, 0.2813, 0.1406, 0.1719, 0.08979...   \n",
       "170130  [0.1875, 0.1406, 0.10940000000000001, 0.125, 0...   \n",
       "170131  [0.125, 0.18359999999999999, 0.1875, 0.1094000...   \n",
       "\n",
       "                                               flightTime  \\\n",
       "Date                                                        \n",
       "170128  [0.3105, 0.6327999999999999, 0.4512, 0.7305, 0...   \n",
       "170129  [0.5938, 0.4844, 0.4375, 0.668, 0.4063, 0.4688...   \n",
       "170130  [0.5156000000000001, 0.7012, 0.703100000000000...   \n",
       "170131  [0.5468999999999999, 0.4844, 0.5586, 0.3906, 0...   \n",
       "\n",
       "                                              latencyTime  Length  \n",
       "Date                                                               \n",
       "170128  [0.1699, 0.543, 0.291, 0.6504, 0.4296999999999...      14  \n",
       "170129  [0.4219, 0.2031, 0.1875, 0.3867, 0.21880000000...      30  \n",
       "170130  [0.1875, 0.5625, 0.5781000000000001, 0.6387, 0...      48  \n",
       "170131  [0.3125, 0.3594, 0.4688, 0.3281, 0.2656, 0.578...     107  "
      ]
     },
     "execution_count": 101,
     "metadata": {},
     "output_type": "execute_result"
    }
   ],
   "source": [
    "grouped_data = data2.groupby('Date').agg(list)\n",
    "grouped_data['Length'] = grouped_data['Timestamp'].apply(len) \n",
    "grouped_data"
   ]
  },
  {
   "cell_type": "code",
   "execution_count": 102,
   "metadata": {},
   "outputs": [
    {
     "name": "stdout",
     "output_type": "stream",
     "text": [
      "       Date     Timestamp Hand  holdTime  flightTime  latencyTime\n",
      "92   170131  09:27:57.504    L    0.1250      0.5469       0.3125\n",
      "93   170131  09:28:04.770    R    0.1836      0.4844       0.3594\n",
      "94   170131  09:29:23.887    R    0.1875      0.5586       0.4688\n",
      "95   170131  09:29:26.633    L    0.1094      0.3906       0.3281\n",
      "96   170131  09:29:27.102    R    0.2031      0.3750       0.2656\n",
      "..      ...           ...  ...       ...         ...          ...\n",
      "194  170131  15:05:45.758    L    0.2656      0.4531       0.2813\n",
      "195  170131  15:10:25.465    L    0.2070      0.7617       0.6133\n",
      "196  170131  15:10:27.055    R    0.1172      0.4727       0.3203\n",
      "197  170131  15:10:29.258    L    0.1836      0.5781       0.4180\n",
      "198  170131  15:11:02.410    L    0.1406      0.5078       0.3477\n",
      "\n",
      "[107 rows x 6 columns]\n"
     ]
    }
   ],
   "source": [
    "idx=grouped_data['Length'].idxmax() # jeśli jest odpowiednia liczba znakow\n",
    "new_rec=data2[data2['Date']==idx].copy()\n",
    "print(new_rec)"
   ]
  },
  {
   "cell_type": "code",
   "execution_count": 103,
   "metadata": {},
   "outputs": [
    {
     "data": {
      "text/html": [
       "<div>\n",
       "<style scoped>\n",
       "    .dataframe tbody tr th:only-of-type {\n",
       "        vertical-align: middle;\n",
       "    }\n",
       "\n",
       "    .dataframe tbody tr th {\n",
       "        vertical-align: top;\n",
       "    }\n",
       "\n",
       "    .dataframe thead th {\n",
       "        text-align: right;\n",
       "    }\n",
       "</style>\n",
       "<table border=\"1\" class=\"dataframe\">\n",
       "  <thead>\n",
       "    <tr style=\"text-align: right;\">\n",
       "      <th></th>\n",
       "      <th>Date</th>\n",
       "      <th>Timestamp</th>\n",
       "      <th>Hand</th>\n",
       "      <th>holdTime</th>\n",
       "      <th>flightTime</th>\n",
       "      <th>latencyTime</th>\n",
       "      <th>Length</th>\n",
       "    </tr>\n",
       "    <tr>\n",
       "      <th>Hour</th>\n",
       "      <th></th>\n",
       "      <th></th>\n",
       "      <th></th>\n",
       "      <th></th>\n",
       "      <th></th>\n",
       "      <th></th>\n",
       "      <th></th>\n",
       "    </tr>\n",
       "  </thead>\n",
       "  <tbody>\n",
       "    <tr>\n",
       "      <th>9</th>\n",
       "      <td>[170131, 170131, 170131, 170131, 170131, 17013...</td>\n",
       "      <td>[09:27:57.504, 09:28:04.770, 09:29:23.887, 09:...</td>\n",
       "      <td>[L, R, R, L, R, L, R, L, L, L, L, L, R, R, L, ...</td>\n",
       "      <td>[0.125, 0.18359999999999999, 0.1875, 0.1094000...</td>\n",
       "      <td>[0.5468999999999999, 0.4844, 0.5586, 0.3906, 0...</td>\n",
       "      <td>[0.3125, 0.3594, 0.4688, 0.3281, 0.2656, 0.578...</td>\n",
       "      <td>17</td>\n",
       "    </tr>\n",
       "    <tr>\n",
       "      <th>10</th>\n",
       "      <td>[170131, 170131, 170131, 170131, 170131, 17013...</td>\n",
       "      <td>[10:03:26.938, 10:03:27.656, 10:03:34.723, 10:...</td>\n",
       "      <td>[L, R, L, R, R, L, R, L, L, L, L, L, L, R, L, ...</td>\n",
       "      <td>[0.1875, 0.2031, 0.0625, 0.2305, 0.2813, 0.125...</td>\n",
       "      <td>[0.5468999999999999, 0.7031000000000001, 0.5, ...</td>\n",
       "      <td>[0.3594, 0.5156000000000001, 0.375, 0.2813, 0....</td>\n",
       "      <td>84</td>\n",
       "    </tr>\n",
       "    <tr>\n",
       "      <th>15</th>\n",
       "      <td>[170131, 170131, 170131, 170131, 170131, 170131]</td>\n",
       "      <td>[15:05:45.211, 15:05:45.758, 15:10:25.465, 15:...</td>\n",
       "      <td>[L, L, L, R, L, L]</td>\n",
       "      <td>[0.1719, 0.2656, 0.207, 0.1172, 0.183599999999...</td>\n",
       "      <td>[0.5117, 0.4531, 0.7617, 0.4727, 0.57810000000...</td>\n",
       "      <td>[0.3125, 0.2813, 0.6133, 0.32030000000000003, ...</td>\n",
       "      <td>6</td>\n",
       "    </tr>\n",
       "  </tbody>\n",
       "</table>\n",
       "</div>"
      ],
      "text/plain": [
       "                                                   Date  \\\n",
       "Hour                                                      \n",
       "9     [170131, 170131, 170131, 170131, 170131, 17013...   \n",
       "10    [170131, 170131, 170131, 170131, 170131, 17013...   \n",
       "15     [170131, 170131, 170131, 170131, 170131, 170131]   \n",
       "\n",
       "                                              Timestamp  \\\n",
       "Hour                                                      \n",
       "9     [09:27:57.504, 09:28:04.770, 09:29:23.887, 09:...   \n",
       "10    [10:03:26.938, 10:03:27.656, 10:03:34.723, 10:...   \n",
       "15    [15:05:45.211, 15:05:45.758, 15:10:25.465, 15:...   \n",
       "\n",
       "                                                   Hand  \\\n",
       "Hour                                                      \n",
       "9     [L, R, R, L, R, L, R, L, L, L, L, L, R, R, L, ...   \n",
       "10    [L, R, L, R, R, L, R, L, L, L, L, L, L, R, L, ...   \n",
       "15                                   [L, L, L, R, L, L]   \n",
       "\n",
       "                                               holdTime  \\\n",
       "Hour                                                      \n",
       "9     [0.125, 0.18359999999999999, 0.1875, 0.1094000...   \n",
       "10    [0.1875, 0.2031, 0.0625, 0.2305, 0.2813, 0.125...   \n",
       "15    [0.1719, 0.2656, 0.207, 0.1172, 0.183599999999...   \n",
       "\n",
       "                                             flightTime  \\\n",
       "Hour                                                      \n",
       "9     [0.5468999999999999, 0.4844, 0.5586, 0.3906, 0...   \n",
       "10    [0.5468999999999999, 0.7031000000000001, 0.5, ...   \n",
       "15    [0.5117, 0.4531, 0.7617, 0.4727, 0.57810000000...   \n",
       "\n",
       "                                            latencyTime  Length  \n",
       "Hour                                                             \n",
       "9     [0.3125, 0.3594, 0.4688, 0.3281, 0.2656, 0.578...      17  \n",
       "10    [0.3594, 0.5156000000000001, 0.375, 0.2813, 0....      84  \n",
       "15    [0.3125, 0.2813, 0.6133, 0.32030000000000003, ...       6  "
      ]
     },
     "execution_count": 103,
     "metadata": {},
     "output_type": "execute_result"
    }
   ],
   "source": [
    "new_rec['Hour'] = new_rec['Timestamp'].apply(lambda x: datetime.strptime(x,'%H:%M:%S.%f').hour)\n",
    "grouped_data = new_rec.groupby('Hour').agg(list)\n",
    "grouped_data['Length'] = grouped_data['Date'].apply(len) \n",
    "grouped_data"
   ]
  },
  {
   "cell_type": "code",
   "execution_count": 106,
   "metadata": {},
   "outputs": [
    {
     "data": {
      "text/html": [
       "<div>\n",
       "<style scoped>\n",
       "    .dataframe tbody tr th:only-of-type {\n",
       "        vertical-align: middle;\n",
       "    }\n",
       "\n",
       "    .dataframe tbody tr th {\n",
       "        vertical-align: top;\n",
       "    }\n",
       "\n",
       "    .dataframe thead th {\n",
       "        text-align: right;\n",
       "    }\n",
       "</style>\n",
       "<table border=\"1\" class=\"dataframe\">\n",
       "  <thead>\n",
       "    <tr style=\"text-align: right;\">\n",
       "      <th></th>\n",
       "      <th>index</th>\n",
       "      <th>Date</th>\n",
       "      <th>Timestamp</th>\n",
       "      <th>Hand</th>\n",
       "      <th>holdTime</th>\n",
       "      <th>flightTime</th>\n",
       "      <th>latencyTime</th>\n",
       "      <th>timeLapse</th>\n",
       "    </tr>\n",
       "  </thead>\n",
       "  <tbody>\n",
       "    <tr>\n",
       "      <th>5</th>\n",
       "      <td>114</td>\n",
       "      <td>170131</td>\n",
       "      <td>1900-01-01 10:03:48.121</td>\n",
       "      <td>L</td>\n",
       "      <td>0.1250</td>\n",
       "      <td>0.7461</td>\n",
       "      <td>0.5742</td>\n",
       "      <td>21.183</td>\n",
       "    </tr>\n",
       "    <tr>\n",
       "      <th>6</th>\n",
       "      <td>115</td>\n",
       "      <td>170131</td>\n",
       "      <td>1900-01-01 10:03:48.684</td>\n",
       "      <td>R</td>\n",
       "      <td>0.1719</td>\n",
       "      <td>0.5156</td>\n",
       "      <td>0.3906</td>\n",
       "      <td>21.746</td>\n",
       "    </tr>\n",
       "    <tr>\n",
       "      <th>7</th>\n",
       "      <td>116</td>\n",
       "      <td>170131</td>\n",
       "      <td>1900-01-01 10:03:48.934</td>\n",
       "      <td>L</td>\n",
       "      <td>0.1563</td>\n",
       "      <td>0.2656</td>\n",
       "      <td>0.0938</td>\n",
       "      <td>21.996</td>\n",
       "    </tr>\n",
       "    <tr>\n",
       "      <th>8</th>\n",
       "      <td>117</td>\n",
       "      <td>170131</td>\n",
       "      <td>1900-01-01 10:03:49.434</td>\n",
       "      <td>L</td>\n",
       "      <td>0.1563</td>\n",
       "      <td>0.5000</td>\n",
       "      <td>0.3438</td>\n",
       "      <td>22.496</td>\n",
       "    </tr>\n",
       "    <tr>\n",
       "      <th>9</th>\n",
       "      <td>118</td>\n",
       "      <td>170131</td>\n",
       "      <td>1900-01-01 10:03:57.922</td>\n",
       "      <td>L</td>\n",
       "      <td>0.1563</td>\n",
       "      <td>0.3125</td>\n",
       "      <td>0.2188</td>\n",
       "      <td>30.984</td>\n",
       "    </tr>\n",
       "    <tr>\n",
       "      <th>10</th>\n",
       "      <td>119</td>\n",
       "      <td>170131</td>\n",
       "      <td>1900-01-01 10:03:58.402</td>\n",
       "      <td>L</td>\n",
       "      <td>0.1563</td>\n",
       "      <td>0.4805</td>\n",
       "      <td>0.3242</td>\n",
       "      <td>31.464</td>\n",
       "    </tr>\n",
       "    <tr>\n",
       "      <th>11</th>\n",
       "      <td>120</td>\n",
       "      <td>170131</td>\n",
       "      <td>1900-01-01 10:04:18.434</td>\n",
       "      <td>L</td>\n",
       "      <td>0.1406</td>\n",
       "      <td>0.4688</td>\n",
       "      <td>0.3125</td>\n",
       "      <td>51.496</td>\n",
       "    </tr>\n",
       "    <tr>\n",
       "      <th>12</th>\n",
       "      <td>121</td>\n",
       "      <td>170131</td>\n",
       "      <td>1900-01-01 10:04:18.949</td>\n",
       "      <td>L</td>\n",
       "      <td>0.2500</td>\n",
       "      <td>0.4063</td>\n",
       "      <td>0.2656</td>\n",
       "      <td>52.011</td>\n",
       "    </tr>\n",
       "    <tr>\n",
       "      <th>13</th>\n",
       "      <td>122</td>\n",
       "      <td>170131</td>\n",
       "      <td>1900-01-01 10:04:19.246</td>\n",
       "      <td>R</td>\n",
       "      <td>0.2031</td>\n",
       "      <td>0.3438</td>\n",
       "      <td>0.0938</td>\n",
       "      <td>52.308</td>\n",
       "    </tr>\n",
       "    <tr>\n",
       "      <th>14</th>\n",
       "      <td>123</td>\n",
       "      <td>170131</td>\n",
       "      <td>1900-01-01 10:04:19.496</td>\n",
       "      <td>L</td>\n",
       "      <td>0.1875</td>\n",
       "      <td>0.2656</td>\n",
       "      <td>0.0625</td>\n",
       "      <td>52.558</td>\n",
       "    </tr>\n",
       "  </tbody>\n",
       "</table>\n",
       "</div>"
      ],
      "text/plain": [
       "    index    Date               Timestamp Hand  holdTime  flightTime  \\\n",
       "5     114  170131 1900-01-01 10:03:48.121    L    0.1250      0.7461   \n",
       "6     115  170131 1900-01-01 10:03:48.684    R    0.1719      0.5156   \n",
       "7     116  170131 1900-01-01 10:03:48.934    L    0.1563      0.2656   \n",
       "8     117  170131 1900-01-01 10:03:49.434    L    0.1563      0.5000   \n",
       "9     118  170131 1900-01-01 10:03:57.922    L    0.1563      0.3125   \n",
       "10    119  170131 1900-01-01 10:03:58.402    L    0.1563      0.4805   \n",
       "11    120  170131 1900-01-01 10:04:18.434    L    0.1406      0.4688   \n",
       "12    121  170131 1900-01-01 10:04:18.949    L    0.2500      0.4063   \n",
       "13    122  170131 1900-01-01 10:04:19.246    R    0.2031      0.3438   \n",
       "14    123  170131 1900-01-01 10:04:19.496    L    0.1875      0.2656   \n",
       "\n",
       "    latencyTime  timeLapse  \n",
       "5        0.5742     21.183  \n",
       "6        0.3906     21.746  \n",
       "7        0.0938     21.996  \n",
       "8        0.3438     22.496  \n",
       "9        0.2188     30.984  \n",
       "10       0.3242     31.464  \n",
       "11       0.3125     51.496  \n",
       "12       0.2656     52.011  \n",
       "13       0.0938     52.308  \n",
       "14       0.0625     52.558  "
      ]
     },
     "execution_count": 106,
     "metadata": {},
     "output_type": "execute_result"
    }
   ],
   "source": [
    "idx = grouped_data['Length'].idxmax()\n",
    "new_rec2 = new_rec[new_rec['Hour'] == idx].copy()\n",
    "new_rec2.drop('Hour', axis=1, inplace=True)\n",
    "new_rec2.reset_index(inplace=True)\n",
    "\n",
    "new_rec2['Timestamp'] = new_rec2['Timestamp'].apply(\n",
    "    lambda x: datetime.strptime(x, '%H:%M:%S.%f'))\n",
    "new_rec2['timeLapse'] = count_time_from_0(new_rec2)\n",
    "new_rec2.head()"
   ]
  },
  {
   "cell_type": "code",
   "execution_count": 55,
   "metadata": {},
   "outputs": [],
   "source": [
    "# 15-seconds non-overlapping time windows\n",
    "assumed_length = 360  # first condition\n",
    "# window_time = 15  # time width of window\n",
    "window_time = 20  # time width of window\n",
    "\n",
    "va, typi = feature_extract_method_2(new_rec2[1:], dynamic_feature='holdTime', time_feature='timeLapse',\n",
    "                              assumed_length=assumed_length, window_time=window_time)"
   ]
  },
  {
   "cell_type": "code",
   "execution_count": 56,
   "metadata": {},
   "outputs": [
    {
     "data": {
      "text/plain": [
       "array([6.36687869e-02, 6.56480295e-02, 1.25335190e-02, 1.34283033e-02,\n",
       "       4.93014211e-01, 1.11360861e+00, 4.66676025e-01, 6.26636452e-01,\n",
       "       1.07852205e+00, 1.81125749e+00, 1.84427271e+02])"
      ]
     },
     "execution_count": 56,
     "metadata": {},
     "output_type": "execute_result"
    }
   ],
   "source": [
    "va"
   ]
  },
  {
   "cell_type": "code",
   "execution_count": 58,
   "metadata": {},
   "outputs": [
    {
     "data": {
      "text/plain": [
       "101"
      ]
     },
     "execution_count": 58,
     "metadata": {},
     "output_type": "execute_result"
    }
   ],
   "source": [
    "len(new_rec2[(new_rec2['timeLapse'] > 0) & (new_rec2['timeLapse'] < 360)])"
   ]
  },
  {
   "cell_type": "code",
   "execution_count": 81,
   "metadata": {},
   "outputs": [
    {
     "data": {
      "text/html": [
       "<div>\n",
       "<style scoped>\n",
       "    .dataframe tbody tr th:only-of-type {\n",
       "        vertical-align: middle;\n",
       "    }\n",
       "\n",
       "    .dataframe tbody tr th {\n",
       "        vertical-align: top;\n",
       "    }\n",
       "\n",
       "    .dataframe thead th {\n",
       "        text-align: right;\n",
       "    }\n",
       "</style>\n",
       "<table border=\"1\" class=\"dataframe\">\n",
       "  <thead>\n",
       "    <tr style=\"text-align: right;\">\n",
       "      <th></th>\n",
       "      <th>Date</th>\n",
       "      <th>Timestamp</th>\n",
       "      <th>Hand</th>\n",
       "      <th>holdTime</th>\n",
       "      <th>flightTime</th>\n",
       "      <th>latencyTime</th>\n",
       "      <th>Length</th>\n",
       "    </tr>\n",
       "    <tr>\n",
       "      <th>Hour</th>\n",
       "      <th></th>\n",
       "      <th></th>\n",
       "      <th></th>\n",
       "      <th></th>\n",
       "      <th></th>\n",
       "      <th></th>\n",
       "      <th></th>\n",
       "    </tr>\n",
       "  </thead>\n",
       "  <tbody>\n",
       "    <tr>\n",
       "      <th>21</th>\n",
       "      <td>[160723, 160723, 160723, 160723, 160723, 16072...</td>\n",
       "      <td>[21:44:06.766, 21:44:07.758, 21:44:08.938, 21:...</td>\n",
       "      <td>[R, R, L, L, S, L, S, R, R, R, L, L, S, L, R, ...</td>\n",
       "      <td>[0.1172, 0.1172, 0.1016, 0.1328, 0.1406, 0.156...</td>\n",
       "      <td>[0.3359, 0.2344, 0.4375, 0.375, 0.4141, 0.2266...</td>\n",
       "      <td>[0.2031, 0.1328, 0.2813, 0.2734, 0.2813, 0.148...</td>\n",
       "      <td>149</td>\n",
       "    </tr>\n",
       "    <tr>\n",
       "      <th>22</th>\n",
       "      <td>[160723, 160723, 160723, 160723, 160723, 16072...</td>\n",
       "      <td>[22:03:33.711, 22:04:20.078, 22:04:22.180, 22:...</td>\n",
       "      <td>[L, L, L, S, L, S, L, L, S, L, S, L, L, L, L, ...</td>\n",
       "      <td>[0.1172, 0.1016, 0.10940000000000001, 0.1875, ...</td>\n",
       "      <td>[0.3359, 0.2813, 0.4375, 0.3438, 0.36719999999...</td>\n",
       "      <td>[0.1953, 0.1719, 0.3125, 0.2344, 0.2344, 0.335...</td>\n",
       "      <td>576</td>\n",
       "    </tr>\n",
       "    <tr>\n",
       "      <th>23</th>\n",
       "      <td>[160723, 160723, 160723, 160723, 160723, 16072...</td>\n",
       "      <td>[23:00:00.398, 23:00:00.672, 23:00:03.930, 23:...</td>\n",
       "      <td>[L, S, L, S, S, L, L, S, L, L, L, R, L, L, S, ...</td>\n",
       "      <td>[0.125, 0.15630000000000002, 0.1484, 0.1875, 0...</td>\n",
       "      <td>[0.4766, 0.2422, 0.36719999999999997, 0.3438, ...</td>\n",
       "      <td>[0.36719999999999997, 0.1172, 0.2656, 0.2109, ...</td>\n",
       "      <td>306</td>\n",
       "    </tr>\n",
       "  </tbody>\n",
       "</table>\n",
       "</div>"
      ],
      "text/plain": [
       "                                                   Date  \\\n",
       "Hour                                                      \n",
       "21    [160723, 160723, 160723, 160723, 160723, 16072...   \n",
       "22    [160723, 160723, 160723, 160723, 160723, 16072...   \n",
       "23    [160723, 160723, 160723, 160723, 160723, 16072...   \n",
       "\n",
       "                                              Timestamp  \\\n",
       "Hour                                                      \n",
       "21    [21:44:06.766, 21:44:07.758, 21:44:08.938, 21:...   \n",
       "22    [22:03:33.711, 22:04:20.078, 22:04:22.180, 22:...   \n",
       "23    [23:00:00.398, 23:00:00.672, 23:00:03.930, 23:...   \n",
       "\n",
       "                                                   Hand  \\\n",
       "Hour                                                      \n",
       "21    [R, R, L, L, S, L, S, R, R, R, L, L, S, L, R, ...   \n",
       "22    [L, L, L, S, L, S, L, L, S, L, S, L, L, L, L, ...   \n",
       "23    [L, S, L, S, S, L, L, S, L, L, L, R, L, L, S, ...   \n",
       "\n",
       "                                               holdTime  \\\n",
       "Hour                                                      \n",
       "21    [0.1172, 0.1172, 0.1016, 0.1328, 0.1406, 0.156...   \n",
       "22    [0.1172, 0.1016, 0.10940000000000001, 0.1875, ...   \n",
       "23    [0.125, 0.15630000000000002, 0.1484, 0.1875, 0...   \n",
       "\n",
       "                                             flightTime  \\\n",
       "Hour                                                      \n",
       "21    [0.3359, 0.2344, 0.4375, 0.375, 0.4141, 0.2266...   \n",
       "22    [0.3359, 0.2813, 0.4375, 0.3438, 0.36719999999...   \n",
       "23    [0.4766, 0.2422, 0.36719999999999997, 0.3438, ...   \n",
       "\n",
       "                                            latencyTime  Length  \n",
       "Hour                                                             \n",
       "21    [0.2031, 0.1328, 0.2813, 0.2734, 0.2813, 0.148...     149  \n",
       "22    [0.1953, 0.1719, 0.3125, 0.2344, 0.2344, 0.335...     576  \n",
       "23    [0.36719999999999997, 0.1172, 0.2656, 0.2109, ...     306  "
      ]
     },
     "execution_count": 81,
     "metadata": {},
     "output_type": "execute_result"
    }
   ],
   "source": [
    "grouped_data = data2.groupby('Date').agg(list)\n",
    "grouped_data['Length'] = grouped_data['Timestamp'].apply(len)\n",
    "\n",
    "idx = grouped_data['Length'].idxmax()\n",
    "ex_rec1 = data2[data2['Date'] == idx].copy()\n",
    "\n",
    "try:\n",
    "    ex_rec1['Hour'] = ex_rec1['Timestamp'].apply(\n",
    "        lambda x: datetime.strptime(x, '%H:%M:%S.%f').hour)\n",
    "except ValueError as ve:\n",
    "    # TO DO: check procedure of format in column, remove wrong values\n",
    "    print('Procedure')\n",
    "    temp = ex_rec1['Timestamp'].apply(lambda x: is_date_parsing(x))\n",
    "    ex_rec1.drop(ex_rec1[temp == False].index, inplace=True)\n",
    "    ex_rec1['Hour'] = ex_rec1['Timestamp'].apply(\n",
    "        lambda x: datetime.strptime(x, '%H:%M:%S.%f').hour)\n",
    "\n",
    "grouped_data = ex_rec1.groupby('Hour').agg(list)\n",
    "grouped_data['Length'] = grouped_data['Date'].apply(len)\n",
    "\n",
    "grouped_data"
   ]
  },
  {
   "cell_type": "code",
   "execution_count": null,
   "metadata": {},
   "outputs": [],
   "source": [
    "from sklearn.preprocessing import LabelEncoder\n",
    "labelencoder_y = LabelEncoder() #-> L or S or R\n",
    "y = labelencoder_y.fit_transform(y)"
   ]
  }
 ],
 "metadata": {
  "kernelspec": {
   "display_name": "base",
   "language": "python",
   "name": "python3"
  },
  "language_info": {
   "codemirror_mode": {
    "name": "ipython",
    "version": 3
   },
   "file_extension": ".py",
   "mimetype": "text/x-python",
   "name": "python",
   "nbconvert_exporter": "python",
   "pygments_lexer": "ipython3",
   "version": "3.8.15"
  },
  "orig_nbformat": 4,
  "vscode": {
   "interpreter": {
    "hash": "49cb93f377a7abe7414b7b0f21fb3017538004a126cf690fb524202736b7fb92"
   }
  }
 },
 "nbformat": 4,
 "nbformat_minor": 2
}
